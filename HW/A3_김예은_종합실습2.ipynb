{
 "cells": [
  {
   "cell_type": "markdown",
   "metadata": {
    "id": "aYCq9WLNXdA7"
   },
   "source": [
    "## 분석배경\n",
    "OO공장의 고객사에서 최근 들어 \"Scale 불량 발생 증가\"라는 이슈가 발생했다. 그 원인을 분석해 본 결과 압연공정에서 Scale불량이 급증한 것을 확인할 수 있었다. 그래서 데이터를 수집하여 다양한 분석을 통해 불량 발생의 근본 원인을 찾고 결과를 해석하여 개선 기회를 도출한다."
   ]
  },
  {
   "cell_type": "markdown",
   "metadata": {
    "id": "jYkcrfK7IrXK"
   },
   "source": [
    "## 패키지 불러오기"
   ]
  },
  {
   "cell_type": "code",
   "execution_count": 2,
   "metadata": {
    "id": "6LSAltQwCk8N"
   },
   "outputs": [],
   "source": [
    "import pandas as pd\n",
    "import numpy as np\n",
    "import matplotlib\n",
    "import matplotlib.pyplot as plt\n",
    "import seaborn as sns\n",
    "\n",
    "\n",
    "from sklearn.model_selection import train_test_split\n",
    "\n",
    "from sklearn.tree import export_graphviz\n",
    "import graphviz\n",
    "from sklearn.model_selection import train_test_split\n",
    "from sklearn.tree import DecisionTreeRegressor\n",
    "from sklearn.model_selection import GridSearchCV\n",
    "\n",
    "from sklearn.tree import DecisionTreeClassifier\n",
    "from sklearn.ensemble import RandomForestClassifier as RFC\n",
    "from sklearn.ensemble import GradientBoostingClassifier as GBC\n",
    "from sklearn.neural_network import MLPClassifier\n",
    "from sklearn.metrics import confusion_matrix\n",
    "\n",
    "import graphviz\n",
    "from sklearn.tree import export_graphviz\n",
    "from sklearn.model_selection import GridSearchCV\n"
   ]
  },
  {
   "cell_type": "code",
   "execution_count": 3,
   "metadata": {
    "id": "SqJkgDOiCk8O"
   },
   "outputs": [],
   "source": [
    "import matplotlib.pyplot as plt\n",
    "\n",
    "plt.rc('font', family='NanumGothic') "
   ]
  },
  {
   "cell_type": "markdown",
   "metadata": {
    "id": "eT5FFhZkTzND"
   },
   "source": [
    "## 데이터 불러오기"
   ]
  },
  {
   "cell_type": "code",
   "execution_count": 4,
   "metadata": {
    "colab": {
     "base_uri": "https://localhost:8080/"
    },
    "id": "NksYlTofDuva",
    "outputId": "34d44113-4277-4e27-8467-947d6199f5ca"
   },
   "outputs": [
    {
     "data": {
      "text/html": [
       "<div>\n",
       "<style scoped>\n",
       "    .dataframe tbody tr th:only-of-type {\n",
       "        vertical-align: middle;\n",
       "    }\n",
       "\n",
       "    .dataframe tbody tr th {\n",
       "        vertical-align: top;\n",
       "    }\n",
       "\n",
       "    .dataframe thead th {\n",
       "        text-align: right;\n",
       "    }\n",
       "</style>\n",
       "<table border=\"1\" class=\"dataframe\">\n",
       "  <thead>\n",
       "    <tr style=\"text-align: right;\">\n",
       "      <th></th>\n",
       "      <th>PLATE_NO</th>\n",
       "      <th>ROLLING_DATE</th>\n",
       "      <th>SCALE</th>\n",
       "      <th>SPEC</th>\n",
       "      <th>STEEL_KIND</th>\n",
       "      <th>PT_THK</th>\n",
       "      <th>PT_WDTH</th>\n",
       "      <th>PT_LTH</th>\n",
       "      <th>PT_WGT</th>\n",
       "      <th>FUR_NO</th>\n",
       "      <th>...</th>\n",
       "      <th>FUR_HZ_TEMP</th>\n",
       "      <th>FUR_HZ_TIME</th>\n",
       "      <th>FUR_SZ_TEMP</th>\n",
       "      <th>FUR_SZ_TIME</th>\n",
       "      <th>FUR_TIME</th>\n",
       "      <th>FUR_EXTEMP</th>\n",
       "      <th>ROLLING_TEMP_T5</th>\n",
       "      <th>HSB</th>\n",
       "      <th>ROLLING_DESCALING</th>\n",
       "      <th>WORK_GR</th>\n",
       "    </tr>\n",
       "  </thead>\n",
       "  <tbody>\n",
       "    <tr>\n",
       "      <th>0</th>\n",
       "      <td>PB562774</td>\n",
       "      <td>2008-08-01:00:00:15</td>\n",
       "      <td>양품</td>\n",
       "      <td>AB/EH32-TM</td>\n",
       "      <td>T1</td>\n",
       "      <td>32.25</td>\n",
       "      <td>3707</td>\n",
       "      <td>15109</td>\n",
       "      <td>14180</td>\n",
       "      <td>1호기</td>\n",
       "      <td>...</td>\n",
       "      <td>1144</td>\n",
       "      <td>116</td>\n",
       "      <td>1133</td>\n",
       "      <td>59</td>\n",
       "      <td>282</td>\n",
       "      <td>1133</td>\n",
       "      <td>934</td>\n",
       "      <td>적용</td>\n",
       "      <td>8</td>\n",
       "      <td>2조</td>\n",
       "    </tr>\n",
       "    <tr>\n",
       "      <th>1</th>\n",
       "      <td>PB562775</td>\n",
       "      <td>2008-08-01:00:00:16</td>\n",
       "      <td>양품</td>\n",
       "      <td>AB/EH32-TM</td>\n",
       "      <td>T1</td>\n",
       "      <td>32.25</td>\n",
       "      <td>3707</td>\n",
       "      <td>15109</td>\n",
       "      <td>14180</td>\n",
       "      <td>1호기</td>\n",
       "      <td>...</td>\n",
       "      <td>1144</td>\n",
       "      <td>122</td>\n",
       "      <td>1135</td>\n",
       "      <td>53</td>\n",
       "      <td>283</td>\n",
       "      <td>1135</td>\n",
       "      <td>937</td>\n",
       "      <td>적용</td>\n",
       "      <td>8</td>\n",
       "      <td>2조</td>\n",
       "    </tr>\n",
       "    <tr>\n",
       "      <th>2</th>\n",
       "      <td>PB562776</td>\n",
       "      <td>2008-08-01:00:00:59</td>\n",
       "      <td>양품</td>\n",
       "      <td>NV-E36-TM</td>\n",
       "      <td>T8</td>\n",
       "      <td>33.27</td>\n",
       "      <td>3619</td>\n",
       "      <td>19181</td>\n",
       "      <td>18130</td>\n",
       "      <td>2호기</td>\n",
       "      <td>...</td>\n",
       "      <td>1129</td>\n",
       "      <td>116</td>\n",
       "      <td>1121</td>\n",
       "      <td>55</td>\n",
       "      <td>282</td>\n",
       "      <td>1121</td>\n",
       "      <td>889</td>\n",
       "      <td>적용</td>\n",
       "      <td>8</td>\n",
       "      <td>3조</td>\n",
       "    </tr>\n",
       "    <tr>\n",
       "      <th>3</th>\n",
       "      <td>PB562777</td>\n",
       "      <td>2008-08-01:00:01:24</td>\n",
       "      <td>양품</td>\n",
       "      <td>NV-E36-TM</td>\n",
       "      <td>T8</td>\n",
       "      <td>33.27</td>\n",
       "      <td>3619</td>\n",
       "      <td>19181</td>\n",
       "      <td>18130</td>\n",
       "      <td>2호기</td>\n",
       "      <td>...</td>\n",
       "      <td>1152</td>\n",
       "      <td>125</td>\n",
       "      <td>1127</td>\n",
       "      <td>68</td>\n",
       "      <td>316</td>\n",
       "      <td>1127</td>\n",
       "      <td>885</td>\n",
       "      <td>적용</td>\n",
       "      <td>8</td>\n",
       "      <td>3조</td>\n",
       "    </tr>\n",
       "    <tr>\n",
       "      <th>4</th>\n",
       "      <td>PB562778</td>\n",
       "      <td>2008-08-01:00:01:44</td>\n",
       "      <td>양품</td>\n",
       "      <td>BV-EH36-TM</td>\n",
       "      <td>T8</td>\n",
       "      <td>38.33</td>\n",
       "      <td>3098</td>\n",
       "      <td>13334</td>\n",
       "      <td>12430</td>\n",
       "      <td>3호기</td>\n",
       "      <td>...</td>\n",
       "      <td>1140</td>\n",
       "      <td>134</td>\n",
       "      <td>1128</td>\n",
       "      <td>48</td>\n",
       "      <td>314</td>\n",
       "      <td>1128</td>\n",
       "      <td>873</td>\n",
       "      <td>적용</td>\n",
       "      <td>8</td>\n",
       "      <td>1조</td>\n",
       "    </tr>\n",
       "  </tbody>\n",
       "</table>\n",
       "<p>5 rows × 21 columns</p>\n",
       "</div>"
      ],
      "text/plain": [
       "   PLATE_NO         ROLLING_DATE SCALE        SPEC STEEL_KIND  PT_THK  \\\n",
       "0  PB562774  2008-08-01:00:00:15    양품  AB/EH32-TM         T1   32.25   \n",
       "1  PB562775  2008-08-01:00:00:16    양품  AB/EH32-TM         T1   32.25   \n",
       "2  PB562776  2008-08-01:00:00:59    양품   NV-E36-TM         T8   33.27   \n",
       "3  PB562777  2008-08-01:00:01:24    양품   NV-E36-TM         T8   33.27   \n",
       "4  PB562778  2008-08-01:00:01:44    양품  BV-EH36-TM         T8   38.33   \n",
       "\n",
       "   PT_WDTH  PT_LTH  PT_WGT FUR_NO  ...  FUR_HZ_TEMP  FUR_HZ_TIME  FUR_SZ_TEMP  \\\n",
       "0     3707   15109   14180    1호기  ...         1144          116         1133   \n",
       "1     3707   15109   14180    1호기  ...         1144          122         1135   \n",
       "2     3619   19181   18130    2호기  ...         1129          116         1121   \n",
       "3     3619   19181   18130    2호기  ...         1152          125         1127   \n",
       "4     3098   13334   12430    3호기  ...         1140          134         1128   \n",
       "\n",
       "   FUR_SZ_TIME  FUR_TIME  FUR_EXTEMP  ROLLING_TEMP_T5  HSB ROLLING_DESCALING  \\\n",
       "0           59       282        1133              934   적용                 8   \n",
       "1           53       283        1135              937   적용                 8   \n",
       "2           55       282        1121              889   적용                 8   \n",
       "3           68       316        1127              885   적용                 8   \n",
       "4           48       314        1128              873   적용                 8   \n",
       "\n",
       "   WORK_GR  \n",
       "0       2조  \n",
       "1       2조  \n",
       "2       3조  \n",
       "3       3조  \n",
       "4       1조  \n",
       "\n",
       "[5 rows x 21 columns]"
      ]
     },
     "execution_count": 4,
     "metadata": {},
     "output_type": "execute_result"
    }
   ],
   "source": [
    "df_raw = pd.read_csv('/home/piai/Downloads/SCALE불량.csv', encoding = 'EUC-KR')\n",
    "df_raw.head()"
   ]
  },
  {
   "cell_type": "markdown",
   "metadata": {
    "id": "sEV97h0KNs9L"
   },
   "source": [
    "* Scale 발생 : `없음 - 발생`\n",
    "    1. 작업시각('ROLLING_DATE)\n",
    "    2. 제품 규격(SPEC)\n",
    "    3. 강종(STEEL_KIND)\n",
    "    4. Plate 두께(PT_THICK) : `후 - 박`\n",
    "    5. Plate 폭(PT_WIDTH) : `좁음 - 넓음`\n",
    "    6. Plate 길이(PT_LENGTH) : `단 - 장`\n",
    "    7. Plate 중량(PT_WEIGHT) : `작음 - 큼`\n",
    "    8. 가열로 호기(FUR_NO)\n",
    "    9. 가열로 작업순번(FUR_NO_ROW)\n",
    "    10. 가열로 가열대 온도(FUR_HZ_TEMP) : `저 - 고`\n",
    "    11. 가열로 균열대 온도(FUR_SZ_TEMP) : `저 - 고`\n",
    "    12. 가열로 추출 온도(FUR_EXTEMP) : `저 - 고`\n",
    "    13. Hot Scale Breaker(HSB) : `적용 - 미적용`\n",
    "    14. 사상 압연 온도(ROLLING_TEMP_T5) : `저 - 고`\n",
    "    15. 압연간 Descaling 횟수(ROLLING_DESCALING) : `증가 - 감소`\n",
    "    16. 판두께(PT_THICK) : `후 - 박`\n",
    "    17. 가열로 가열대 시간(FUR_HZ_TEMP) : `단 - 장 `\n",
    "    18. 가열로 균열대 시간(FUR_SZ_TEMP) : `단 - 장`\n",
    "    19. 가열로 시간(FUR_TIME) : `단 - 장`\n",
    "    20. 작업조(WORK_GR)"
   ]
  },
  {
   "cell_type": "markdown",
   "metadata": {
    "id": "4uIC-In1T5a8"
   },
   "source": [
    "### 데이터 구성하기"
   ]
  },
  {
   "cell_type": "code",
   "execution_count": 5,
   "metadata": {
    "colab": {
     "base_uri": "https://localhost:8080/"
    },
    "id": "aZe79CHLCk8S",
    "outputId": "dd2e7d76-4f51-43f6-f16f-4eaf56eee6ea",
    "scrolled": true
   },
   "outputs": [
    {
     "name": "stdout",
     "output_type": "stream",
     "text": [
      "<class 'pandas.core.frame.DataFrame'>\n",
      "RangeIndex: 720 entries, 0 to 719\n",
      "Data columns (total 21 columns):\n",
      " #   Column             Non-Null Count  Dtype  \n",
      "---  ------             --------------  -----  \n",
      " 0   PLATE_NO           720 non-null    object \n",
      " 1   ROLLING_DATE       720 non-null    object \n",
      " 2   SCALE              720 non-null    object \n",
      " 3   SPEC               720 non-null    object \n",
      " 4   STEEL_KIND         720 non-null    object \n",
      " 5   PT_THK             720 non-null    float64\n",
      " 6   PT_WDTH            720 non-null    int64  \n",
      " 7   PT_LTH             720 non-null    int64  \n",
      " 8   PT_WGT             720 non-null    int64  \n",
      " 9   FUR_NO             720 non-null    object \n",
      " 10  FUR_NO_ROW         720 non-null    int64  \n",
      " 11  FUR_HZ_TEMP        720 non-null    int64  \n",
      " 12  FUR_HZ_TIME        720 non-null    int64  \n",
      " 13  FUR_SZ_TEMP        720 non-null    int64  \n",
      " 14  FUR_SZ_TIME        720 non-null    int64  \n",
      " 15  FUR_TIME           720 non-null    int64  \n",
      " 16  FUR_EXTEMP         720 non-null    int64  \n",
      " 17  ROLLING_TEMP_T5    720 non-null    int64  \n",
      " 18  HSB                720 non-null    object \n",
      " 19  ROLLING_DESCALING  720 non-null    int64  \n",
      " 20  WORK_GR            720 non-null    object \n",
      "dtypes: float64(1), int64(12), object(8)\n",
      "memory usage: 118.2+ KB\n"
     ]
    }
   ],
   "source": [
    "df_raw.info()"
   ]
  },
  {
   "cell_type": "code",
   "execution_count": 6,
   "metadata": {
    "colab": {
     "base_uri": "https://localhost:8080/"
    },
    "id": "ZbpWsyTtWIC1",
    "outputId": "72e67dde-4c03-4062-c387-2a21e846f539"
   },
   "outputs": [
    {
     "data": {
      "text/plain": [
       "JS-SM490YB     84\n",
       "LR-A           54\n",
       "NV-A           48\n",
       "PILAC-BT33     40\n",
       "BV-EH36-TM     35\n",
       "               ..\n",
       "NK-KA32-TM      1\n",
       "LR-EH32-TM      1\n",
       "BV-EH32-TM      1\n",
       "A131-DH36TM     1\n",
       "BV-AH36-TM      1\n",
       "Name: SPEC, Length: 66, dtype: int64"
      ]
     },
     "execution_count": 6,
     "metadata": {},
     "output_type": "execute_result"
    }
   ],
   "source": [
    "df_raw['SPEC'].value_counts()"
   ]
  },
  {
   "cell_type": "markdown",
   "metadata": {
    "id": "q47HFDFVWaN2"
   },
   "source": [
    "> 범주형 데이터인 SPEC에 66개의 label이 존재하므로 불량 생산에 영향을 주는 의미있는 결과를 얻어내기 어렵다고 판단하여  \n",
    "SPEC Column은 삭제하였다"
   ]
  },
  {
   "cell_type": "markdown",
   "metadata": {
    "id": "W6FDiYZpXj4z"
   },
   "source": [
    "> 불량품 생산에 영향력을 미치지 않는다고 판단되는 변수인 PLATE_NO(plate번호), ROLLING_DATE(작업시각)도 삭제하였다"
   ]
  },
  {
   "cell_type": "code",
   "execution_count": 7,
   "metadata": {
    "colab": {
     "base_uri": "https://localhost:8080/"
    },
    "id": "JpBNyhZCQWem",
    "outputId": "313b4b2e-3877-4a5e-d22b-eac7ae2f3981"
   },
   "outputs": [
    {
     "data": {
      "text/html": [
       "<div>\n",
       "<style scoped>\n",
       "    .dataframe tbody tr th:only-of-type {\n",
       "        vertical-align: middle;\n",
       "    }\n",
       "\n",
       "    .dataframe tbody tr th {\n",
       "        vertical-align: top;\n",
       "    }\n",
       "\n",
       "    .dataframe thead th {\n",
       "        text-align: right;\n",
       "    }\n",
       "</style>\n",
       "<table border=\"1\" class=\"dataframe\">\n",
       "  <thead>\n",
       "    <tr style=\"text-align: right;\">\n",
       "      <th></th>\n",
       "      <th>SCALE</th>\n",
       "      <th>STEEL_KIND</th>\n",
       "      <th>PT_THK</th>\n",
       "      <th>PT_WDTH</th>\n",
       "      <th>PT_LTH</th>\n",
       "      <th>PT_WGT</th>\n",
       "      <th>FUR_NO</th>\n",
       "      <th>FUR_NO_ROW</th>\n",
       "      <th>FUR_HZ_TEMP</th>\n",
       "      <th>FUR_HZ_TIME</th>\n",
       "      <th>FUR_SZ_TEMP</th>\n",
       "      <th>FUR_SZ_TIME</th>\n",
       "      <th>FUR_TIME</th>\n",
       "      <th>FUR_EXTEMP</th>\n",
       "      <th>ROLLING_TEMP_T5</th>\n",
       "      <th>HSB</th>\n",
       "      <th>ROLLING_DESCALING</th>\n",
       "      <th>WORK_GR</th>\n",
       "    </tr>\n",
       "  </thead>\n",
       "  <tbody>\n",
       "    <tr>\n",
       "      <th>0</th>\n",
       "      <td>양품</td>\n",
       "      <td>T1</td>\n",
       "      <td>32.25</td>\n",
       "      <td>3707</td>\n",
       "      <td>15109</td>\n",
       "      <td>14180</td>\n",
       "      <td>1호기</td>\n",
       "      <td>1</td>\n",
       "      <td>1144</td>\n",
       "      <td>116</td>\n",
       "      <td>1133</td>\n",
       "      <td>59</td>\n",
       "      <td>282</td>\n",
       "      <td>1133</td>\n",
       "      <td>934</td>\n",
       "      <td>적용</td>\n",
       "      <td>8</td>\n",
       "      <td>2조</td>\n",
       "    </tr>\n",
       "    <tr>\n",
       "      <th>1</th>\n",
       "      <td>양품</td>\n",
       "      <td>T1</td>\n",
       "      <td>32.25</td>\n",
       "      <td>3707</td>\n",
       "      <td>15109</td>\n",
       "      <td>14180</td>\n",
       "      <td>1호기</td>\n",
       "      <td>2</td>\n",
       "      <td>1144</td>\n",
       "      <td>122</td>\n",
       "      <td>1135</td>\n",
       "      <td>53</td>\n",
       "      <td>283</td>\n",
       "      <td>1135</td>\n",
       "      <td>937</td>\n",
       "      <td>적용</td>\n",
       "      <td>8</td>\n",
       "      <td>2조</td>\n",
       "    </tr>\n",
       "    <tr>\n",
       "      <th>2</th>\n",
       "      <td>양품</td>\n",
       "      <td>T8</td>\n",
       "      <td>33.27</td>\n",
       "      <td>3619</td>\n",
       "      <td>19181</td>\n",
       "      <td>18130</td>\n",
       "      <td>2호기</td>\n",
       "      <td>1</td>\n",
       "      <td>1129</td>\n",
       "      <td>116</td>\n",
       "      <td>1121</td>\n",
       "      <td>55</td>\n",
       "      <td>282</td>\n",
       "      <td>1121</td>\n",
       "      <td>889</td>\n",
       "      <td>적용</td>\n",
       "      <td>8</td>\n",
       "      <td>3조</td>\n",
       "    </tr>\n",
       "    <tr>\n",
       "      <th>3</th>\n",
       "      <td>양품</td>\n",
       "      <td>T8</td>\n",
       "      <td>33.27</td>\n",
       "      <td>3619</td>\n",
       "      <td>19181</td>\n",
       "      <td>18130</td>\n",
       "      <td>2호기</td>\n",
       "      <td>2</td>\n",
       "      <td>1152</td>\n",
       "      <td>125</td>\n",
       "      <td>1127</td>\n",
       "      <td>68</td>\n",
       "      <td>316</td>\n",
       "      <td>1127</td>\n",
       "      <td>885</td>\n",
       "      <td>적용</td>\n",
       "      <td>8</td>\n",
       "      <td>3조</td>\n",
       "    </tr>\n",
       "    <tr>\n",
       "      <th>4</th>\n",
       "      <td>양품</td>\n",
       "      <td>T8</td>\n",
       "      <td>38.33</td>\n",
       "      <td>3098</td>\n",
       "      <td>13334</td>\n",
       "      <td>12430</td>\n",
       "      <td>3호기</td>\n",
       "      <td>1</td>\n",
       "      <td>1140</td>\n",
       "      <td>134</td>\n",
       "      <td>1128</td>\n",
       "      <td>48</td>\n",
       "      <td>314</td>\n",
       "      <td>1128</td>\n",
       "      <td>873</td>\n",
       "      <td>적용</td>\n",
       "      <td>8</td>\n",
       "      <td>1조</td>\n",
       "    </tr>\n",
       "    <tr>\n",
       "      <th>...</th>\n",
       "      <td>...</td>\n",
       "      <td>...</td>\n",
       "      <td>...</td>\n",
       "      <td>...</td>\n",
       "      <td>...</td>\n",
       "      <td>...</td>\n",
       "      <td>...</td>\n",
       "      <td>...</td>\n",
       "      <td>...</td>\n",
       "      <td>...</td>\n",
       "      <td>...</td>\n",
       "      <td>...</td>\n",
       "      <td>...</td>\n",
       "      <td>...</td>\n",
       "      <td>...</td>\n",
       "      <td>...</td>\n",
       "      <td>...</td>\n",
       "      <td>...</td>\n",
       "    </tr>\n",
       "    <tr>\n",
       "      <th>715</th>\n",
       "      <td>불량</td>\n",
       "      <td>C0</td>\n",
       "      <td>20.14</td>\n",
       "      <td>3580</td>\n",
       "      <td>38639</td>\n",
       "      <td>21870</td>\n",
       "      <td>3호기</td>\n",
       "      <td>1</td>\n",
       "      <td>1172</td>\n",
       "      <td>72</td>\n",
       "      <td>1164</td>\n",
       "      <td>62</td>\n",
       "      <td>245</td>\n",
       "      <td>1164</td>\n",
       "      <td>1005</td>\n",
       "      <td>적용</td>\n",
       "      <td>8</td>\n",
       "      <td>2조</td>\n",
       "    </tr>\n",
       "    <tr>\n",
       "      <th>716</th>\n",
       "      <td>양품</td>\n",
       "      <td>C0</td>\n",
       "      <td>15.08</td>\n",
       "      <td>3212</td>\n",
       "      <td>48233</td>\n",
       "      <td>18340</td>\n",
       "      <td>2호기</td>\n",
       "      <td>1</td>\n",
       "      <td>1150</td>\n",
       "      <td>61</td>\n",
       "      <td>1169</td>\n",
       "      <td>61</td>\n",
       "      <td>238</td>\n",
       "      <td>1169</td>\n",
       "      <td>947</td>\n",
       "      <td>적용</td>\n",
       "      <td>10</td>\n",
       "      <td>1조</td>\n",
       "    </tr>\n",
       "    <tr>\n",
       "      <th>717</th>\n",
       "      <td>양품</td>\n",
       "      <td>C0</td>\n",
       "      <td>16.60</td>\n",
       "      <td>3441</td>\n",
       "      <td>43688</td>\n",
       "      <td>19590</td>\n",
       "      <td>2호기</td>\n",
       "      <td>2</td>\n",
       "      <td>1169</td>\n",
       "      <td>65</td>\n",
       "      <td>1163</td>\n",
       "      <td>77</td>\n",
       "      <td>247</td>\n",
       "      <td>1163</td>\n",
       "      <td>948</td>\n",
       "      <td>적용</td>\n",
       "      <td>10</td>\n",
       "      <td>4조</td>\n",
       "    </tr>\n",
       "    <tr>\n",
       "      <th>718</th>\n",
       "      <td>양품</td>\n",
       "      <td>C0</td>\n",
       "      <td>15.59</td>\n",
       "      <td>3363</td>\n",
       "      <td>48740</td>\n",
       "      <td>80240</td>\n",
       "      <td>3호기</td>\n",
       "      <td>2</td>\n",
       "      <td>1179</td>\n",
       "      <td>86</td>\n",
       "      <td>1163</td>\n",
       "      <td>45</td>\n",
       "      <td>243</td>\n",
       "      <td>1163</td>\n",
       "      <td>940</td>\n",
       "      <td>적용</td>\n",
       "      <td>10</td>\n",
       "      <td>2조</td>\n",
       "    </tr>\n",
       "    <tr>\n",
       "      <th>719</th>\n",
       "      <td>양품</td>\n",
       "      <td>C0</td>\n",
       "      <td>16.09</td>\n",
       "      <td>3400</td>\n",
       "      <td>54209</td>\n",
       "      <td>69840</td>\n",
       "      <td>3호기</td>\n",
       "      <td>1</td>\n",
       "      <td>1186</td>\n",
       "      <td>82</td>\n",
       "      <td>1169</td>\n",
       "      <td>45</td>\n",
       "      <td>239</td>\n",
       "      <td>1169</td>\n",
       "      <td>957</td>\n",
       "      <td>적용</td>\n",
       "      <td>10</td>\n",
       "      <td>2조</td>\n",
       "    </tr>\n",
       "  </tbody>\n",
       "</table>\n",
       "<p>720 rows × 18 columns</p>\n",
       "</div>"
      ],
      "text/plain": [
       "    SCALE STEEL_KIND  PT_THK  PT_WDTH  PT_LTH  PT_WGT FUR_NO  FUR_NO_ROW  \\\n",
       "0      양품         T1   32.25     3707   15109   14180    1호기           1   \n",
       "1      양품         T1   32.25     3707   15109   14180    1호기           2   \n",
       "2      양품         T8   33.27     3619   19181   18130    2호기           1   \n",
       "3      양품         T8   33.27     3619   19181   18130    2호기           2   \n",
       "4      양품         T8   38.33     3098   13334   12430    3호기           1   \n",
       "..    ...        ...     ...      ...     ...     ...    ...         ...   \n",
       "715    불량         C0   20.14     3580   38639   21870    3호기           1   \n",
       "716    양품         C0   15.08     3212   48233   18340    2호기           1   \n",
       "717    양품         C0   16.60     3441   43688   19590    2호기           2   \n",
       "718    양품         C0   15.59     3363   48740   80240    3호기           2   \n",
       "719    양품         C0   16.09     3400   54209   69840    3호기           1   \n",
       "\n",
       "     FUR_HZ_TEMP  FUR_HZ_TIME  FUR_SZ_TEMP  FUR_SZ_TIME  FUR_TIME  FUR_EXTEMP  \\\n",
       "0           1144          116         1133           59       282        1133   \n",
       "1           1144          122         1135           53       283        1135   \n",
       "2           1129          116         1121           55       282        1121   \n",
       "3           1152          125         1127           68       316        1127   \n",
       "4           1140          134         1128           48       314        1128   \n",
       "..           ...          ...          ...          ...       ...         ...   \n",
       "715         1172           72         1164           62       245        1164   \n",
       "716         1150           61         1169           61       238        1169   \n",
       "717         1169           65         1163           77       247        1163   \n",
       "718         1179           86         1163           45       243        1163   \n",
       "719         1186           82         1169           45       239        1169   \n",
       "\n",
       "     ROLLING_TEMP_T5 HSB  ROLLING_DESCALING WORK_GR  \n",
       "0                934  적용                  8      2조  \n",
       "1                937  적용                  8      2조  \n",
       "2                889  적용                  8      3조  \n",
       "3                885  적용                  8      3조  \n",
       "4                873  적용                  8      1조  \n",
       "..               ...  ..                ...     ...  \n",
       "715             1005  적용                  8      2조  \n",
       "716              947  적용                 10      1조  \n",
       "717              948  적용                 10      4조  \n",
       "718              940  적용                 10      2조  \n",
       "719              957  적용                 10      2조  \n",
       "\n",
       "[720 rows x 18 columns]"
      ]
     },
     "execution_count": 7,
     "metadata": {},
     "output_type": "execute_result"
    }
   ],
   "source": [
    "df_raw.drop(['PLATE_NO', 'ROLLING_DATE','SPEC'], axis = 1, inplace = False)"
   ]
  },
  {
   "cell_type": "code",
   "execution_count": 8,
   "metadata": {
    "colab": {
     "base_uri": "https://localhost:8080/"
    },
    "id": "SDn3RYTgCk8R",
    "outputId": "12b26884-8c05-4643-850a-512d5f15528f"
   },
   "outputs": [
    {
     "data": {
      "text/html": [
       "<div>\n",
       "<style scoped>\n",
       "    .dataframe tbody tr th:only-of-type {\n",
       "        vertical-align: middle;\n",
       "    }\n",
       "\n",
       "    .dataframe tbody tr th {\n",
       "        vertical-align: top;\n",
       "    }\n",
       "\n",
       "    .dataframe thead th {\n",
       "        text-align: right;\n",
       "    }\n",
       "</style>\n",
       "<table border=\"1\" class=\"dataframe\">\n",
       "  <thead>\n",
       "    <tr style=\"text-align: right;\">\n",
       "      <th></th>\n",
       "      <th>PT_THK</th>\n",
       "      <th>PT_WDTH</th>\n",
       "      <th>PT_LTH</th>\n",
       "      <th>PT_WGT</th>\n",
       "      <th>FUR_NO_ROW</th>\n",
       "      <th>FUR_HZ_TEMP</th>\n",
       "      <th>FUR_HZ_TIME</th>\n",
       "      <th>FUR_SZ_TEMP</th>\n",
       "      <th>FUR_SZ_TIME</th>\n",
       "      <th>FUR_TIME</th>\n",
       "      <th>FUR_EXTEMP</th>\n",
       "      <th>ROLLING_TEMP_T5</th>\n",
       "      <th>ROLLING_DESCALING</th>\n",
       "    </tr>\n",
       "  </thead>\n",
       "  <tbody>\n",
       "    <tr>\n",
       "      <th>count</th>\n",
       "      <td>720.000000</td>\n",
       "      <td>720.000000</td>\n",
       "      <td>720.000000</td>\n",
       "      <td>720.000000</td>\n",
       "      <td>720.000000</td>\n",
       "      <td>720.000000</td>\n",
       "      <td>720.000000</td>\n",
       "      <td>720.000000</td>\n",
       "      <td>720.000000</td>\n",
       "      <td>720.000000</td>\n",
       "      <td>720.000000</td>\n",
       "      <td>720.000000</td>\n",
       "      <td>720.000000</td>\n",
       "    </tr>\n",
       "    <tr>\n",
       "      <th>mean</th>\n",
       "      <td>29.267857</td>\n",
       "      <td>2807.127778</td>\n",
       "      <td>34323.269444</td>\n",
       "      <td>41481.777778</td>\n",
       "      <td>1.497222</td>\n",
       "      <td>1155.338889</td>\n",
       "      <td>88.527778</td>\n",
       "      <td>1149.666667</td>\n",
       "      <td>78.802778</td>\n",
       "      <td>300.563889</td>\n",
       "      <td>1149.666667</td>\n",
       "      <td>933.920833</td>\n",
       "      <td>8.319444</td>\n",
       "    </tr>\n",
       "    <tr>\n",
       "      <th>std</th>\n",
       "      <td>19.152651</td>\n",
       "      <td>517.839690</td>\n",
       "      <td>13828.434837</td>\n",
       "      <td>24751.322015</td>\n",
       "      <td>0.500340</td>\n",
       "      <td>20.866398</td>\n",
       "      <td>37.660799</td>\n",
       "      <td>17.571788</td>\n",
       "      <td>36.421004</td>\n",
       "      <td>45.390303</td>\n",
       "      <td>17.571788</td>\n",
       "      <td>107.863887</td>\n",
       "      <td>1.623252</td>\n",
       "    </tr>\n",
       "    <tr>\n",
       "      <th>min</th>\n",
       "      <td>12.030000</td>\n",
       "      <td>1800.000000</td>\n",
       "      <td>7893.000000</td>\n",
       "      <td>7820.000000</td>\n",
       "      <td>1.000000</td>\n",
       "      <td>1103.000000</td>\n",
       "      <td>43.000000</td>\n",
       "      <td>1113.000000</td>\n",
       "      <td>35.000000</td>\n",
       "      <td>221.000000</td>\n",
       "      <td>1113.000000</td>\n",
       "      <td>0.000000</td>\n",
       "      <td>5.000000</td>\n",
       "    </tr>\n",
       "    <tr>\n",
       "      <th>25%</th>\n",
       "      <td>16.090000</td>\n",
       "      <td>2466.000000</td>\n",
       "      <td>22663.000000</td>\n",
       "      <td>17757.500000</td>\n",
       "      <td>1.000000</td>\n",
       "      <td>1139.000000</td>\n",
       "      <td>65.000000</td>\n",
       "      <td>1132.000000</td>\n",
       "      <td>57.750000</td>\n",
       "      <td>257.000000</td>\n",
       "      <td>1132.000000</td>\n",
       "      <td>889.750000</td>\n",
       "      <td>6.000000</td>\n",
       "    </tr>\n",
       "    <tr>\n",
       "      <th>50%</th>\n",
       "      <td>20.130000</td>\n",
       "      <td>2725.000000</td>\n",
       "      <td>37380.000000</td>\n",
       "      <td>36120.000000</td>\n",
       "      <td>1.000000</td>\n",
       "      <td>1158.000000</td>\n",
       "      <td>75.000000</td>\n",
       "      <td>1155.000000</td>\n",
       "      <td>67.500000</td>\n",
       "      <td>304.000000</td>\n",
       "      <td>1155.000000</td>\n",
       "      <td>951.000000</td>\n",
       "      <td>8.000000</td>\n",
       "    </tr>\n",
       "    <tr>\n",
       "      <th>75%</th>\n",
       "      <td>40.000000</td>\n",
       "      <td>3125.000000</td>\n",
       "      <td>43735.000000</td>\n",
       "      <td>61120.000000</td>\n",
       "      <td>2.000000</td>\n",
       "      <td>1171.000000</td>\n",
       "      <td>101.000000</td>\n",
       "      <td>1164.000000</td>\n",
       "      <td>86.000000</td>\n",
       "      <td>342.000000</td>\n",
       "      <td>1164.000000</td>\n",
       "      <td>994.250000</td>\n",
       "      <td>10.000000</td>\n",
       "    </tr>\n",
       "    <tr>\n",
       "      <th>max</th>\n",
       "      <td>100.340000</td>\n",
       "      <td>4575.000000</td>\n",
       "      <td>54917.000000</td>\n",
       "      <td>115080.000000</td>\n",
       "      <td>2.000000</td>\n",
       "      <td>1206.000000</td>\n",
       "      <td>312.000000</td>\n",
       "      <td>1185.000000</td>\n",
       "      <td>294.000000</td>\n",
       "      <td>398.000000</td>\n",
       "      <td>1185.000000</td>\n",
       "      <td>1078.000000</td>\n",
       "      <td>10.000000</td>\n",
       "    </tr>\n",
       "  </tbody>\n",
       "</table>\n",
       "</div>"
      ],
      "text/plain": [
       "           PT_THK      PT_WDTH        PT_LTH         PT_WGT  FUR_NO_ROW  \\\n",
       "count  720.000000   720.000000    720.000000     720.000000  720.000000   \n",
       "mean    29.267857  2807.127778  34323.269444   41481.777778    1.497222   \n",
       "std     19.152651   517.839690  13828.434837   24751.322015    0.500340   \n",
       "min     12.030000  1800.000000   7893.000000    7820.000000    1.000000   \n",
       "25%     16.090000  2466.000000  22663.000000   17757.500000    1.000000   \n",
       "50%     20.130000  2725.000000  37380.000000   36120.000000    1.000000   \n",
       "75%     40.000000  3125.000000  43735.000000   61120.000000    2.000000   \n",
       "max    100.340000  4575.000000  54917.000000  115080.000000    2.000000   \n",
       "\n",
       "       FUR_HZ_TEMP  FUR_HZ_TIME  FUR_SZ_TEMP  FUR_SZ_TIME    FUR_TIME  \\\n",
       "count   720.000000   720.000000   720.000000   720.000000  720.000000   \n",
       "mean   1155.338889    88.527778  1149.666667    78.802778  300.563889   \n",
       "std      20.866398    37.660799    17.571788    36.421004   45.390303   \n",
       "min    1103.000000    43.000000  1113.000000    35.000000  221.000000   \n",
       "25%    1139.000000    65.000000  1132.000000    57.750000  257.000000   \n",
       "50%    1158.000000    75.000000  1155.000000    67.500000  304.000000   \n",
       "75%    1171.000000   101.000000  1164.000000    86.000000  342.000000   \n",
       "max    1206.000000   312.000000  1185.000000   294.000000  398.000000   \n",
       "\n",
       "        FUR_EXTEMP  ROLLING_TEMP_T5  ROLLING_DESCALING  \n",
       "count   720.000000       720.000000         720.000000  \n",
       "mean   1149.666667       933.920833           8.319444  \n",
       "std      17.571788       107.863887           1.623252  \n",
       "min    1113.000000         0.000000           5.000000  \n",
       "25%    1132.000000       889.750000           6.000000  \n",
       "50%    1155.000000       951.000000           8.000000  \n",
       "75%    1164.000000       994.250000          10.000000  \n",
       "max    1185.000000      1078.000000          10.000000  "
      ]
     },
     "execution_count": 8,
     "metadata": {},
     "output_type": "execute_result"
    }
   ],
   "source": [
    "df_raw.describe()"
   ]
  },
  {
   "cell_type": "markdown",
   "metadata": {
    "id": "KljVmqBcXvsa"
   },
   "source": [
    "### 결측치 및 이상치 처리"
   ]
  },
  {
   "cell_type": "code",
   "execution_count": 9,
   "metadata": {
    "colab": {
     "base_uri": "https://localhost:8080/"
    },
    "id": "6bOpGdNHCk8S",
    "outputId": "d2e62b2e-b91f-4188-c5e6-0b7480ee1b1e"
   },
   "outputs": [
    {
     "data": {
      "text/plain": [
       "PLATE_NO             0\n",
       "ROLLING_DATE         0\n",
       "SCALE                0\n",
       "SPEC                 0\n",
       "STEEL_KIND           0\n",
       "PT_THK               0\n",
       "PT_WDTH              0\n",
       "PT_LTH               0\n",
       "PT_WGT               0\n",
       "FUR_NO               0\n",
       "FUR_NO_ROW           0\n",
       "FUR_HZ_TEMP          0\n",
       "FUR_HZ_TIME          0\n",
       "FUR_SZ_TEMP          0\n",
       "FUR_SZ_TIME          0\n",
       "FUR_TIME             0\n",
       "FUR_EXTEMP           0\n",
       "ROLLING_TEMP_T5      0\n",
       "HSB                  0\n",
       "ROLLING_DESCALING    0\n",
       "WORK_GR              0\n",
       "dtype: int64"
      ]
     },
     "execution_count": 9,
     "metadata": {},
     "output_type": "execute_result"
    }
   ],
   "source": [
    "#결측치 없는 것으로 확인\n",
    "df_raw.isnull().sum(axis = 0)"
   ]
  },
  {
   "cell_type": "code",
   "execution_count": 10,
   "metadata": {
    "colab": {
     "base_uri": "https://localhost:8080/"
    },
    "id": "-PcXtLAUSWNO",
    "outputId": "8aefca4f-59b0-4ebe-e9a4-960a2996e59c"
   },
   "outputs": [
    {
     "data": {
      "text/plain": [
       "<matplotlib.axes._subplots.AxesSubplot at 0x7f63bf804fd0>"
      ]
     },
     "execution_count": 10,
     "metadata": {},
     "output_type": "execute_result"
    },
    {
     "data": {
      "image/png": "[encoded data removed]",
      "text/plain": [
       "<Figure size 1080x720 with 1 Axes>"
      ]
     },
     "metadata": {
      "needs_background": "light"
     },
     "output_type": "display_data"
    }
   ],
   "source": [
    "df_raw.boxplot(figsize = (15,10))"
   ]
  },
  {
   "cell_type": "code",
   "execution_count": 11,
   "metadata": {
    "colab": {
     "base_uri": "https://localhost:8080/"
    },
    "id": "Rjxt7f2_fhxj",
    "outputId": "0fc8f4f5-9074-4afe-811a-7f13964942f4"
   },
   "outputs": [
    {
     "data": {
      "text/plain": [
       "array([[<matplotlib.axes._subplots.AxesSubplot object at 0x7f63bebbdac0>,\n",
       "        <matplotlib.axes._subplots.AxesSubplot object at 0x7f63beb6c9a0>,\n",
       "        <matplotlib.axes._subplots.AxesSubplot object at 0x7f63bee92e50>,\n",
       "        <matplotlib.axes._subplots.AxesSubplot object at 0x7f63bee492e0>],\n",
       "       [<matplotlib.axes._subplots.AxesSubplot object at 0x7f63bedf9760>,\n",
       "        <matplotlib.axes._subplots.AxesSubplot object at 0x7f63bee23af0>,\n",
       "        <matplotlib.axes._subplots.AxesSubplot object at 0x7f63bee23be0>,\n",
       "        <matplotlib.axes._subplots.AxesSubplot object at 0x7f63bedde0d0>],\n",
       "       [<matplotlib.axes._subplots.AxesSubplot object at 0x7f63bedb4910>,\n",
       "        <matplotlib.axes._subplots.AxesSubplot object at 0x7f63bed61d60>,\n",
       "        <matplotlib.axes._subplots.AxesSubplot object at 0x7f63bed1d1f0>,\n",
       "        <matplotlib.axes._subplots.AxesSubplot object at 0x7f63becca670>],\n",
       "       [<matplotlib.axes._subplots.AxesSubplot object at 0x7f63becf6ac0>,\n",
       "        <matplotlib.axes._subplots.AxesSubplot object at 0x7f63beca5fd0>,\n",
       "        <matplotlib.axes._subplots.AxesSubplot object at 0x7f63bec4f520>,\n",
       "        <matplotlib.axes._subplots.AxesSubplot object at 0x7f63bebfb9a0>]],\n",
       "      dtype=object)"
      ]
     },
     "execution_count": 11,
     "metadata": {},
     "output_type": "execute_result"
    },
    {
     "data": {
      "image/png": "[encoded data removed]",
      "text/plain": [
       "<Figure size 1080x720 with 16 Axes>"
      ]
     },
     "metadata": {
      "needs_background": "light"
     },
     "output_type": "display_data"
    }
   ],
   "source": [
    "df_raw.hist(figsize = (15,10))"
   ]
  },
  {
   "cell_type": "markdown",
   "metadata": {
    "id": "qHfW7e_niSs8"
   },
   "source": [
    "> ROLLING_TEMP_T5 column에서의 이상치 확인.  \n",
    "이상치라고 판단한 이유 : 기술통계량과 히스토그램으로 데이터의 분포를 확인해본 결과 사상압연온도 데이터는 700~1000도 사이에 존재하며 압연을 하는 과정에서의 온도가 0도가 될 수는 없기 때문에 이를 이상치로 판단하고 삭제하는 과정을 진행한다\n",
    "\n",
    "> 또한 히스토그램 분석 결과, FUR_EXTEMP와 FUR_SZ_TEMP가 동일한 형태의 모양을 보이는 것으로 나타났다.  \n",
    "따라서 두 설명변수의 관계를 확인해 보도록 한다."
   ]
  },
  {
   "cell_type": "markdown",
   "metadata": {},
   "source": [
    "### ROLLING_TEMP_T5 이상치 제거"
   ]
  },
  {
   "cell_type": "code",
   "execution_count": 12,
   "metadata": {
    "colab": {
     "base_uri": "https://localhost:8080/"
    },
    "id": "tFHOxCXHiX3p",
    "outputId": "ffaab416-d59f-4e00-8fe0-ed033a42c257"
   },
   "outputs": [
    {
     "data": {
      "text/plain": [
       "<matplotlib.axes._subplots.AxesSubplot at 0x7f63be738bb0>"
      ]
     },
     "execution_count": 12,
     "metadata": {},
     "output_type": "execute_result"
    },
    {
     "data": {
      "image/png": "[encoded data removed]",
      "text/plain": [
       "<Figure size 432x288 with 1 Axes>"
      ]
     },
     "metadata": {
      "needs_background": "light"
     },
     "output_type": "display_data"
    }
   ],
   "source": [
    "df_raw.boxplot(['ROLLING_TEMP_T5'])"
   ]
  },
  {
   "cell_type": "code",
   "execution_count": 13,
   "metadata": {
    "id": "JwVd3eEQio1G"
   },
   "outputs": [],
   "source": [
    "##'ROLLING_TEMP_T5' 0인 값 제거\n",
    "\n",
    "df_raw = df_raw[df_raw.loc[:,'ROLLING_TEMP_T5'] != 0]"
   ]
  },
  {
   "cell_type": "code",
   "execution_count": 14,
   "metadata": {
    "colab": {
     "base_uri": "https://localhost:8080/"
    },
    "id": "pfeCZFq3i4L4",
    "outputId": "c9fb994f-573a-4971-89f3-adbeeffc6345"
   },
   "outputs": [
    {
     "data": {
      "text/html": [
       "<div>\n",
       "<style scoped>\n",
       "    .dataframe tbody tr th:only-of-type {\n",
       "        vertical-align: middle;\n",
       "    }\n",
       "\n",
       "    .dataframe tbody tr th {\n",
       "        vertical-align: top;\n",
       "    }\n",
       "\n",
       "    .dataframe thead th {\n",
       "        text-align: right;\n",
       "    }\n",
       "</style>\n",
       "<table border=\"1\" class=\"dataframe\">\n",
       "  <thead>\n",
       "    <tr style=\"text-align: right;\">\n",
       "      <th></th>\n",
       "      <th>PLATE_NO</th>\n",
       "      <th>ROLLING_DATE</th>\n",
       "      <th>SCALE</th>\n",
       "      <th>SPEC</th>\n",
       "      <th>STEEL_KIND</th>\n",
       "      <th>PT_THK</th>\n",
       "      <th>PT_WDTH</th>\n",
       "      <th>PT_LTH</th>\n",
       "      <th>PT_WGT</th>\n",
       "      <th>FUR_NO</th>\n",
       "      <th>...</th>\n",
       "      <th>FUR_HZ_TEMP</th>\n",
       "      <th>FUR_HZ_TIME</th>\n",
       "      <th>FUR_SZ_TEMP</th>\n",
       "      <th>FUR_SZ_TIME</th>\n",
       "      <th>FUR_TIME</th>\n",
       "      <th>FUR_EXTEMP</th>\n",
       "      <th>ROLLING_TEMP_T5</th>\n",
       "      <th>HSB</th>\n",
       "      <th>ROLLING_DESCALING</th>\n",
       "      <th>WORK_GR</th>\n",
       "    </tr>\n",
       "  </thead>\n",
       "  <tbody>\n",
       "  </tbody>\n",
       "</table>\n",
       "<p>0 rows × 21 columns</p>\n",
       "</div>"
      ],
      "text/plain": [
       "Empty DataFrame\n",
       "Columns: [PLATE_NO, ROLLING_DATE, SCALE, SPEC, STEEL_KIND, PT_THK, PT_WDTH, PT_LTH, PT_WGT, FUR_NO, FUR_NO_ROW, FUR_HZ_TEMP, FUR_HZ_TIME, FUR_SZ_TEMP, FUR_SZ_TIME, FUR_TIME, FUR_EXTEMP, ROLLING_TEMP_T5, HSB, ROLLING_DESCALING, WORK_GR]\n",
       "Index: []\n",
       "\n",
       "[0 rows x 21 columns]"
      ]
     },
     "execution_count": 14,
     "metadata": {},
     "output_type": "execute_result"
    }
   ],
   "source": [
    "df_raw[df_raw['ROLLING_TEMP_T5'] == 0]\n",
    "# 이상치 제거 완료"
   ]
  },
  {
   "cell_type": "markdown",
   "metadata": {},
   "source": [
    "### FUR_EXTEMP,  FUR_SZ_TEMP 비교"
   ]
  },
  {
   "cell_type": "code",
   "execution_count": 25,
   "metadata": {},
   "outputs": [
    {
     "data": {
      "text/plain": [
       "True    714\n",
       "dtype: int64"
      ]
     },
     "execution_count": 25,
     "metadata": {},
     "output_type": "execute_result"
    }
   ],
   "source": [
    "df_com = df_raw['FUR_EXTEMP'] == df_raw['FUR_SZ_TEMP']\n",
    "df_com.value_counts()"
   ]
  },
  {
   "cell_type": "markdown",
   "metadata": {},
   "source": [
    "> 두 설명변수를 확인해본 결과 FUR_EXTEMP와 FUR_SZ_TEMP가 동일한 것으로 나타났다.  \n",
    "따라서 두 변수 중 FUR_SZ_TEMP만 남기고 FUR_EXTEMP는 삭제한다"
   ]
  },
  {
   "cell_type": "code",
   "execution_count": 31,
   "metadata": {},
   "outputs": [],
   "source": [
    "df_raw.drop(['PLATE_NO', 'ROLLING_DATE','SPEC','FUR_EXTEMP'], axis = 1, inplace = True)"
   ]
  },
  {
   "cell_type": "code",
   "execution_count": 32,
   "metadata": {
    "colab": {
     "base_uri": "https://localhost:8080/"
    },
    "id": "qoVo0zNMkqJs",
    "outputId": "22095363-6bd7-423d-8e22-e0d215c93cbe"
   },
   "outputs": [
    {
     "data": {
      "text/plain": [
       "array([[<matplotlib.axes._subplots.AxesSubplot object at 0x7f63bd021fa0>,\n",
       "        <matplotlib.axes._subplots.AxesSubplot object at 0x7f63bcfddcd0>,\n",
       "        <matplotlib.axes._subplots.AxesSubplot object at 0x7f63bcf73160>],\n",
       "       [<matplotlib.axes._subplots.AxesSubplot object at 0x7f63bcf1b8b0>,\n",
       "        <matplotlib.axes._subplots.AxesSubplot object at 0x7f63bcec60d0>,\n",
       "        <matplotlib.axes._subplots.AxesSubplot object at 0x7f63bcefa730>],\n",
       "       [<matplotlib.axes._subplots.AxesSubplot object at 0x7f63bcefa820>,\n",
       "        <matplotlib.axes._subplots.AxesSubplot object at 0x7f63bceaf040>,\n",
       "        <matplotlib.axes._subplots.AxesSubplot object at 0x7f63bce03eb0>],\n",
       "       [<matplotlib.axes._subplots.AxesSubplot object at 0x7f63bce39670>,\n",
       "        <matplotlib.axes._subplots.AxesSubplot object at 0x7f63bcde3df0>,\n",
       "        <matplotlib.axes._subplots.AxesSubplot object at 0x7f63bcd975b0>]],\n",
       "      dtype=object)"
      ]
     },
     "execution_count": 32,
     "metadata": {},
     "output_type": "execute_result"
    },
    {
     "data": {
      "image/png": "[encoded data removed]",
      "text/plain": [
       "<Figure size 1080x720 with 12 Axes>"
      ]
     },
     "metadata": {
      "needs_background": "light"
     },
     "output_type": "display_data"
    }
   ],
   "source": [
    "#히스토그램 재확인\n",
    "df_raw.hist(figsize = (15,10))"
   ]
  },
  {
   "cell_type": "markdown",
   "metadata": {
    "id": "oythjH_5XP8j"
   },
   "source": [
    "### FUR_NO_ROW(가열로 작업순번) 범주형 변수로 변환 (1,2로 구성)\n",
    "> 작업순번의 데이터가 1,2 두가지로 나뉘어져 있어 기존 연속형으로 되어있던 데이터 타입을 obeject로 변환하였다"
   ]
  },
  {
   "cell_type": "code",
   "execution_count": 33,
   "metadata": {
    "colab": {
     "base_uri": "https://localhost:8080/"
    },
    "id": "hfCXb4rZQ0gi",
    "outputId": "1b092b54-5230-4166-8fd5-8992bca259d3"
   },
   "outputs": [
    {
     "data": {
      "text/plain": [
       "1    359\n",
       "2    355\n",
       "Name: FUR_NO_ROW, dtype: int64"
      ]
     },
     "execution_count": 33,
     "metadata": {},
     "output_type": "execute_result"
    }
   ],
   "source": [
    "df_raw['FUR_NO_ROW'].value_counts()"
   ]
  },
  {
   "cell_type": "code",
   "execution_count": 34,
   "metadata": {
    "id": "PQiUqDiTSXiM"
   },
   "outputs": [],
   "source": [
    "df_raw['FUR_NO_ROW'] = df_raw['FUR_NO_ROW'].astype('object')"
   ]
  },
  {
   "cell_type": "code",
   "execution_count": 35,
   "metadata": {
    "colab": {
     "base_uri": "https://localhost:8080/"
    },
    "id": "DkY9rW4tTcJc",
    "outputId": "d80b26cd-59b5-4a35-e8eb-c0a326f91b3b"
   },
   "outputs": [
    {
     "name": "stdout",
     "output_type": "stream",
     "text": [
      "<class 'pandas.core.frame.DataFrame'>\n",
      "Int64Index: 714 entries, 0 to 719\n",
      "Data columns (total 17 columns):\n",
      " #   Column             Non-Null Count  Dtype  \n",
      "---  ------             --------------  -----  \n",
      " 0   SCALE              714 non-null    object \n",
      " 1   STEEL_KIND         714 non-null    object \n",
      " 2   PT_THK             714 non-null    float64\n",
      " 3   PT_WDTH            714 non-null    int64  \n",
      " 4   PT_LTH             714 non-null    int64  \n",
      " 5   PT_WGT             714 non-null    int64  \n",
      " 6   FUR_NO             714 non-null    object \n",
      " 7   FUR_NO_ROW         714 non-null    object \n",
      " 8   FUR_HZ_TEMP        714 non-null    int64  \n",
      " 9   FUR_HZ_TIME        714 non-null    int64  \n",
      " 10  FUR_SZ_TEMP        714 non-null    int64  \n",
      " 11  FUR_SZ_TIME        714 non-null    int64  \n",
      " 12  FUR_TIME           714 non-null    int64  \n",
      " 13  ROLLING_TEMP_T5    714 non-null    int64  \n",
      " 14  HSB                714 non-null    object \n",
      " 15  ROLLING_DESCALING  714 non-null    int64  \n",
      " 16  WORK_GR            714 non-null    object \n",
      "dtypes: float64(1), int64(10), object(6)\n",
      "memory usage: 100.4+ KB\n"
     ]
    }
   ],
   "source": [
    "df_raw.info()"
   ]
  },
  {
   "cell_type": "code",
   "execution_count": 36,
   "metadata": {
    "colab": {
     "base_uri": "https://localhost:8080/"
    },
    "id": "LDgbG_0FYxYF",
    "outputId": "29b7e864-ffb8-4b17-ae04-ed8f796f85a8"
   },
   "outputs": [
    {
     "data": {
      "text/html": [
       "<div>\n",
       "<style scoped>\n",
       "    .dataframe tbody tr th:only-of-type {\n",
       "        vertical-align: middle;\n",
       "    }\n",
       "\n",
       "    .dataframe tbody tr th {\n",
       "        vertical-align: top;\n",
       "    }\n",
       "\n",
       "    .dataframe thead th {\n",
       "        text-align: right;\n",
       "    }\n",
       "</style>\n",
       "<table border=\"1\" class=\"dataframe\">\n",
       "  <thead>\n",
       "    <tr style=\"text-align: right;\">\n",
       "      <th></th>\n",
       "      <th>PT_THK</th>\n",
       "      <th>PT_WDTH</th>\n",
       "      <th>PT_LTH</th>\n",
       "      <th>PT_WGT</th>\n",
       "      <th>FUR_HZ_TEMP</th>\n",
       "      <th>FUR_HZ_TIME</th>\n",
       "      <th>FUR_SZ_TEMP</th>\n",
       "      <th>FUR_SZ_TIME</th>\n",
       "      <th>FUR_TIME</th>\n",
       "      <th>ROLLING_TEMP_T5</th>\n",
       "      <th>ROLLING_DESCALING</th>\n",
       "    </tr>\n",
       "  </thead>\n",
       "  <tbody>\n",
       "    <tr>\n",
       "      <th>count</th>\n",
       "      <td>714.000000</td>\n",
       "      <td>714.000000</td>\n",
       "      <td>714.000000</td>\n",
       "      <td>714.000000</td>\n",
       "      <td>714.000000</td>\n",
       "      <td>714.000000</td>\n",
       "      <td>714.000000</td>\n",
       "      <td>714.000000</td>\n",
       "      <td>714.000000</td>\n",
       "      <td>714.000000</td>\n",
       "      <td>714.000000</td>\n",
       "    </tr>\n",
       "    <tr>\n",
       "      <th>mean</th>\n",
       "      <td>29.108091</td>\n",
       "      <td>2809.885154</td>\n",
       "      <td>34404.029412</td>\n",
       "      <td>41506.078431</td>\n",
       "      <td>1155.459384</td>\n",
       "      <td>88.563025</td>\n",
       "      <td>1149.774510</td>\n",
       "      <td>78.899160</td>\n",
       "      <td>300.183473</td>\n",
       "      <td>941.768908</td>\n",
       "      <td>8.327731</td>\n",
       "    </tr>\n",
       "    <tr>\n",
       "      <th>std</th>\n",
       "      <td>18.994878</td>\n",
       "      <td>516.293303</td>\n",
       "      <td>13799.227159</td>\n",
       "      <td>24799.277300</td>\n",
       "      <td>20.844557</td>\n",
       "      <td>37.780529</td>\n",
       "      <td>17.508271</td>\n",
       "      <td>36.551271</td>\n",
       "      <td>45.297442</td>\n",
       "      <td>65.810993</td>\n",
       "      <td>1.618317</td>\n",
       "    </tr>\n",
       "    <tr>\n",
       "      <th>min</th>\n",
       "      <td>12.030000</td>\n",
       "      <td>1800.000000</td>\n",
       "      <td>7893.000000</td>\n",
       "      <td>7820.000000</td>\n",
       "      <td>1103.000000</td>\n",
       "      <td>43.000000</td>\n",
       "      <td>1113.000000</td>\n",
       "      <td>35.000000</td>\n",
       "      <td>221.000000</td>\n",
       "      <td>723.000000</td>\n",
       "      <td>5.000000</td>\n",
       "    </tr>\n",
       "    <tr>\n",
       "      <th>25%</th>\n",
       "      <td>16.090000</td>\n",
       "      <td>2469.000000</td>\n",
       "      <td>22664.500000</td>\n",
       "      <td>17780.000000</td>\n",
       "      <td>1139.000000</td>\n",
       "      <td>65.000000</td>\n",
       "      <td>1133.000000</td>\n",
       "      <td>57.000000</td>\n",
       "      <td>257.000000</td>\n",
       "      <td>891.000000</td>\n",
       "      <td>7.000000</td>\n",
       "    </tr>\n",
       "    <tr>\n",
       "      <th>50%</th>\n",
       "      <td>20.130000</td>\n",
       "      <td>2727.500000</td>\n",
       "      <td>37380.000000</td>\n",
       "      <td>36090.000000</td>\n",
       "      <td>1158.000000</td>\n",
       "      <td>74.500000</td>\n",
       "      <td>1155.000000</td>\n",
       "      <td>68.000000</td>\n",
       "      <td>304.000000</td>\n",
       "      <td>952.000000</td>\n",
       "      <td>8.000000</td>\n",
       "    </tr>\n",
       "    <tr>\n",
       "      <th>75%</th>\n",
       "      <td>38.430000</td>\n",
       "      <td>3125.000000</td>\n",
       "      <td>43771.750000</td>\n",
       "      <td>61120.000000</td>\n",
       "      <td>1171.000000</td>\n",
       "      <td>101.000000</td>\n",
       "      <td>1164.000000</td>\n",
       "      <td>86.000000</td>\n",
       "      <td>342.000000</td>\n",
       "      <td>995.000000</td>\n",
       "      <td>10.000000</td>\n",
       "    </tr>\n",
       "    <tr>\n",
       "      <th>max</th>\n",
       "      <td>100.340000</td>\n",
       "      <td>4575.000000</td>\n",
       "      <td>54917.000000</td>\n",
       "      <td>115080.000000</td>\n",
       "      <td>1206.000000</td>\n",
       "      <td>312.000000</td>\n",
       "      <td>1185.000000</td>\n",
       "      <td>294.000000</td>\n",
       "      <td>398.000000</td>\n",
       "      <td>1078.000000</td>\n",
       "      <td>10.000000</td>\n",
       "    </tr>\n",
       "  </tbody>\n",
       "</table>\n",
       "</div>"
      ],
      "text/plain": [
       "           PT_THK      PT_WDTH        PT_LTH         PT_WGT  FUR_HZ_TEMP  \\\n",
       "count  714.000000   714.000000    714.000000     714.000000   714.000000   \n",
       "mean    29.108091  2809.885154  34404.029412   41506.078431  1155.459384   \n",
       "std     18.994878   516.293303  13799.227159   24799.277300    20.844557   \n",
       "min     12.030000  1800.000000   7893.000000    7820.000000  1103.000000   \n",
       "25%     16.090000  2469.000000  22664.500000   17780.000000  1139.000000   \n",
       "50%     20.130000  2727.500000  37380.000000   36090.000000  1158.000000   \n",
       "75%     38.430000  3125.000000  43771.750000   61120.000000  1171.000000   \n",
       "max    100.340000  4575.000000  54917.000000  115080.000000  1206.000000   \n",
       "\n",
       "       FUR_HZ_TIME  FUR_SZ_TEMP  FUR_SZ_TIME    FUR_TIME  ROLLING_TEMP_T5  \\\n",
       "count   714.000000   714.000000   714.000000  714.000000       714.000000   \n",
       "mean     88.563025  1149.774510    78.899160  300.183473       941.768908   \n",
       "std      37.780529    17.508271    36.551271   45.297442        65.810993   \n",
       "min      43.000000  1113.000000    35.000000  221.000000       723.000000   \n",
       "25%      65.000000  1133.000000    57.000000  257.000000       891.000000   \n",
       "50%      74.500000  1155.000000    68.000000  304.000000       952.000000   \n",
       "75%     101.000000  1164.000000    86.000000  342.000000       995.000000   \n",
       "max     312.000000  1185.000000   294.000000  398.000000      1078.000000   \n",
       "\n",
       "       ROLLING_DESCALING  \n",
       "count         714.000000  \n",
       "mean            8.327731  \n",
       "std             1.618317  \n",
       "min             5.000000  \n",
       "25%             7.000000  \n",
       "50%             8.000000  \n",
       "75%            10.000000  \n",
       "max            10.000000  "
      ]
     },
     "execution_count": 36,
     "metadata": {},
     "output_type": "execute_result"
    }
   ],
   "source": [
    "df_raw.describe()"
   ]
  },
  {
   "cell_type": "markdown",
   "metadata": {
    "id": "t07Rhubqk-Yk"
   },
   "source": [
    "## 탐색적 분석"
   ]
  },
  {
   "cell_type": "markdown",
   "metadata": {
    "id": "0JoCUJ24lDdw"
   },
   "source": [
    "### 히스토그램으로 연속형 변수들과 목표변수의 관계 확인"
   ]
  },
  {
   "cell_type": "code",
   "execution_count": 37,
   "metadata": {
    "colab": {
     "base_uri": "https://localhost:8080/"
    },
    "id": "rvp-NZOoCk8V",
    "outputId": "681672ed-0021-4f66-b1bc-0ce9e770d8f0"
   },
   "outputs": [
    {
     "data": {
      "text/plain": [
       "0    0\n",
       "1    0\n",
       "2    0\n",
       "3    0\n",
       "4    0\n",
       "Name: SCALE, dtype: int64"
      ]
     },
     "execution_count": 37,
     "metadata": {},
     "output_type": "execute_result"
    }
   ],
   "source": [
    "#scale 변수 값 0,1 이라는 숫자형태의 label 로 변환\n",
    "df_raw['SCALE'] = np.where(df_raw['SCALE'] == '양품', 0 ,1 )\n",
    "df_raw['SCALE'].head()"
   ]
  },
  {
   "cell_type": "code",
   "execution_count": 38,
   "metadata": {
    "colab": {
     "base_uri": "https://localhost:8080/"
    },
    "id": "kj_HkBsAhPnj",
    "outputId": "8c96dfea-e62c-47b8-9a09-67c2543257c8"
   },
   "outputs": [
    {
     "data": {
      "text/plain": [
       "(714, 12)"
      ]
     },
     "execution_count": 38,
     "metadata": {},
     "output_type": "execute_result"
    }
   ],
   "source": [
    "#연속형 변수들만 추출하여 저장\n",
    "df_raw_numeric = df_raw.select_dtypes(exclude = 'object')\n",
    "df_raw_numeric.shape"
   ]
  },
  {
   "cell_type": "code",
   "execution_count": 39,
   "metadata": {
    "colab": {
     "base_uri": "https://localhost:8080/"
    },
    "id": "opMD9Dw7hV7I",
    "outputId": "d2bf1439-dfd2-4d5c-8c1f-087532611fc2"
   },
   "outputs": [
    {
     "data": {
      "text/html": [
       "<div>\n",
       "<style scoped>\n",
       "    .dataframe tbody tr th:only-of-type {\n",
       "        vertical-align: middle;\n",
       "    }\n",
       "\n",
       "    .dataframe tbody tr th {\n",
       "        vertical-align: top;\n",
       "    }\n",
       "\n",
       "    .dataframe thead th {\n",
       "        text-align: right;\n",
       "    }\n",
       "</style>\n",
       "<table border=\"1\" class=\"dataframe\">\n",
       "  <thead>\n",
       "    <tr style=\"text-align: right;\">\n",
       "      <th></th>\n",
       "      <th>PT_THK</th>\n",
       "      <th>PT_WDTH</th>\n",
       "      <th>PT_LTH</th>\n",
       "      <th>PT_WGT</th>\n",
       "      <th>FUR_HZ_TEMP</th>\n",
       "      <th>FUR_HZ_TIME</th>\n",
       "      <th>FUR_SZ_TEMP</th>\n",
       "      <th>FUR_SZ_TIME</th>\n",
       "      <th>FUR_TIME</th>\n",
       "      <th>ROLLING_TEMP_T5</th>\n",
       "      <th>ROLLING_DESCALING</th>\n",
       "    </tr>\n",
       "  </thead>\n",
       "  <tbody>\n",
       "    <tr>\n",
       "      <th>0</th>\n",
       "      <td>32.25</td>\n",
       "      <td>3707</td>\n",
       "      <td>15109</td>\n",
       "      <td>14180</td>\n",
       "      <td>1144</td>\n",
       "      <td>116</td>\n",
       "      <td>1133</td>\n",
       "      <td>59</td>\n",
       "      <td>282</td>\n",
       "      <td>934</td>\n",
       "      <td>8</td>\n",
       "    </tr>\n",
       "    <tr>\n",
       "      <th>1</th>\n",
       "      <td>32.25</td>\n",
       "      <td>3707</td>\n",
       "      <td>15109</td>\n",
       "      <td>14180</td>\n",
       "      <td>1144</td>\n",
       "      <td>122</td>\n",
       "      <td>1135</td>\n",
       "      <td>53</td>\n",
       "      <td>283</td>\n",
       "      <td>937</td>\n",
       "      <td>8</td>\n",
       "    </tr>\n",
       "    <tr>\n",
       "      <th>2</th>\n",
       "      <td>33.27</td>\n",
       "      <td>3619</td>\n",
       "      <td>19181</td>\n",
       "      <td>18130</td>\n",
       "      <td>1129</td>\n",
       "      <td>116</td>\n",
       "      <td>1121</td>\n",
       "      <td>55</td>\n",
       "      <td>282</td>\n",
       "      <td>889</td>\n",
       "      <td>8</td>\n",
       "    </tr>\n",
       "    <tr>\n",
       "      <th>3</th>\n",
       "      <td>33.27</td>\n",
       "      <td>3619</td>\n",
       "      <td>19181</td>\n",
       "      <td>18130</td>\n",
       "      <td>1152</td>\n",
       "      <td>125</td>\n",
       "      <td>1127</td>\n",
       "      <td>68</td>\n",
       "      <td>316</td>\n",
       "      <td>885</td>\n",
       "      <td>8</td>\n",
       "    </tr>\n",
       "    <tr>\n",
       "      <th>4</th>\n",
       "      <td>38.33</td>\n",
       "      <td>3098</td>\n",
       "      <td>13334</td>\n",
       "      <td>12430</td>\n",
       "      <td>1140</td>\n",
       "      <td>134</td>\n",
       "      <td>1128</td>\n",
       "      <td>48</td>\n",
       "      <td>314</td>\n",
       "      <td>873</td>\n",
       "      <td>8</td>\n",
       "    </tr>\n",
       "  </tbody>\n",
       "</table>\n",
       "</div>"
      ],
      "text/plain": [
       "   PT_THK  PT_WDTH  PT_LTH  PT_WGT  FUR_HZ_TEMP  FUR_HZ_TIME  FUR_SZ_TEMP  \\\n",
       "0   32.25     3707   15109   14180         1144          116         1133   \n",
       "1   32.25     3707   15109   14180         1144          122         1135   \n",
       "2   33.27     3619   19181   18130         1129          116         1121   \n",
       "3   33.27     3619   19181   18130         1152          125         1127   \n",
       "4   38.33     3098   13334   12430         1140          134         1128   \n",
       "\n",
       "   FUR_SZ_TIME  FUR_TIME  ROLLING_TEMP_T5  ROLLING_DESCALING  \n",
       "0           59       282              934                  8  \n",
       "1           53       283              937                  8  \n",
       "2           55       282              889                  8  \n",
       "3           68       316              885                  8  \n",
       "4           48       314              873                  8  "
      ]
     },
     "execution_count": 39,
     "metadata": {},
     "output_type": "execute_result"
    }
   ],
   "source": [
    "df_raw_numeric_x = df_raw_numeric.drop(\"SCALE\", axis = 1)\n",
    "df_raw_numeric_y = df_raw_numeric[\"SCALE\"]\n",
    "df_raw_numeric_x.head()"
   ]
  },
  {
   "cell_type": "code",
   "execution_count": 44,
   "metadata": {
    "colab": {
     "base_uri": "https://localhost:8080/"
    },
    "id": "7GAca7yUaW8m",
    "outputId": "3f86c2b9-7821-4811-a11d-a9f73c03145a"
   },
   "outputs": [
    {
     "data": {
      "image/png": "[encoded data removed]",
      "text/plain": [
       "<Figure size 1080x1440 with 11 Axes>"
      ]
     },
     "metadata": {
      "needs_background": "light"
     },
     "output_type": "display_data"
    }
   ],
   "source": [
    "i = 0\n",
    "fig = plt.figure(figsize = (15, 20))\n",
    "columns = df_raw_numeric_x.columns\n",
    "for col in columns:\n",
    "    plt.subplot(df_raw_numeric_x.shape[1]//2, 3, i+1)\n",
    "    i += 1\n",
    "    plt.hist(df_raw[df_raw[\"SCALE\"] == 0][col], label = \"양품\", alpha = 0.5)\n",
    "    plt.hist(df_raw[df_raw[\"SCALE\"] == 1][col], label = \"불량\", alpha = 0.5)\n",
    "    plt.xlabel(col)\n",
    "    plt.ylabel(\"SCALE\")\n",
    "    plt.legend()\n",
    "plt.show()"
   ]
  },
  {
   "cell_type": "markdown",
   "metadata": {
    "id": "8qhjFbVblckW"
   },
   "source": [
    ">* plate 두께, 폭, 길이의 분포를 확인했을 때 특정 구간에서 불량품이 발생한다는 것을 확인할 수 있었다.  그러나 주문자가 요청한 plate 두께,폭, 길이는 조절할 수 있는 변수가 아니기에 vital few에 해당되지 않는다고 판단했다. \n",
    "\n",
    ">* 가열로 가열대 온도가 1150-1170일때 불량률이 높다.\n",
    "\n",
    ">* 가열대 균열대 시간이 60-70 일때 불량률이 높다.\n",
    "\n",
    ">* 가열로 시간이 275-325일때 불량률이 높다.\n",
    "\n",
    ">* 가열로 균열대 온도가 높을수록 불량률이 높다(1155이상)\n",
    "\n",
    ">* 압연온도가 1000 이상일때 불량률이 높다\n",
    "\n",
    ">* 압연 중 descaling 횟수가 8-9번일때 불량률이 높다.\n"
   ]
  },
  {
   "cell_type": "markdown",
   "metadata": {
    "id": "lCweyhu0sIv3"
   },
   "source": [
    "### 교차표로 범주형 변수와 목표변수의 관계 확인"
   ]
  },
  {
   "cell_type": "code",
   "execution_count": 45,
   "metadata": {
    "colab": {
     "base_uri": "https://localhost:8080/"
    },
    "id": "rjnPFeqhlMy9",
    "outputId": "db4885cb-b298-4f9d-9c73-e39f5f4fa380"
   },
   "outputs": [
    {
     "name": "stdout",
     "output_type": "stream",
     "text": [
      "<class 'pandas.core.frame.DataFrame'>\n",
      "Int64Index: 714 entries, 0 to 719\n",
      "Data columns (total 17 columns):\n",
      " #   Column             Non-Null Count  Dtype  \n",
      "---  ------             --------------  -----  \n",
      " 0   SCALE              714 non-null    int64  \n",
      " 1   STEEL_KIND         714 non-null    object \n",
      " 2   PT_THK             714 non-null    float64\n",
      " 3   PT_WDTH            714 non-null    int64  \n",
      " 4   PT_LTH             714 non-null    int64  \n",
      " 5   PT_WGT             714 non-null    int64  \n",
      " 6   FUR_NO             714 non-null    object \n",
      " 7   FUR_NO_ROW         714 non-null    object \n",
      " 8   FUR_HZ_TEMP        714 non-null    int64  \n",
      " 9   FUR_HZ_TIME        714 non-null    int64  \n",
      " 10  FUR_SZ_TEMP        714 non-null    int64  \n",
      " 11  FUR_SZ_TIME        714 non-null    int64  \n",
      " 12  FUR_TIME           714 non-null    int64  \n",
      " 13  ROLLING_TEMP_T5    714 non-null    int64  \n",
      " 14  HSB                714 non-null    object \n",
      " 15  ROLLING_DESCALING  714 non-null    int64  \n",
      " 16  WORK_GR            714 non-null    object \n",
      "dtypes: float64(1), int64(11), object(5)\n",
      "memory usage: 100.4+ KB\n"
     ]
    }
   ],
   "source": [
    "df_raw.info()"
   ]
  },
  {
   "cell_type": "code",
   "execution_count": 46,
   "metadata": {
    "id": "Jmjd-w2ZCk8U"
   },
   "outputs": [],
   "source": [
    "#범주형 변수에 따른 불량률 비교\n",
    "def fun_print_crosstab(data, var):\n",
    "    print(pd.crosstab(index = data['SCALE'], columns = data[var]))\n",
    "    print()\n",
    "    print(pd.crosstab(index = data['SCALE'], columns = data[var], normalize = 'columns').round(3))"
   ]
  },
  {
   "cell_type": "markdown",
   "metadata": {
    "id": "70eBT54Du2ZN"
   },
   "source": [
    "**가열로 호기**"
   ]
  },
  {
   "cell_type": "code",
   "execution_count": 47,
   "metadata": {
    "colab": {
     "base_uri": "https://localhost:8080/"
    },
    "id": "foQOj-VSCk8U",
    "outputId": "d3e1b09f-428e-4d01-ce4b-905ff15a0d9c"
   },
   "outputs": [
    {
     "name": "stdout",
     "output_type": "stream",
     "text": [
      "FUR_NO  1호기  2호기  3호기\n",
      "SCALE                \n",
      "0       166  166  151\n",
      "1        73   70   88\n",
      "\n",
      "FUR_NO    1호기    2호기    3호기\n",
      "SCALE                      \n",
      "0       0.695  0.703  0.632\n",
      "1       0.305  0.297  0.368\n"
     ]
    }
   ],
   "source": [
    "fun_print_crosstab(df_raw, 'FUR_NO')"
   ]
  },
  {
   "cell_type": "markdown",
   "metadata": {
    "id": "2Padm0vuvrIP"
   },
   "source": [
    "> 호기별 불량률이 전체 불량률인 32%와 비슷한 것으로 보아 가열로 호기에 따른 불량품의 차이가 없다"
   ]
  },
  {
   "cell_type": "markdown",
   "metadata": {
    "id": "aZjshK7eu41I"
   },
   "source": [
    "**HSB 적용**"
   ]
  },
  {
   "cell_type": "code",
   "execution_count": 48,
   "metadata": {
    "colab": {
     "base_uri": "https://localhost:8080/"
    },
    "id": "YF649XQaCk8U",
    "outputId": "ae08bb89-29b3-45b5-c90f-042ab84fec7a"
   },
   "outputs": [
    {
     "name": "stdout",
     "output_type": "stream",
     "text": [
      "HSB    미적용   적용\n",
      "SCALE          \n",
      "0        0  483\n",
      "1       33  198\n",
      "\n",
      "HSB    미적용     적용\n",
      "SCALE            \n",
      "0      0.0  0.709\n",
      "1      1.0  0.291\n"
     ]
    }
   ],
   "source": [
    "fun_print_crosstab(df_raw, 'HSB')"
   ]
  },
  {
   "cell_type": "markdown",
   "metadata": {
    "id": "Wy4F-cWyvD5-"
   },
   "source": [
    ">HSB 를 적용하지 않았을 때 불량품의 비율 100%이다.  \n",
    "이는 HSB 적용유무가 불량품 생산에 매우 큰 영향력 주는 것이라 할 수 있다.   \n",
    "뿐만아니라 HSB적용시에도 불량률이 70%로 높기때문에 HSB를 적용한 데이터들을 대상으로  \n",
    " 불량률에 영향을 준 다른 변수에 대한 파악이 필요하다"
   ]
  },
  {
   "cell_type": "markdown",
   "metadata": {
    "id": "iuQcYENpu62F"
   },
   "source": [
    "**작업조**"
   ]
  },
  {
   "cell_type": "code",
   "execution_count": 49,
   "metadata": {
    "colab": {
     "base_uri": "https://localhost:8080/"
    },
    "id": "Y3vpBF9aCk8U",
    "outputId": "26442b03-5f63-4c81-b5f7-c032d74c6186"
   },
   "outputs": [
    {
     "name": "stdout",
     "output_type": "stream",
     "text": [
      "WORK_GR   1조   2조   3조   4조\n",
      "SCALE                      \n",
      "0        121  119  115  128\n",
      "1         67   45   54   65\n",
      "\n",
      "WORK_GR     1조     2조    3조     4조\n",
      "SCALE                             \n",
      "0        0.644  0.726  0.68  0.663\n",
      "1        0.356  0.274  0.32  0.337\n"
     ]
    }
   ],
   "source": [
    "fun_print_crosstab(df_raw, 'WORK_GR')"
   ]
  },
  {
   "cell_type": "markdown",
   "metadata": {
    "id": "kUb_3hH-vjoV"
   },
   "source": [
    "> 작업조별 불량률이 전체 불량률인 32%와 비슷한 것으로 보아 작업조에 따른 불량품의 차이가 없다\n"
   ]
  },
  {
   "cell_type": "markdown",
   "metadata": {
    "id": "tGHw-GnJu-h3"
   },
   "source": [
    "**가열로 작업순번**"
   ]
  },
  {
   "cell_type": "code",
   "execution_count": 50,
   "metadata": {
    "colab": {
     "base_uri": "https://localhost:8080/"
    },
    "id": "2EAoaaXwCk8U",
    "outputId": "2db0967c-ede4-4550-bcc5-04357250797f"
   },
   "outputs": [
    {
     "name": "stdout",
     "output_type": "stream",
     "text": [
      "FUR_NO_ROW    1    2\n",
      "SCALE               \n",
      "0           239  244\n",
      "1           120  111\n",
      "\n",
      "FUR_NO_ROW      1      2\n",
      "SCALE                   \n",
      "0           0.666  0.687\n",
      "1           0.334  0.313\n"
     ]
    }
   ],
   "source": [
    "fun_print_crosstab(df_raw, 'FUR_NO_ROW')"
   ]
  },
  {
   "cell_type": "markdown",
   "metadata": {
    "id": "SCN1EwFKrBue"
   },
   "source": [
    "> 가열로 작업순번별 불량률이 전체 불량률인 32%와 비슷한 것으로 보아  \n",
    " 작업순번에 따른 불량품의 차이가 없다"
   ]
  },
  {
   "cell_type": "markdown",
   "metadata": {
    "id": "JdEvptNq0WFc"
   },
   "source": [
    "**STEEL_KIND**"
   ]
  },
  {
   "cell_type": "code",
   "execution_count": 51,
   "metadata": {
    "colab": {
     "base_uri": "https://localhost:8080/"
    },
    "id": "lTXbuyLA0VnK",
    "outputId": "a5cbb758-916c-4bde-b2a9-9a251b21d76f"
   },
   "outputs": [
    {
     "name": "stdout",
     "output_type": "stream",
     "text": [
      "STEEL_KIND   C0  C1  C3  T0  T1  T3  T5  T7  T8\n",
      "SCALE                                          \n",
      "0           289   0   6  13  16   2  39  29  89\n",
      "1           212   1   1   2   2   0   2   6   5\n",
      "\n",
      "STEEL_KIND     C0   C1     C3     T0     T1   T3     T5     T7     T8\n",
      "SCALE                                                                \n",
      "0           0.577  0.0  0.857  0.867  0.889  1.0  0.951  0.829  0.947\n",
      "1           0.423  1.0  0.143  0.133  0.111  0.0  0.049  0.171  0.053\n"
     ]
    }
   ],
   "source": [
    "fun_print_crosstab(df_raw, 'STEEL_KIND')"
   ]
  },
  {
   "cell_type": "code",
   "execution_count": 52,
   "metadata": {
    "colab": {
     "base_uri": "https://localhost:8080/"
    },
    "id": "-1wnc2MJ1-qz",
    "outputId": "4d74fe1c-eaf0-4f2b-8266-cbc6d1e61582"
   },
   "outputs": [
    {
     "data": {
      "text/plain": [
       "<matplotlib.axes._subplots.AxesSubplot at 0x7f63bc849790>"
      ]
     },
     "execution_count": 52,
     "metadata": {},
     "output_type": "execute_result"
    },
    {
     "data": {
      "image/png": "[encoded data removed]",
      "text/plain": [
       "<Figure size 432x288 with 1 Axes>"
      ]
     },
     "metadata": {
      "needs_background": "light"
     },
     "output_type": "display_data"
    }
   ],
   "source": [
    "ds_agg = df_raw[\"STEEL_KIND\"].value_counts()\n",
    "ds_agg.sort_index(inplace = True)\n",
    "ds_agg.plot.bar()"
   ]
  },
  {
   "cell_type": "markdown",
   "metadata": {
    "id": "pY7DtkL10kO2"
   },
   "source": [
    ">강종에 따른 scale 생산률을 비교해보았을 때, \n",
    "강종별로 scale 생산량의 차이가 매우 컸다.  \n",
    "C0에서 가장 많은 scale이 생산되었으며, 그중에서 57%는 불량인 것으로 나타났다.  \n",
    "그러나 다른 강종들의 데이터 수는 C0에 비해 현저히 낮아 강종 불량품의 차이를 비교하기는 어렵다고 판단했다.  \n",
    "따라서 STEEL_KIND 변수는 고려하지 않기로 했다. \n"
   ]
  },
  {
   "cell_type": "markdown",
   "metadata": {
    "id": "7N11RMj4v5aP"
   },
   "source": [
    "## 목표변수 형변환 (문자형 -> 숫자형)"
   ]
  },
  {
   "cell_type": "markdown",
   "metadata": {
    "id": "hStURsbWwY98"
   },
   "source": [
    "### 데이터 분할"
   ]
  },
  {
   "cell_type": "code",
   "execution_count": 53,
   "metadata": {
    "colab": {
     "base_uri": "https://localhost:8080/"
    },
    "id": "2QcnCKI4wJl5",
    "outputId": "b9920752-dfc9-49aa-e426-26087e254ed3"
   },
   "outputs": [
    {
     "name": "stdout",
     "output_type": "stream",
     "text": [
      "shape of train data: (499, 17)\n",
      "shape of test data: (215, 17)\n"
     ]
    }
   ],
   "source": [
    "df_train, df_test = train_test_split(df_raw, test_size = 0.3, random_state = 1234)\n",
    "print(f'shape of train data: {df_train.shape}')\n",
    "print(f'shape of test data: {df_test.shape}')"
   ]
  },
  {
   "cell_type": "markdown",
   "metadata": {
    "id": "_E8zt2ZWxGix"
   },
   "source": [
    "### 변수 역할 지정\n"
   ]
  },
  {
   "cell_type": "code",
   "execution_count": 54,
   "metadata": {
    "colab": {
     "base_uri": "https://localhost:8080/",
     "height": 304
    },
    "id": "vDHkCxGYxUZS",
    "outputId": "178ce1f9-222f-4711-d7af-d929c248d1ac"
   },
   "outputs": [
    {
     "name": "stdout",
     "output_type": "stream",
     "text": [
      "(714, 32)\n"
     ]
    },
    {
     "data": {
      "text/html": [
       "<div>\n",
       "<style scoped>\n",
       "    .dataframe tbody tr th:only-of-type {\n",
       "        vertical-align: middle;\n",
       "    }\n",
       "\n",
       "    .dataframe tbody tr th {\n",
       "        vertical-align: top;\n",
       "    }\n",
       "\n",
       "    .dataframe thead th {\n",
       "        text-align: right;\n",
       "    }\n",
       "</style>\n",
       "<table border=\"1\" class=\"dataframe\">\n",
       "  <thead>\n",
       "    <tr style=\"text-align: right;\">\n",
       "      <th></th>\n",
       "      <th>SCALE</th>\n",
       "      <th>PT_THK</th>\n",
       "      <th>PT_WDTH</th>\n",
       "      <th>PT_LTH</th>\n",
       "      <th>PT_WGT</th>\n",
       "      <th>FUR_HZ_TEMP</th>\n",
       "      <th>FUR_HZ_TIME</th>\n",
       "      <th>FUR_SZ_TEMP</th>\n",
       "      <th>FUR_SZ_TIME</th>\n",
       "      <th>FUR_TIME</th>\n",
       "      <th>...</th>\n",
       "      <th>FUR_NO_2호기</th>\n",
       "      <th>FUR_NO_3호기</th>\n",
       "      <th>FUR_NO_ROW_1</th>\n",
       "      <th>FUR_NO_ROW_2</th>\n",
       "      <th>HSB_미적용</th>\n",
       "      <th>HSB_적용</th>\n",
       "      <th>WORK_GR_1조</th>\n",
       "      <th>WORK_GR_2조</th>\n",
       "      <th>WORK_GR_3조</th>\n",
       "      <th>WORK_GR_4조</th>\n",
       "    </tr>\n",
       "  </thead>\n",
       "  <tbody>\n",
       "    <tr>\n",
       "      <th>0</th>\n",
       "      <td>0</td>\n",
       "      <td>32.25</td>\n",
       "      <td>3707</td>\n",
       "      <td>15109</td>\n",
       "      <td>14180</td>\n",
       "      <td>1144</td>\n",
       "      <td>116</td>\n",
       "      <td>1133</td>\n",
       "      <td>59</td>\n",
       "      <td>282</td>\n",
       "      <td>...</td>\n",
       "      <td>0</td>\n",
       "      <td>0</td>\n",
       "      <td>1</td>\n",
       "      <td>0</td>\n",
       "      <td>0</td>\n",
       "      <td>1</td>\n",
       "      <td>0</td>\n",
       "      <td>1</td>\n",
       "      <td>0</td>\n",
       "      <td>0</td>\n",
       "    </tr>\n",
       "    <tr>\n",
       "      <th>1</th>\n",
       "      <td>0</td>\n",
       "      <td>32.25</td>\n",
       "      <td>3707</td>\n",
       "      <td>15109</td>\n",
       "      <td>14180</td>\n",
       "      <td>1144</td>\n",
       "      <td>122</td>\n",
       "      <td>1135</td>\n",
       "      <td>53</td>\n",
       "      <td>283</td>\n",
       "      <td>...</td>\n",
       "      <td>0</td>\n",
       "      <td>0</td>\n",
       "      <td>0</td>\n",
       "      <td>1</td>\n",
       "      <td>0</td>\n",
       "      <td>1</td>\n",
       "      <td>0</td>\n",
       "      <td>1</td>\n",
       "      <td>0</td>\n",
       "      <td>0</td>\n",
       "    </tr>\n",
       "    <tr>\n",
       "      <th>2</th>\n",
       "      <td>0</td>\n",
       "      <td>33.27</td>\n",
       "      <td>3619</td>\n",
       "      <td>19181</td>\n",
       "      <td>18130</td>\n",
       "      <td>1129</td>\n",
       "      <td>116</td>\n",
       "      <td>1121</td>\n",
       "      <td>55</td>\n",
       "      <td>282</td>\n",
       "      <td>...</td>\n",
       "      <td>1</td>\n",
       "      <td>0</td>\n",
       "      <td>1</td>\n",
       "      <td>0</td>\n",
       "      <td>0</td>\n",
       "      <td>1</td>\n",
       "      <td>0</td>\n",
       "      <td>0</td>\n",
       "      <td>1</td>\n",
       "      <td>0</td>\n",
       "    </tr>\n",
       "    <tr>\n",
       "      <th>3</th>\n",
       "      <td>0</td>\n",
       "      <td>33.27</td>\n",
       "      <td>3619</td>\n",
       "      <td>19181</td>\n",
       "      <td>18130</td>\n",
       "      <td>1152</td>\n",
       "      <td>125</td>\n",
       "      <td>1127</td>\n",
       "      <td>68</td>\n",
       "      <td>316</td>\n",
       "      <td>...</td>\n",
       "      <td>1</td>\n",
       "      <td>0</td>\n",
       "      <td>0</td>\n",
       "      <td>1</td>\n",
       "      <td>0</td>\n",
       "      <td>1</td>\n",
       "      <td>0</td>\n",
       "      <td>0</td>\n",
       "      <td>1</td>\n",
       "      <td>0</td>\n",
       "    </tr>\n",
       "    <tr>\n",
       "      <th>4</th>\n",
       "      <td>0</td>\n",
       "      <td>38.33</td>\n",
       "      <td>3098</td>\n",
       "      <td>13334</td>\n",
       "      <td>12430</td>\n",
       "      <td>1140</td>\n",
       "      <td>134</td>\n",
       "      <td>1128</td>\n",
       "      <td>48</td>\n",
       "      <td>314</td>\n",
       "      <td>...</td>\n",
       "      <td>0</td>\n",
       "      <td>1</td>\n",
       "      <td>1</td>\n",
       "      <td>0</td>\n",
       "      <td>0</td>\n",
       "      <td>1</td>\n",
       "      <td>1</td>\n",
       "      <td>0</td>\n",
       "      <td>0</td>\n",
       "      <td>0</td>\n",
       "    </tr>\n",
       "  </tbody>\n",
       "</table>\n",
       "<p>5 rows × 32 columns</p>\n",
       "</div>"
      ],
      "text/plain": [
       "   SCALE  PT_THK  PT_WDTH  PT_LTH  PT_WGT  FUR_HZ_TEMP  FUR_HZ_TIME  \\\n",
       "0      0   32.25     3707   15109   14180         1144          116   \n",
       "1      0   32.25     3707   15109   14180         1144          122   \n",
       "2      0   33.27     3619   19181   18130         1129          116   \n",
       "3      0   33.27     3619   19181   18130         1152          125   \n",
       "4      0   38.33     3098   13334   12430         1140          134   \n",
       "\n",
       "   FUR_SZ_TEMP  FUR_SZ_TIME  FUR_TIME  ...  FUR_NO_2호기  FUR_NO_3호기  \\\n",
       "0         1133           59       282  ...           0           0   \n",
       "1         1135           53       283  ...           0           0   \n",
       "2         1121           55       282  ...           1           0   \n",
       "3         1127           68       316  ...           1           0   \n",
       "4         1128           48       314  ...           0           1   \n",
       "\n",
       "   FUR_NO_ROW_1  FUR_NO_ROW_2  HSB_미적용  HSB_적용  WORK_GR_1조  WORK_GR_2조  \\\n",
       "0             1             0        0       1           0           1   \n",
       "1             0             1        0       1           0           1   \n",
       "2             1             0        0       1           0           0   \n",
       "3             0             1        0       1           0           0   \n",
       "4             1             0        0       1           1           0   \n",
       "\n",
       "   WORK_GR_3조  WORK_GR_4조  \n",
       "0           0           0  \n",
       "1           0           0  \n",
       "2           1           0  \n",
       "3           1           0  \n",
       "4           0           0  \n",
       "\n",
       "[5 rows x 32 columns]"
      ]
     },
     "execution_count": 54,
     "metadata": {},
     "output_type": "execute_result"
    }
   ],
   "source": [
    "#get_dummies : 데이터의 문자형 변수에 대한 더미변수 생성\n",
    "df_raw_dummy = pd.get_dummies(df_raw)\n",
    "print(df_raw_dummy.shape)\n",
    "#더미변수 생성된 데이터의 상위5개 row 확인\n",
    "df_raw_dummy.head()"
   ]
  },
  {
   "cell_type": "code",
   "execution_count": 55,
   "metadata": {
    "colab": {
     "base_uri": "https://localhost:8080/"
    },
    "id": "nr92jVTdxxbo",
    "outputId": "066a2c23-1652-4b23-8c91-32dbd22f7abf"
   },
   "outputs": [
    {
     "name": "stdout",
     "output_type": "stream",
     "text": [
      "train data X size :(499, 31)\n",
      "train data Y size :(499,)\n",
      "test data X size :(215, 31)\n",
      "test data Y size :(215,)\n"
     ]
    }
   ],
   "source": [
    "df_raw_y = df_raw_dummy['SCALE']\n",
    "df_raw_x = df_raw_dummy.drop('SCALE', axis = 1 , inplace = False)\n",
    "\n",
    "df_train_x, df_test_x, df_train_y, df_test_y = train_test_split(df_raw_x, df_raw_y, \n",
    "                                                                test_size = 0.3, random_state = 1234)\n",
    "print(f'train data X size :{df_train_x.shape}')\n",
    "print(f'train data Y size :{df_train_y.shape}')\n",
    "print(f'test data X size :{df_test_x.shape}')\n",
    "print(f'test data Y size :{df_test_y.shape}')"
   ]
  },
  {
   "cell_type": "markdown",
   "metadata": {
    "id": "BQ9_cVFn0IWD"
   },
   "source": [
    "### Vital Few 탐색"
   ]
  },
  {
   "cell_type": "code",
   "execution_count": 56,
   "metadata": {
    "colab": {
     "base_uri": "https://localhost:8080/"
    },
    "id": "y_k3mcHW5ux9",
    "outputId": "943a4de6-752d-4051-bae2-e4cc2b3d16b8"
   },
   "outputs": [],
   "source": [
    "from sklearn.preprocessing import StandardScaler\n",
    "from sklearn.model_selection import train_test_split\n",
    "from statsmodels.api import Logit\n",
    "from sklearn.metrics import accuracy_score\n",
    "from sklearn.metrics import confusion_matrix"
   ]
  },
  {
   "cell_type": "code",
   "execution_count": 59,
   "metadata": {
    "id": "2I2LT_zY6SdJ"
   },
   "outputs": [],
   "source": [
    "#불량률에 영향을 미치지 않는 변수 삭제\n",
    "df_raw1= df_raw.drop(['STEEL_KIND'],axis=1, inplace=False)"
   ]
  },
  {
   "cell_type": "code",
   "execution_count": 60,
   "metadata": {
    "colab": {
     "base_uri": "https://localhost:8080/"
    },
    "id": "SIRrQFAM5wJF",
    "outputId": "8efaf631-343f-4ca9-a7c5-e55dbffdd1f9"
   },
   "outputs": [
    {
     "name": "stdout",
     "output_type": "stream",
     "text": [
      "train data size : (499, 16)\n",
      "test data size : (215, 16)\n"
     ]
    }
   ],
   "source": [
    "df_train, df_test = train_test_split(df_raw1,\n",
    "                                    test_size=0.3,\n",
    "                                    random_state=1234)\n",
    "print(\"train data size : {}\".format(df_train.shape))\n",
    "print(\"test data size : {}\".format(df_test.shape))"
   ]
  },
  {
   "cell_type": "code",
   "execution_count": 61,
   "metadata": {
    "colab": {
     "base_uri": "https://localhost:8080/",
     "height": 309
    },
    "id": "J99ZvdmV59Po",
    "outputId": "cc2a2dc2-5fd9-4c44-c3d7-56a19023f733"
   },
   "outputs": [
    {
     "data": {
      "text/html": [
       "<div>\n",
       "<style scoped>\n",
       "    .dataframe tbody tr th:only-of-type {\n",
       "        vertical-align: middle;\n",
       "    }\n",
       "\n",
       "    .dataframe tbody tr th {\n",
       "        vertical-align: top;\n",
       "    }\n",
       "\n",
       "    .dataframe thead th {\n",
       "        text-align: right;\n",
       "    }\n",
       "</style>\n",
       "<table border=\"1\" class=\"dataframe\">\n",
       "  <thead>\n",
       "    <tr style=\"text-align: right;\">\n",
       "      <th></th>\n",
       "      <th>SCALE</th>\n",
       "      <th>PT_THK</th>\n",
       "      <th>PT_WDTH</th>\n",
       "      <th>PT_LTH</th>\n",
       "      <th>PT_WGT</th>\n",
       "      <th>FUR_NO</th>\n",
       "      <th>FUR_NO_ROW</th>\n",
       "      <th>FUR_HZ_TEMP</th>\n",
       "      <th>FUR_HZ_TIME</th>\n",
       "      <th>FUR_SZ_TEMP</th>\n",
       "      <th>FUR_SZ_TIME</th>\n",
       "      <th>FUR_TIME</th>\n",
       "      <th>ROLLING_TEMP_T5</th>\n",
       "      <th>HSB</th>\n",
       "      <th>ROLLING_DESCALING</th>\n",
       "      <th>WORK_GR</th>\n",
       "    </tr>\n",
       "  </thead>\n",
       "  <tbody>\n",
       "    <tr>\n",
       "      <th>209</th>\n",
       "      <td>1</td>\n",
       "      <td>30.13</td>\n",
       "      <td>2288</td>\n",
       "      <td>30730</td>\n",
       "      <td>33260</td>\n",
       "      <td>3호기</td>\n",
       "      <td>2</td>\n",
       "      <td>1165</td>\n",
       "      <td>79</td>\n",
       "      <td>1158</td>\n",
       "      <td>85</td>\n",
       "      <td>291</td>\n",
       "      <td>1032</td>\n",
       "      <td>적용</td>\n",
       "      <td>8</td>\n",
       "      <td>3조</td>\n",
       "    </tr>\n",
       "    <tr>\n",
       "      <th>60</th>\n",
       "      <td>1</td>\n",
       "      <td>65.69</td>\n",
       "      <td>2498</td>\n",
       "      <td>11978</td>\n",
       "      <td>15430</td>\n",
       "      <td>1호기</td>\n",
       "      <td>1</td>\n",
       "      <td>1142</td>\n",
       "      <td>110</td>\n",
       "      <td>1134</td>\n",
       "      <td>73</td>\n",
       "      <td>343</td>\n",
       "      <td>851</td>\n",
       "      <td>적용</td>\n",
       "      <td>5</td>\n",
       "      <td>4조</td>\n",
       "    </tr>\n",
       "    <tr>\n",
       "      <th>13</th>\n",
       "      <td>0</td>\n",
       "      <td>30.23</td>\n",
       "      <td>1940</td>\n",
       "      <td>34797</td>\n",
       "      <td>16020</td>\n",
       "      <td>1호기</td>\n",
       "      <td>2</td>\n",
       "      <td>1119</td>\n",
       "      <td>130</td>\n",
       "      <td>1120</td>\n",
       "      <td>65</td>\n",
       "      <td>324</td>\n",
       "      <td>926</td>\n",
       "      <td>적용</td>\n",
       "      <td>8</td>\n",
       "      <td>4조</td>\n",
       "    </tr>\n",
       "    <tr>\n",
       "      <th>152</th>\n",
       "      <td>1</td>\n",
       "      <td>35.15</td>\n",
       "      <td>2466</td>\n",
       "      <td>31229</td>\n",
       "      <td>106250</td>\n",
       "      <td>1호기</td>\n",
       "      <td>2</td>\n",
       "      <td>1159</td>\n",
       "      <td>61</td>\n",
       "      <td>1162</td>\n",
       "      <td>72</td>\n",
       "      <td>303</td>\n",
       "      <td>1030</td>\n",
       "      <td>적용</td>\n",
       "      <td>8</td>\n",
       "      <td>4조</td>\n",
       "    </tr>\n",
       "    <tr>\n",
       "      <th>488</th>\n",
       "      <td>0</td>\n",
       "      <td>75.16</td>\n",
       "      <td>2280</td>\n",
       "      <td>15373</td>\n",
       "      <td>20680</td>\n",
       "      <td>3호기</td>\n",
       "      <td>1</td>\n",
       "      <td>1119</td>\n",
       "      <td>121</td>\n",
       "      <td>1119</td>\n",
       "      <td>70</td>\n",
       "      <td>366</td>\n",
       "      <td>878</td>\n",
       "      <td>적용</td>\n",
       "      <td>6</td>\n",
       "      <td>2조</td>\n",
       "    </tr>\n",
       "  </tbody>\n",
       "</table>\n",
       "</div>"
      ],
      "text/plain": [
       "     SCALE  PT_THK  PT_WDTH  PT_LTH  PT_WGT FUR_NO FUR_NO_ROW  FUR_HZ_TEMP  \\\n",
       "209      1   30.13     2288   30730   33260    3호기          2         1165   \n",
       "60       1   65.69     2498   11978   15430    1호기          1         1142   \n",
       "13       0   30.23     1940   34797   16020    1호기          2         1119   \n",
       "152      1   35.15     2466   31229  106250    1호기          2         1159   \n",
       "488      0   75.16     2280   15373   20680    3호기          1         1119   \n",
       "\n",
       "     FUR_HZ_TIME  FUR_SZ_TEMP  FUR_SZ_TIME  FUR_TIME  ROLLING_TEMP_T5 HSB  \\\n",
       "209           79         1158           85       291             1032  적용   \n",
       "60           110         1134           73       343              851  적용   \n",
       "13           130         1120           65       324              926  적용   \n",
       "152           61         1162           72       303             1030  적용   \n",
       "488          121         1119           70       366              878  적용   \n",
       "\n",
       "     ROLLING_DESCALING WORK_GR  \n",
       "209                  8      3조  \n",
       "60                   5      4조  \n",
       "13                   8      4조  \n",
       "152                  8      4조  \n",
       "488                  6      2조  "
      ]
     },
     "execution_count": 61,
     "metadata": {},
     "output_type": "execute_result"
    }
   ],
   "source": [
    "df_train.head()"
   ]
  },
  {
   "cell_type": "markdown",
   "metadata": {
    "id": "hL4-9Gch4Yvt"
   },
   "source": [
    "## 로지스틱 선형 회귀"
   ]
  },
  {
   "cell_type": "markdown",
   "metadata": {
    "id": "8ADf3LU5Q1dE"
   },
   "source": [
    "목표변수와 설명변수가 선형관계를 파악하고 목표변수에 대한 설명변수의 방향성을 파악하기 위해 로지스틱 선형 회귀 분석 사용\n"
   ]
  },
  {
   "cell_type": "code",
   "execution_count": 97,
   "metadata": {
    "colab": {
     "base_uri": "https://localhost:8080/"
    },
    "id": "0zMs5Ixk15s8",
    "outputId": "cbc23f9f-e22c-43e7-f699-6e434a2d549a"
   },
   "outputs": [
    {
     "name": "stdout",
     "output_type": "stream",
     "text": [
      "Warning: Maximum number of iterations has been exceeded.\n",
      "         Current function value: 0.141205\n",
      "         Iterations: 35\n",
      "                           Logit Regression Results                           \n",
      "==============================================================================\n",
      "Dep. Variable:                  SCALE   No. Observations:                  499\n",
      "Model:                          Logit   Df Residuals:                      476\n",
      "Method:                           MLE   Df Model:                           22\n",
      "Date:                Wed, 25 Nov 2020   Pseudo R-squ.:                  0.7749\n",
      "Time:                        02:59:57   Log-Likelihood:                -70.461\n",
      "converged:                      False   LL-Null:                       -313.05\n",
      "Covariance Type:            nonrobust   LLR p-value:                 8.970e-89\n",
      "==============================================================================================\n",
      "                                 coef    std err          z      P>|z|      [0.025      0.975]\n",
      "----------------------------------------------------------------------------------------------\n",
      "Intercept                   -164.5071   4.55e+04     -0.004      0.997   -8.93e+04     8.9e+04\n",
      "C(FUR_NO)[T.2호기]              -0.8145      0.553     -1.474      0.140      -1.897       0.269\n",
      "C(FUR_NO)[T.3호기]               0.2604      0.586      0.444      0.657      -0.889       1.409\n",
      "C(FUR_NO_ROW)[T.2]             0.0884      0.476      0.186      0.853      -0.845       1.021\n",
      "C(HSB)[T.적용]                 -35.3681   2.76e+04     -0.001      0.999   -5.41e+04    5.41e+04\n",
      "C(ROLLING_DESCALING)[T.6]    -42.1367   3.62e+04     -0.001      0.999   -7.09e+04    7.08e+04\n",
      "C(ROLLING_DESCALING)[T.7]     -1.4370    8.2e+06  -1.75e-07      1.000   -1.61e+07    1.61e+07\n",
      "C(ROLLING_DESCALING)[T.8]    -38.3731   3.62e+04     -0.001      0.999   -7.09e+04    7.08e+04\n",
      "C(ROLLING_DESCALING)[T.9]      1.8885   1.89e+06   9.97e-07      1.000   -3.71e+06    3.71e+06\n",
      "C(ROLLING_DESCALING)[T.10]   -38.5217   3.62e+04     -0.001      0.999   -7.09e+04    7.08e+04\n",
      "C(WORK_GR)[T.2조]              -0.7646      0.627     -1.219      0.223      -1.994       0.465\n",
      "C(WORK_GR)[T.3조]              -1.1117      0.708     -1.570      0.117      -2.500       0.276\n",
      "C(WORK_GR)[T.4조]              -0.8144      0.636     -1.280      0.200      -2.061       0.432\n",
      "PT_THK                         0.1521      0.093      1.632      0.103      -0.031       0.335\n",
      "PT_WDTH                       -0.0024      0.001     -3.030      0.002      -0.004      -0.001\n",
      "PT_LTH                      -5.69e-05   4.52e-05     -1.258      0.208      -0.000    3.17e-05\n",
      "PT_WGT                     -1.268e-05   1.05e-05     -1.205      0.228   -3.33e-05    7.95e-06\n",
      "FUR_HZ_TEMP                    0.0241      0.032      0.761      0.446      -0.038       0.086\n",
      "FUR_HZ_TIME                    0.0089      0.007      1.227      0.220      -0.005       0.023\n",
      "FUR_SZ_TEMP                    0.1332      0.065      2.051      0.040       0.006       0.260\n",
      "FUR_SZ_TIME                   -0.0302      0.020     -1.522      0.128      -0.069       0.009\n",
      "FUR_TIME                      -0.0038      0.007     -0.538      0.590      -0.018       0.010\n",
      "ROLLING_TEMP_T5                0.0653      0.012      5.612      0.000       0.043       0.088\n",
      "==============================================================================================\n",
      "\n",
      "Possibly complete quasi-separation: A fraction 0.35 of observations can be\n",
      "perfectly predicted. This might indicate that there is complete\n",
      "quasi-separation. In this case some parameters will not be identified.\n"
     ]
    },
    {
     "name": "stderr",
     "output_type": "stream",
     "text": [
      "/home/piai/anaconda3/lib/python3.8/site-packages/statsmodels/base/model.py:567: ConvergenceWarning: Maximum Likelihood optimization failed to converge. Check mle_retvals\n",
      "  warn(\"Maximum Likelihood optimization failed to converge. \"\n"
     ]
    }
   ],
   "source": [
    "#from_formula 함수를 이용하여 변수 역할 지정\n",
    "#분석 대상 이벤트 = 1\n",
    "log_model = Logit.from_formula(\"\"\"SCALE ~ PT_THK + PT_WDTH + PT_LTH + PT_WGT + C(FUR_NO) + \n",
    "C(FUR_NO_ROW) + FUR_HZ_TEMP + FUR_HZ_TIME + FUR_SZ_TEMP + FUR_SZ_TIME + FUR_TIME + ROLLING_TEMP_T5 + \n",
    "C(HSB) + C(ROLLING_DESCALING) + C(WORK_GR)\"\"\", df_train)\n",
    "\n",
    "log_result = log_model.fit()\n",
    "print(log_result.summary())"
   ]
  },
  {
   "cell_type": "markdown",
   "metadata": {
    "id": "TPKkiMH_1nSM"
   },
   "source": [
    "로지스틱 회귀분석을 진행해본 결과 ROLLING_TEMP_T5, FUR_SZ_TEMP을 제외한 모든 설명변수들의 p-value 값이 모두 0.05보다 높아, 유의미한 영향을 준다고 보기 어렵다. "
   ]
  },
  {
   "cell_type": "code",
   "execution_count": 101,
   "metadata": {
    "colab": {
     "base_uri": "https://localhost:8080/",
     "height": 676
    },
    "id": "8EIz9gGi1LQ-",
    "outputId": "ed88ec40-45bb-494f-9fdb-7426f53755f1"
   },
   "outputs": [
    {
     "data": {
      "text/plain": [
       "array([-8.14478876e-01,  2.60386889e-01,  8.84091622e-02, -3.53680947e+01,\n",
       "       -4.21366763e+01, -1.43695815e+00, -3.83730814e+01,  1.88851022e+00,\n",
       "       -3.85216510e+01, -7.64553820e-01, -1.11170922e+00, -8.14362589e-01,\n",
       "        1.52105986e-01, -2.39978658e-03, -5.69014714e-05, -1.26828924e-05,\n",
       "        2.40723454e-02,  8.92364099e-03,  1.33213152e-01, -3.01798385e-02,\n",
       "       -3.82281469e-03,  6.53162899e-02])"
      ]
     },
     "execution_count": 101,
     "metadata": {},
     "output_type": "execute_result"
    },
    {
     "data": {
      "image/png": "[encoded data removed]",
      "text/plain": [
       "<Figure size 432x288 with 1 Axes>"
      ]
     },
     "metadata": {
      "needs_background": "light"
     },
     "output_type": "display_data"
    }
   ],
   "source": [
    "df_log_coef = pd.DataFrame({\"Coef\":[log_result.params.values[19],log_result.params.values[22]]},\n",
    "                                 index = [log_model.exog_names[19],log_model.exog_names[22]])\n",
    "df_log_coef.plot.barh(y=\"Coef\",legend=False)\n",
    "log_result.params.values[1:]"
   ]
  },
  {
   "cell_type": "markdown",
   "metadata": {
    "id": "RT3qD1uw1bKM"
   },
   "source": [
    "> 중요도를 고려해본 결과, FUR_SZ_TEMP가 가장 영향이 크며 그다음은 ROLLING_TEMP_T5 이다."
   ]
  },
  {
   "cell_type": "markdown",
   "metadata": {
    "id": "ZpAOPBbx1ypM"
   },
   "source": [
    "## 의사결정나무"
   ]
  },
  {
   "cell_type": "code",
   "execution_count": 66,
   "metadata": {
    "colab": {
     "base_uri": "https://localhost:8080/",
     "height": 258
    },
    "id": "qT8HDHCZ2qVq",
    "outputId": "e77e216a-6bd2-4255-95ac-817a1dbc4f78"
   },
   "outputs": [
    {
     "data": {
      "text/html": [
       "<div>\n",
       "<style scoped>\n",
       "    .dataframe tbody tr th:only-of-type {\n",
       "        vertical-align: middle;\n",
       "    }\n",
       "\n",
       "    .dataframe tbody tr th {\n",
       "        vertical-align: top;\n",
       "    }\n",
       "\n",
       "    .dataframe thead th {\n",
       "        text-align: right;\n",
       "    }\n",
       "</style>\n",
       "<table border=\"1\" class=\"dataframe\">\n",
       "  <thead>\n",
       "    <tr style=\"text-align: right;\">\n",
       "      <th></th>\n",
       "      <th>SCALE</th>\n",
       "      <th>PT_THK</th>\n",
       "      <th>PT_WDTH</th>\n",
       "      <th>PT_LTH</th>\n",
       "      <th>PT_WGT</th>\n",
       "      <th>FUR_HZ_TEMP</th>\n",
       "      <th>FUR_HZ_TIME</th>\n",
       "      <th>FUR_SZ_TEMP</th>\n",
       "      <th>FUR_SZ_TIME</th>\n",
       "      <th>FUR_TIME</th>\n",
       "      <th>...</th>\n",
       "      <th>FUR_NO_2호기</th>\n",
       "      <th>FUR_NO_3호기</th>\n",
       "      <th>FUR_NO_ROW_1</th>\n",
       "      <th>FUR_NO_ROW_2</th>\n",
       "      <th>HSB_미적용</th>\n",
       "      <th>HSB_적용</th>\n",
       "      <th>WORK_GR_1조</th>\n",
       "      <th>WORK_GR_2조</th>\n",
       "      <th>WORK_GR_3조</th>\n",
       "      <th>WORK_GR_4조</th>\n",
       "    </tr>\n",
       "  </thead>\n",
       "  <tbody>\n",
       "    <tr>\n",
       "      <th>0</th>\n",
       "      <td>0</td>\n",
       "      <td>32.25</td>\n",
       "      <td>3707</td>\n",
       "      <td>15109</td>\n",
       "      <td>14180</td>\n",
       "      <td>1144</td>\n",
       "      <td>116</td>\n",
       "      <td>1133</td>\n",
       "      <td>59</td>\n",
       "      <td>282</td>\n",
       "      <td>...</td>\n",
       "      <td>0</td>\n",
       "      <td>0</td>\n",
       "      <td>1</td>\n",
       "      <td>0</td>\n",
       "      <td>0</td>\n",
       "      <td>1</td>\n",
       "      <td>0</td>\n",
       "      <td>1</td>\n",
       "      <td>0</td>\n",
       "      <td>0</td>\n",
       "    </tr>\n",
       "    <tr>\n",
       "      <th>1</th>\n",
       "      <td>0</td>\n",
       "      <td>32.25</td>\n",
       "      <td>3707</td>\n",
       "      <td>15109</td>\n",
       "      <td>14180</td>\n",
       "      <td>1144</td>\n",
       "      <td>122</td>\n",
       "      <td>1135</td>\n",
       "      <td>53</td>\n",
       "      <td>283</td>\n",
       "      <td>...</td>\n",
       "      <td>0</td>\n",
       "      <td>0</td>\n",
       "      <td>0</td>\n",
       "      <td>1</td>\n",
       "      <td>0</td>\n",
       "      <td>1</td>\n",
       "      <td>0</td>\n",
       "      <td>1</td>\n",
       "      <td>0</td>\n",
       "      <td>0</td>\n",
       "    </tr>\n",
       "    <tr>\n",
       "      <th>2</th>\n",
       "      <td>0</td>\n",
       "      <td>33.27</td>\n",
       "      <td>3619</td>\n",
       "      <td>19181</td>\n",
       "      <td>18130</td>\n",
       "      <td>1129</td>\n",
       "      <td>116</td>\n",
       "      <td>1121</td>\n",
       "      <td>55</td>\n",
       "      <td>282</td>\n",
       "      <td>...</td>\n",
       "      <td>1</td>\n",
       "      <td>0</td>\n",
       "      <td>1</td>\n",
       "      <td>0</td>\n",
       "      <td>0</td>\n",
       "      <td>1</td>\n",
       "      <td>0</td>\n",
       "      <td>0</td>\n",
       "      <td>1</td>\n",
       "      <td>0</td>\n",
       "    </tr>\n",
       "    <tr>\n",
       "      <th>3</th>\n",
       "      <td>0</td>\n",
       "      <td>33.27</td>\n",
       "      <td>3619</td>\n",
       "      <td>19181</td>\n",
       "      <td>18130</td>\n",
       "      <td>1152</td>\n",
       "      <td>125</td>\n",
       "      <td>1127</td>\n",
       "      <td>68</td>\n",
       "      <td>316</td>\n",
       "      <td>...</td>\n",
       "      <td>1</td>\n",
       "      <td>0</td>\n",
       "      <td>0</td>\n",
       "      <td>1</td>\n",
       "      <td>0</td>\n",
       "      <td>1</td>\n",
       "      <td>0</td>\n",
       "      <td>0</td>\n",
       "      <td>1</td>\n",
       "      <td>0</td>\n",
       "    </tr>\n",
       "    <tr>\n",
       "      <th>4</th>\n",
       "      <td>0</td>\n",
       "      <td>38.33</td>\n",
       "      <td>3098</td>\n",
       "      <td>13334</td>\n",
       "      <td>12430</td>\n",
       "      <td>1140</td>\n",
       "      <td>134</td>\n",
       "      <td>1128</td>\n",
       "      <td>48</td>\n",
       "      <td>314</td>\n",
       "      <td>...</td>\n",
       "      <td>0</td>\n",
       "      <td>1</td>\n",
       "      <td>1</td>\n",
       "      <td>0</td>\n",
       "      <td>0</td>\n",
       "      <td>1</td>\n",
       "      <td>1</td>\n",
       "      <td>0</td>\n",
       "      <td>0</td>\n",
       "      <td>0</td>\n",
       "    </tr>\n",
       "  </tbody>\n",
       "</table>\n",
       "<p>5 rows × 32 columns</p>\n",
       "</div>"
      ],
      "text/plain": [
       "   SCALE  PT_THK  PT_WDTH  PT_LTH  PT_WGT  FUR_HZ_TEMP  FUR_HZ_TIME  \\\n",
       "0      0   32.25     3707   15109   14180         1144          116   \n",
       "1      0   32.25     3707   15109   14180         1144          122   \n",
       "2      0   33.27     3619   19181   18130         1129          116   \n",
       "3      0   33.27     3619   19181   18130         1152          125   \n",
       "4      0   38.33     3098   13334   12430         1140          134   \n",
       "\n",
       "   FUR_SZ_TEMP  FUR_SZ_TIME  FUR_TIME  ...  FUR_NO_2호기  FUR_NO_3호기  \\\n",
       "0         1133           59       282  ...           0           0   \n",
       "1         1135           53       283  ...           0           0   \n",
       "2         1121           55       282  ...           1           0   \n",
       "3         1127           68       316  ...           1           0   \n",
       "4         1128           48       314  ...           0           1   \n",
       "\n",
       "   FUR_NO_ROW_1  FUR_NO_ROW_2  HSB_미적용  HSB_적용  WORK_GR_1조  WORK_GR_2조  \\\n",
       "0             1             0        0       1           0           1   \n",
       "1             0             1        0       1           0           1   \n",
       "2             1             0        0       1           0           0   \n",
       "3             0             1        0       1           0           0   \n",
       "4             1             0        0       1           1           0   \n",
       "\n",
       "   WORK_GR_3조  WORK_GR_4조  \n",
       "0           0           0  \n",
       "1           0           0  \n",
       "2           1           0  \n",
       "3           1           0  \n",
       "4           0           0  \n",
       "\n",
       "[5 rows x 32 columns]"
      ]
     },
     "execution_count": 66,
     "metadata": {},
     "output_type": "execute_result"
    }
   ],
   "source": [
    "df_temp = df_raw\n",
    "#df_temp[\"ClusterHierarhcical\"] = ds_temp[\"ClusterHierarchical\"].astype('str')\n",
    "df_dummy = pd.get_dummies(df_temp)\n",
    "df_dummy.head()"
   ]
  },
  {
   "cell_type": "code",
   "execution_count": 67,
   "metadata": {
    "colab": {
     "base_uri": "https://localhost:8080/"
    },
    "id": "n30dEUOh3LMW",
    "outputId": "1e673b2c-ead7-4237-c9f2-d97d8b2a0047"
   },
   "outputs": [
    {
     "name": "stdout",
     "output_type": "stream",
     "text": [
      "train data X size : (499, 31)\n",
      "train data Y size : (499,)\n",
      "test data X size : (215, 31)\n",
      "test data Y size : (215,)\n"
     ]
    }
   ],
   "source": [
    "df_y = df_dummy[\"SCALE\"]\n",
    "df_x = df_dummy.drop(\"SCALE\", axis = 1, inplace = False)\n",
    "df_train_x, df_test_x, df_train_y, df_test_y = train_test_split(df_x, df_y, test_size = 0.3, random_state = 1234)\n",
    "print(\"train data X size : {}\".format(df_train_x.shape))\n",
    "print(\"train data Y size : {}\".format(df_train_y.shape))\n",
    "print(\"test data X size : {}\".format(df_test_x.shape))\n",
    "print(\"test data Y size : {}\".format(df_test_y.shape))"
   ]
  },
  {
   "cell_type": "code",
   "execution_count": 68,
   "metadata": {
    "colab": {
     "base_uri": "https://localhost:8080/"
    },
    "id": "1Id5GXAh0Hym",
    "outputId": "0a1e68e3-07f9-4479-ed38-3202bdb89fe7"
   },
   "outputs": [
    {
     "data": {
      "text/plain": [
       "DecisionTreeClassifier(min_samples_leaf=20)"
      ]
     },
     "execution_count": 68,
     "metadata": {},
     "output_type": "execute_result"
    }
   ],
   "source": [
    "tree_final = DecisionTreeClassifier(min_samples_leaf=20)\n",
    "tree_final.fit(df_train_x, df_train_y)"
   ]
  },
  {
   "cell_type": "code",
   "execution_count": 69,
   "metadata": {
    "colab": {
     "base_uri": "https://localhost:8080/"
    },
    "id": "6piWfUCR0cJq",
    "outputId": "4bc0b9a5-c9ec-43b3-8b21-e125d1662747"
   },
   "outputs": [
    {
     "name": "stdout",
     "output_type": "stream",
     "text": [
      "0.9441860465116279\n",
      "[[142   2]\n",
      " [ 10  61]]\n"
     ]
    }
   ],
   "source": [
    "#평가\n",
    "y_pred = tree_final.predict(df_test_x)\n",
    "print(tree_final.score(df_test_x, df_test_y))\n",
    "print(confusion_matrix(df_test_y, y_pred))"
   ]
  },
  {
   "cell_type": "markdown",
   "metadata": {
    "id": "NMv4IInB1VJV"
   },
   "source": [
    "### 변수 중요도"
   ]
  },
  {
   "cell_type": "code",
   "execution_count": 70,
   "metadata": {
    "colab": {
     "base_uri": "https://localhost:8080/",
     "height": 419
    },
    "id": "4BpEgzHw1Au4",
    "outputId": "3c453d48-55c5-48eb-ec93-60b525ea507b"
   },
   "outputs": [
    {
     "data": {
      "text/html": [
       "<div>\n",
       "<style scoped>\n",
       "    .dataframe tbody tr th:only-of-type {\n",
       "        vertical-align: middle;\n",
       "    }\n",
       "\n",
       "    .dataframe tbody tr th {\n",
       "        vertical-align: top;\n",
       "    }\n",
       "\n",
       "    .dataframe thead th {\n",
       "        text-align: right;\n",
       "    }\n",
       "</style>\n",
       "<table border=\"1\" class=\"dataframe\">\n",
       "  <thead>\n",
       "    <tr style=\"text-align: right;\">\n",
       "      <th></th>\n",
       "      <th>Feature</th>\n",
       "      <th>Importance</th>\n",
       "    </tr>\n",
       "  </thead>\n",
       "  <tbody>\n",
       "    <tr>\n",
       "      <th>9</th>\n",
       "      <td>ROLLING_TEMP_T5</td>\n",
       "      <td>0.669</td>\n",
       "    </tr>\n",
       "    <tr>\n",
       "      <th>25</th>\n",
       "      <td>HSB_미적용</td>\n",
       "      <td>0.206</td>\n",
       "    </tr>\n",
       "    <tr>\n",
       "      <th>6</th>\n",
       "      <td>FUR_SZ_TEMP</td>\n",
       "      <td>0.085</td>\n",
       "    </tr>\n",
       "    <tr>\n",
       "      <th>0</th>\n",
       "      <td>PT_THK</td>\n",
       "      <td>0.031</td>\n",
       "    </tr>\n",
       "    <tr>\n",
       "      <th>10</th>\n",
       "      <td>ROLLING_DESCALING</td>\n",
       "      <td>0.008</td>\n",
       "    </tr>\n",
       "    <tr>\n",
       "      <th>18</th>\n",
       "      <td>STEEL_KIND_T7</td>\n",
       "      <td>0.001</td>\n",
       "    </tr>\n",
       "    <tr>\n",
       "      <th>3</th>\n",
       "      <td>PT_WGT</td>\n",
       "      <td>0.000</td>\n",
       "    </tr>\n",
       "    <tr>\n",
       "      <th>28</th>\n",
       "      <td>WORK_GR_2조</td>\n",
       "      <td>0.000</td>\n",
       "    </tr>\n",
       "    <tr>\n",
       "      <th>27</th>\n",
       "      <td>WORK_GR_1조</td>\n",
       "      <td>0.000</td>\n",
       "    </tr>\n",
       "    <tr>\n",
       "      <th>26</th>\n",
       "      <td>HSB_적용</td>\n",
       "      <td>0.000</td>\n",
       "    </tr>\n",
       "    <tr>\n",
       "      <th>29</th>\n",
       "      <td>WORK_GR_3조</td>\n",
       "      <td>0.000</td>\n",
       "    </tr>\n",
       "    <tr>\n",
       "      <th>24</th>\n",
       "      <td>FUR_NO_ROW_2</td>\n",
       "      <td>0.000</td>\n",
       "    </tr>\n",
       "    <tr>\n",
       "      <th>23</th>\n",
       "      <td>FUR_NO_ROW_1</td>\n",
       "      <td>0.000</td>\n",
       "    </tr>\n",
       "    <tr>\n",
       "      <th>22</th>\n",
       "      <td>FUR_NO_3호기</td>\n",
       "      <td>0.000</td>\n",
       "    </tr>\n",
       "    <tr>\n",
       "      <th>21</th>\n",
       "      <td>FUR_NO_2호기</td>\n",
       "      <td>0.000</td>\n",
       "    </tr>\n",
       "    <tr>\n",
       "      <th>20</th>\n",
       "      <td>FUR_NO_1호기</td>\n",
       "      <td>0.000</td>\n",
       "    </tr>\n",
       "    <tr>\n",
       "      <th>19</th>\n",
       "      <td>STEEL_KIND_T8</td>\n",
       "      <td>0.000</td>\n",
       "    </tr>\n",
       "    <tr>\n",
       "      <th>15</th>\n",
       "      <td>STEEL_KIND_T1</td>\n",
       "      <td>0.000</td>\n",
       "    </tr>\n",
       "    <tr>\n",
       "      <th>17</th>\n",
       "      <td>STEEL_KIND_T5</td>\n",
       "      <td>0.000</td>\n",
       "    </tr>\n",
       "    <tr>\n",
       "      <th>16</th>\n",
       "      <td>STEEL_KIND_T3</td>\n",
       "      <td>0.000</td>\n",
       "    </tr>\n",
       "    <tr>\n",
       "      <th>1</th>\n",
       "      <td>PT_WDTH</td>\n",
       "      <td>0.000</td>\n",
       "    </tr>\n",
       "    <tr>\n",
       "      <th>14</th>\n",
       "      <td>STEEL_KIND_T0</td>\n",
       "      <td>0.000</td>\n",
       "    </tr>\n",
       "    <tr>\n",
       "      <th>13</th>\n",
       "      <td>STEEL_KIND_C3</td>\n",
       "      <td>0.000</td>\n",
       "    </tr>\n",
       "    <tr>\n",
       "      <th>12</th>\n",
       "      <td>STEEL_KIND_C1</td>\n",
       "      <td>0.000</td>\n",
       "    </tr>\n",
       "    <tr>\n",
       "      <th>11</th>\n",
       "      <td>STEEL_KIND_C0</td>\n",
       "      <td>0.000</td>\n",
       "    </tr>\n",
       "    <tr>\n",
       "      <th>8</th>\n",
       "      <td>FUR_TIME</td>\n",
       "      <td>0.000</td>\n",
       "    </tr>\n",
       "    <tr>\n",
       "      <th>7</th>\n",
       "      <td>FUR_SZ_TIME</td>\n",
       "      <td>0.000</td>\n",
       "    </tr>\n",
       "    <tr>\n",
       "      <th>5</th>\n",
       "      <td>FUR_HZ_TIME</td>\n",
       "      <td>0.000</td>\n",
       "    </tr>\n",
       "    <tr>\n",
       "      <th>4</th>\n",
       "      <td>FUR_HZ_TEMP</td>\n",
       "      <td>0.000</td>\n",
       "    </tr>\n",
       "    <tr>\n",
       "      <th>2</th>\n",
       "      <td>PT_LTH</td>\n",
       "      <td>0.000</td>\n",
       "    </tr>\n",
       "    <tr>\n",
       "      <th>30</th>\n",
       "      <td>WORK_GR_4조</td>\n",
       "      <td>0.000</td>\n",
       "    </tr>\n",
       "  </tbody>\n",
       "</table>\n",
       "</div>"
      ],
      "text/plain": [
       "              Feature  Importance\n",
       "9     ROLLING_TEMP_T5       0.669\n",
       "25            HSB_미적용       0.206\n",
       "6         FUR_SZ_TEMP       0.085\n",
       "0              PT_THK       0.031\n",
       "10  ROLLING_DESCALING       0.008\n",
       "18      STEEL_KIND_T7       0.001\n",
       "3              PT_WGT       0.000\n",
       "28         WORK_GR_2조       0.000\n",
       "27         WORK_GR_1조       0.000\n",
       "26             HSB_적용       0.000\n",
       "29         WORK_GR_3조       0.000\n",
       "24       FUR_NO_ROW_2       0.000\n",
       "23       FUR_NO_ROW_1       0.000\n",
       "22         FUR_NO_3호기       0.000\n",
       "21         FUR_NO_2호기       0.000\n",
       "20         FUR_NO_1호기       0.000\n",
       "19      STEEL_KIND_T8       0.000\n",
       "15      STEEL_KIND_T1       0.000\n",
       "17      STEEL_KIND_T5       0.000\n",
       "16      STEEL_KIND_T3       0.000\n",
       "1             PT_WDTH       0.000\n",
       "14      STEEL_KIND_T0       0.000\n",
       "13      STEEL_KIND_C3       0.000\n",
       "12      STEEL_KIND_C1       0.000\n",
       "11      STEEL_KIND_C0       0.000\n",
       "8            FUR_TIME       0.000\n",
       "7         FUR_SZ_TIME       0.000\n",
       "5         FUR_HZ_TIME       0.000\n",
       "4         FUR_HZ_TEMP       0.000\n",
       "2              PT_LTH       0.000\n",
       "30         WORK_GR_4조       0.000"
      ]
     },
     "execution_count": 70,
     "metadata": {},
     "output_type": "execute_result"
    }
   ],
   "source": [
    "#변수명 저장\n",
    "v_feature_name = df_train_x.columns\n",
    "\n",
    "#나무를 만들 때 사용되는 변수들의 중요도\n",
    "#feature_importances_ : 설명변수의 중요도\n",
    "#tree_final, feature_importances_로 설명변수 중요도 확인 및 테이블로 저장\n",
    "df_importance = pd.DataFrame()\n",
    "df_importance['Feature'] = v_feature_name\n",
    "df_importance['Importance'] = tree_final.feature_importances_\n",
    "\n",
    "#df_feature_importance 의 테이블을 중요도별로 정렬\n",
    "df_importance.sort_values('Importance', ascending = False, inplace = True)\n",
    "df_importance.round(3)"
   ]
  },
  {
   "cell_type": "code",
   "execution_count": 71,
   "metadata": {
    "colab": {
     "base_uri": "https://localhost:8080/",
     "height": 296
    },
    "id": "XSxWVgMM1aY_",
    "outputId": "f361e2de-177f-485b-f4a9-734f76705552"
   },
   "outputs": [
    {
     "data": {
      "text/plain": [
       "Text(0, 0.5, '설명변수')"
      ]
     },
     "execution_count": 71,
     "metadata": {},
     "output_type": "execute_result"
    },
    {
     "data": {
      "image/png": "[encoded data removed]",
      "text/plain": [
       "<Figure size 432x288 with 1 Axes>"
      ]
     },
     "metadata": {
      "needs_background": "light"
     },
     "output_type": "display_data"
    }
   ],
   "source": [
    "#설명변수 중요도 그래프, 중요도가 높은 변수를 상위에 그림\n",
    "df_importance.sort_values('Importance', ascending = True, inplace = True)\n",
    "coordinates = range(len(df_importance))\n",
    "plt.barh(y = coordinates, width = df_importance['Importance'])\n",
    "plt.yticks(coordinates, df_importance['Feature'])\n",
    "plt.xlabel('설명변수 중요도')\n",
    "plt.ylabel('설명변수')"
   ]
  },
  {
   "cell_type": "markdown",
   "metadata": {
    "id": "3ibMRFGD1gY4"
   },
   "source": [
    ">* 전체 설명변수의 중요도를 확인해본 결과 압연온도(Rolling temp t5)가 불량품 분류 의사결정모델에 가장 큰 영향을 미치는 것으로 나타났다.\n",
    ">* HSB 적용과 FUR_SZ_TEMP의 영향력 또한 큰 것으로 보인다. \n",
    ">* 이후 다른 변수들의 영향력을 알아보기위해 random forest와 gradient boosting 도 진행하였다.   "
   ]
  },
  {
   "cell_type": "markdown",
   "metadata": {},
   "source": [
    "## 랜덤 포레스트"
   ]
  },
  {
   "cell_type": "code",
   "execution_count": 72,
   "metadata": {},
   "outputs": [
    {
     "name": "stdout",
     "output_type": "stream",
     "text": [
      "Accuracy on training set : 1.000\n",
      "Accuracy on test set : 0.944\n"
     ]
    }
   ],
   "source": [
    "#모델 생성\n",
    "rf_final = RFC(random_state = 1234)\n",
    "rf_final.fit(df_train_x, df_train_y)\n",
    "\n",
    "#train 데이터 설명력\n",
    "print('Accuracy on training set : {:.3f}'.format(rf_final.score(df_train_x, df_train_y)))\n",
    "\n",
    "#test 데이터 설명력\n",
    "print('Accuracy on test set : {:.3f}'.format(rf_final.score(df_test_x, df_test_y)))"
   ]
  },
  {
   "cell_type": "code",
   "execution_count": 73,
   "metadata": {},
   "outputs": [
    {
     "name": "stdout",
     "output_type": "stream",
     "text": [
      "Accuracy: 0.944186\n",
      "\n",
      "Confusion matrix : \n",
      "[[144   0]\n",
      " [ 12  59]]\n"
     ]
    }
   ],
   "source": [
    "y_pred = rf_final.predict(df_test_x)\n",
    "print('Accuracy: {0:3f}\\n'.format(rf_final.score(df_test_x, df_test_y)))\n",
    "print('Confusion matrix : \\n{}'.format(confusion_matrix(df_test_y, y_pred)))"
   ]
  },
  {
   "cell_type": "code",
   "execution_count": 74,
   "metadata": {},
   "outputs": [
    {
     "data": {
      "text/html": [
       "<div>\n",
       "<style scoped>\n",
       "    .dataframe tbody tr th:only-of-type {\n",
       "        vertical-align: middle;\n",
       "    }\n",
       "\n",
       "    .dataframe tbody tr th {\n",
       "        vertical-align: top;\n",
       "    }\n",
       "\n",
       "    .dataframe thead th {\n",
       "        text-align: right;\n",
       "    }\n",
       "</style>\n",
       "<table border=\"1\" class=\"dataframe\">\n",
       "  <thead>\n",
       "    <tr style=\"text-align: right;\">\n",
       "      <th></th>\n",
       "      <th>Feature</th>\n",
       "      <th>Importance</th>\n",
       "    </tr>\n",
       "  </thead>\n",
       "  <tbody>\n",
       "    <tr>\n",
       "      <th>9</th>\n",
       "      <td>ROLLING_TEMP_T5</td>\n",
       "      <td>0.310</td>\n",
       "    </tr>\n",
       "    <tr>\n",
       "      <th>6</th>\n",
       "      <td>FUR_SZ_TEMP</td>\n",
       "      <td>0.107</td>\n",
       "    </tr>\n",
       "    <tr>\n",
       "      <th>1</th>\n",
       "      <td>PT_WDTH</td>\n",
       "      <td>0.067</td>\n",
       "    </tr>\n",
       "    <tr>\n",
       "      <th>25</th>\n",
       "      <td>HSB_미적용</td>\n",
       "      <td>0.064</td>\n",
       "    </tr>\n",
       "    <tr>\n",
       "      <th>26</th>\n",
       "      <td>HSB_적용</td>\n",
       "      <td>0.053</td>\n",
       "    </tr>\n",
       "    <tr>\n",
       "      <th>10</th>\n",
       "      <td>ROLLING_DESCALING</td>\n",
       "      <td>0.052</td>\n",
       "    </tr>\n",
       "    <tr>\n",
       "      <th>4</th>\n",
       "      <td>FUR_HZ_TEMP</td>\n",
       "      <td>0.049</td>\n",
       "    </tr>\n",
       "    <tr>\n",
       "      <th>0</th>\n",
       "      <td>PT_THK</td>\n",
       "      <td>0.044</td>\n",
       "    </tr>\n",
       "    <tr>\n",
       "      <th>2</th>\n",
       "      <td>PT_LTH</td>\n",
       "      <td>0.042</td>\n",
       "    </tr>\n",
       "    <tr>\n",
       "      <th>3</th>\n",
       "      <td>PT_WGT</td>\n",
       "      <td>0.040</td>\n",
       "    </tr>\n",
       "    <tr>\n",
       "      <th>8</th>\n",
       "      <td>FUR_TIME</td>\n",
       "      <td>0.037</td>\n",
       "    </tr>\n",
       "    <tr>\n",
       "      <th>7</th>\n",
       "      <td>FUR_SZ_TIME</td>\n",
       "      <td>0.035</td>\n",
       "    </tr>\n",
       "    <tr>\n",
       "      <th>11</th>\n",
       "      <td>STEEL_KIND_C0</td>\n",
       "      <td>0.032</td>\n",
       "    </tr>\n",
       "    <tr>\n",
       "      <th>5</th>\n",
       "      <td>FUR_HZ_TIME</td>\n",
       "      <td>0.027</td>\n",
       "    </tr>\n",
       "    <tr>\n",
       "      <th>22</th>\n",
       "      <td>FUR_NO_3호기</td>\n",
       "      <td>0.005</td>\n",
       "    </tr>\n",
       "    <tr>\n",
       "      <th>29</th>\n",
       "      <td>WORK_GR_3조</td>\n",
       "      <td>0.004</td>\n",
       "    </tr>\n",
       "    <tr>\n",
       "      <th>30</th>\n",
       "      <td>WORK_GR_4조</td>\n",
       "      <td>0.004</td>\n",
       "    </tr>\n",
       "    <tr>\n",
       "      <th>28</th>\n",
       "      <td>WORK_GR_2조</td>\n",
       "      <td>0.004</td>\n",
       "    </tr>\n",
       "    <tr>\n",
       "      <th>24</th>\n",
       "      <td>FUR_NO_ROW_2</td>\n",
       "      <td>0.004</td>\n",
       "    </tr>\n",
       "    <tr>\n",
       "      <th>21</th>\n",
       "      <td>FUR_NO_2호기</td>\n",
       "      <td>0.004</td>\n",
       "    </tr>\n",
       "    <tr>\n",
       "      <th>23</th>\n",
       "      <td>FUR_NO_ROW_1</td>\n",
       "      <td>0.003</td>\n",
       "    </tr>\n",
       "    <tr>\n",
       "      <th>27</th>\n",
       "      <td>WORK_GR_1조</td>\n",
       "      <td>0.003</td>\n",
       "    </tr>\n",
       "    <tr>\n",
       "      <th>19</th>\n",
       "      <td>STEEL_KIND_T8</td>\n",
       "      <td>0.003</td>\n",
       "    </tr>\n",
       "    <tr>\n",
       "      <th>20</th>\n",
       "      <td>FUR_NO_1호기</td>\n",
       "      <td>0.002</td>\n",
       "    </tr>\n",
       "    <tr>\n",
       "      <th>14</th>\n",
       "      <td>STEEL_KIND_T0</td>\n",
       "      <td>0.002</td>\n",
       "    </tr>\n",
       "    <tr>\n",
       "      <th>18</th>\n",
       "      <td>STEEL_KIND_T7</td>\n",
       "      <td>0.001</td>\n",
       "    </tr>\n",
       "    <tr>\n",
       "      <th>13</th>\n",
       "      <td>STEEL_KIND_C3</td>\n",
       "      <td>0.001</td>\n",
       "    </tr>\n",
       "    <tr>\n",
       "      <th>17</th>\n",
       "      <td>STEEL_KIND_T5</td>\n",
       "      <td>0.001</td>\n",
       "    </tr>\n",
       "    <tr>\n",
       "      <th>15</th>\n",
       "      <td>STEEL_KIND_T1</td>\n",
       "      <td>0.000</td>\n",
       "    </tr>\n",
       "    <tr>\n",
       "      <th>16</th>\n",
       "      <td>STEEL_KIND_T3</td>\n",
       "      <td>0.000</td>\n",
       "    </tr>\n",
       "    <tr>\n",
       "      <th>12</th>\n",
       "      <td>STEEL_KIND_C1</td>\n",
       "      <td>0.000</td>\n",
       "    </tr>\n",
       "  </tbody>\n",
       "</table>\n",
       "</div>"
      ],
      "text/plain": [
       "              Feature  Importance\n",
       "9     ROLLING_TEMP_T5       0.310\n",
       "6         FUR_SZ_TEMP       0.107\n",
       "1             PT_WDTH       0.067\n",
       "25            HSB_미적용       0.064\n",
       "26             HSB_적용       0.053\n",
       "10  ROLLING_DESCALING       0.052\n",
       "4         FUR_HZ_TEMP       0.049\n",
       "0              PT_THK       0.044\n",
       "2              PT_LTH       0.042\n",
       "3              PT_WGT       0.040\n",
       "8            FUR_TIME       0.037\n",
       "7         FUR_SZ_TIME       0.035\n",
       "11      STEEL_KIND_C0       0.032\n",
       "5         FUR_HZ_TIME       0.027\n",
       "22         FUR_NO_3호기       0.005\n",
       "29         WORK_GR_3조       0.004\n",
       "30         WORK_GR_4조       0.004\n",
       "28         WORK_GR_2조       0.004\n",
       "24       FUR_NO_ROW_2       0.004\n",
       "21         FUR_NO_2호기       0.004\n",
       "23       FUR_NO_ROW_1       0.003\n",
       "27         WORK_GR_1조       0.003\n",
       "19      STEEL_KIND_T8       0.003\n",
       "20         FUR_NO_1호기       0.002\n",
       "14      STEEL_KIND_T0       0.002\n",
       "18      STEEL_KIND_T7       0.001\n",
       "13      STEEL_KIND_C3       0.001\n",
       "17      STEEL_KIND_T5       0.001\n",
       "15      STEEL_KIND_T1       0.000\n",
       "16      STEEL_KIND_T3       0.000\n",
       "12      STEEL_KIND_C1       0.000"
      ]
     },
     "execution_count": 74,
     "metadata": {},
     "output_type": "execute_result"
    }
   ],
   "source": [
    "#변수명 저장\n",
    "v_feature_name = df_train_x.columns\n",
    "\n",
    "#나무를 만들 때 사용되는 변수들의 중요도\n",
    "#feature_importances_ : 설명변수의 중요도\n",
    "#tree_final, feature_importances_로 설명변수 중요도 확인 및 테이블로 저장\n",
    "df_importance = pd.DataFrame()\n",
    "df_importance['Feature'] = v_feature_name\n",
    "df_importance['Importance'] = rf_final.feature_importances_\n",
    "\n",
    "#df_feature_importance 의 테이블을 중요도별로 정렬\n",
    "df_importance.sort_values('Importance', ascending = False, inplace = True)\n",
    "df_importance.round(3)"
   ]
  },
  {
   "cell_type": "code",
   "execution_count": 75,
   "metadata": {},
   "outputs": [
    {
     "data": {
      "text/plain": [
       "Text(0, 0.5, '설명변수')"
      ]
     },
     "execution_count": 75,
     "metadata": {},
     "output_type": "execute_result"
    },
    {
     "data": {
      "image/png": "[encoded data removed]",
      "text/plain": [
       "<Figure size 432x288 with 1 Axes>"
      ]
     },
     "metadata": {
      "needs_background": "light"
     },
     "output_type": "display_data"
    }
   ],
   "source": [
    "#설명변수 중요도 그래프, 중요도가 높은 변수를 상위에 그림\n",
    "df_importance.sort_values('Importance', ascending = True, inplace = True)\n",
    "coordinates = range(len(df_importance))\n",
    "plt.barh(y = coordinates, width = df_importance['Importance'])\n",
    "plt.yticks(coordinates, df_importance['Feature'])\n",
    "plt.xlabel('설명변수 중요도')\n",
    "plt.ylabel('설명변수')"
   ]
  },
  {
   "cell_type": "markdown",
   "metadata": {},
   "source": [
    ">* 랜덤포레스트 모델을 통해 전체 설명변수의 중요도를 확인해본 결과 압연온도(Rolling temp t5)가 불량품 분류모델에 가장 큰 영향을 미치는 것으로 나타났다.\n",
    ">* FUR_S2_temp의 영향력 또한 큰 것으로 보인다. \n",
    ">* HFB의 적용여부도 불량품 분류모델에 미치는 영향력이 큰 것으로 보인다."
   ]
  },
  {
   "cell_type": "markdown",
   "metadata": {},
   "source": [
    "## Gradient Boosting"
   ]
  },
  {
   "cell_type": "code",
   "execution_count": 77,
   "metadata": {},
   "outputs": [
    {
     "name": "stdout",
     "output_type": "stream",
     "text": [
      "Accuracy on training set : 1.000\n",
      "Accuracy on test set : 0.972\n"
     ]
    }
   ],
   "source": [
    "#모델 생성\n",
    "gb_final = GBC(random_state = 1234)\n",
    "gb_final.fit(df_train_x, df_train_y)\n",
    "\n",
    "#train 데이터 설명력\n",
    "print('Accuracy on training set : {:.3f}'.format(gb_final.score(df_train_x, df_train_y)))\n",
    "\n",
    "#test 데이터 설명력\n",
    "print('Accuracy on test set : {:.3f}'.format(gb_final.score(df_test_x, df_test_y)))"
   ]
  },
  {
   "cell_type": "code",
   "execution_count": 78,
   "metadata": {},
   "outputs": [
    {
     "name": "stdout",
     "output_type": "stream",
     "text": [
      "Accuracy: 0.972093\n",
      "\n",
      "Confusion matrix : \n",
      "[[144   0]\n",
      " [  6  65]]\n"
     ]
    }
   ],
   "source": [
    "y_pred = gb_final.predict(df_test_x)\n",
    "print('Accuracy: {0:3f}\\n'.format(gb_final.score(df_test_x, df_test_y)))\n",
    "print('Confusion matrix : \\n{}'.format(confusion_matrix(df_test_y, y_pred)))"
   ]
  },
  {
   "cell_type": "code",
   "execution_count": 79,
   "metadata": {},
   "outputs": [
    {
     "data": {
      "text/html": [
       "<div>\n",
       "<style scoped>\n",
       "    .dataframe tbody tr th:only-of-type {\n",
       "        vertical-align: middle;\n",
       "    }\n",
       "\n",
       "    .dataframe tbody tr th {\n",
       "        vertical-align: top;\n",
       "    }\n",
       "\n",
       "    .dataframe thead th {\n",
       "        text-align: right;\n",
       "    }\n",
       "</style>\n",
       "<table border=\"1\" class=\"dataframe\">\n",
       "  <thead>\n",
       "    <tr style=\"text-align: right;\">\n",
       "      <th></th>\n",
       "      <th>Feature</th>\n",
       "      <th>Importance</th>\n",
       "    </tr>\n",
       "  </thead>\n",
       "  <tbody>\n",
       "    <tr>\n",
       "      <th>9</th>\n",
       "      <td>ROLLING_TEMP_T5</td>\n",
       "      <td>0.581</td>\n",
       "    </tr>\n",
       "    <tr>\n",
       "      <th>6</th>\n",
       "      <td>FUR_SZ_TEMP</td>\n",
       "      <td>0.120</td>\n",
       "    </tr>\n",
       "    <tr>\n",
       "      <th>26</th>\n",
       "      <td>HSB_적용</td>\n",
       "      <td>0.091</td>\n",
       "    </tr>\n",
       "    <tr>\n",
       "      <th>25</th>\n",
       "      <td>HSB_미적용</td>\n",
       "      <td>0.088</td>\n",
       "    </tr>\n",
       "    <tr>\n",
       "      <th>10</th>\n",
       "      <td>ROLLING_DESCALING</td>\n",
       "      <td>0.051</td>\n",
       "    </tr>\n",
       "    <tr>\n",
       "      <th>0</th>\n",
       "      <td>PT_THK</td>\n",
       "      <td>0.041</td>\n",
       "    </tr>\n",
       "    <tr>\n",
       "      <th>1</th>\n",
       "      <td>PT_WDTH</td>\n",
       "      <td>0.008</td>\n",
       "    </tr>\n",
       "    <tr>\n",
       "      <th>4</th>\n",
       "      <td>FUR_HZ_TEMP</td>\n",
       "      <td>0.008</td>\n",
       "    </tr>\n",
       "    <tr>\n",
       "      <th>7</th>\n",
       "      <td>FUR_SZ_TIME</td>\n",
       "      <td>0.004</td>\n",
       "    </tr>\n",
       "    <tr>\n",
       "      <th>8</th>\n",
       "      <td>FUR_TIME</td>\n",
       "      <td>0.002</td>\n",
       "    </tr>\n",
       "    <tr>\n",
       "      <th>27</th>\n",
       "      <td>WORK_GR_1조</td>\n",
       "      <td>0.002</td>\n",
       "    </tr>\n",
       "    <tr>\n",
       "      <th>30</th>\n",
       "      <td>WORK_GR_4조</td>\n",
       "      <td>0.001</td>\n",
       "    </tr>\n",
       "    <tr>\n",
       "      <th>3</th>\n",
       "      <td>PT_WGT</td>\n",
       "      <td>0.001</td>\n",
       "    </tr>\n",
       "    <tr>\n",
       "      <th>5</th>\n",
       "      <td>FUR_HZ_TIME</td>\n",
       "      <td>0.001</td>\n",
       "    </tr>\n",
       "    <tr>\n",
       "      <th>21</th>\n",
       "      <td>FUR_NO_2호기</td>\n",
       "      <td>0.000</td>\n",
       "    </tr>\n",
       "    <tr>\n",
       "      <th>2</th>\n",
       "      <td>PT_LTH</td>\n",
       "      <td>0.000</td>\n",
       "    </tr>\n",
       "    <tr>\n",
       "      <th>22</th>\n",
       "      <td>FUR_NO_3호기</td>\n",
       "      <td>0.000</td>\n",
       "    </tr>\n",
       "    <tr>\n",
       "      <th>18</th>\n",
       "      <td>STEEL_KIND_T7</td>\n",
       "      <td>0.000</td>\n",
       "    </tr>\n",
       "    <tr>\n",
       "      <th>24</th>\n",
       "      <td>FUR_NO_ROW_2</td>\n",
       "      <td>0.000</td>\n",
       "    </tr>\n",
       "    <tr>\n",
       "      <th>23</th>\n",
       "      <td>FUR_NO_ROW_1</td>\n",
       "      <td>0.000</td>\n",
       "    </tr>\n",
       "    <tr>\n",
       "      <th>28</th>\n",
       "      <td>WORK_GR_2조</td>\n",
       "      <td>0.000</td>\n",
       "    </tr>\n",
       "    <tr>\n",
       "      <th>14</th>\n",
       "      <td>STEEL_KIND_T0</td>\n",
       "      <td>0.000</td>\n",
       "    </tr>\n",
       "    <tr>\n",
       "      <th>29</th>\n",
       "      <td>WORK_GR_3조</td>\n",
       "      <td>0.000</td>\n",
       "    </tr>\n",
       "    <tr>\n",
       "      <th>12</th>\n",
       "      <td>STEEL_KIND_C1</td>\n",
       "      <td>0.000</td>\n",
       "    </tr>\n",
       "    <tr>\n",
       "      <th>13</th>\n",
       "      <td>STEEL_KIND_C3</td>\n",
       "      <td>0.000</td>\n",
       "    </tr>\n",
       "    <tr>\n",
       "      <th>20</th>\n",
       "      <td>FUR_NO_1호기</td>\n",
       "      <td>0.000</td>\n",
       "    </tr>\n",
       "    <tr>\n",
       "      <th>19</th>\n",
       "      <td>STEEL_KIND_T8</td>\n",
       "      <td>0.000</td>\n",
       "    </tr>\n",
       "    <tr>\n",
       "      <th>17</th>\n",
       "      <td>STEEL_KIND_T5</td>\n",
       "      <td>0.000</td>\n",
       "    </tr>\n",
       "    <tr>\n",
       "      <th>16</th>\n",
       "      <td>STEEL_KIND_T3</td>\n",
       "      <td>0.000</td>\n",
       "    </tr>\n",
       "    <tr>\n",
       "      <th>11</th>\n",
       "      <td>STEEL_KIND_C0</td>\n",
       "      <td>0.000</td>\n",
       "    </tr>\n",
       "    <tr>\n",
       "      <th>15</th>\n",
       "      <td>STEEL_KIND_T1</td>\n",
       "      <td>0.000</td>\n",
       "    </tr>\n",
       "  </tbody>\n",
       "</table>\n",
       "</div>"
      ],
      "text/plain": [
       "              Feature  Importance\n",
       "9     ROLLING_TEMP_T5       0.581\n",
       "6         FUR_SZ_TEMP       0.120\n",
       "26             HSB_적용       0.091\n",
       "25            HSB_미적용       0.088\n",
       "10  ROLLING_DESCALING       0.051\n",
       "0              PT_THK       0.041\n",
       "1             PT_WDTH       0.008\n",
       "4         FUR_HZ_TEMP       0.008\n",
       "7         FUR_SZ_TIME       0.004\n",
       "8            FUR_TIME       0.002\n",
       "27         WORK_GR_1조       0.002\n",
       "30         WORK_GR_4조       0.001\n",
       "3              PT_WGT       0.001\n",
       "5         FUR_HZ_TIME       0.001\n",
       "21         FUR_NO_2호기       0.000\n",
       "2              PT_LTH       0.000\n",
       "22         FUR_NO_3호기       0.000\n",
       "18      STEEL_KIND_T7       0.000\n",
       "24       FUR_NO_ROW_2       0.000\n",
       "23       FUR_NO_ROW_1       0.000\n",
       "28         WORK_GR_2조       0.000\n",
       "14      STEEL_KIND_T0       0.000\n",
       "29         WORK_GR_3조       0.000\n",
       "12      STEEL_KIND_C1       0.000\n",
       "13      STEEL_KIND_C3       0.000\n",
       "20         FUR_NO_1호기       0.000\n",
       "19      STEEL_KIND_T8       0.000\n",
       "17      STEEL_KIND_T5       0.000\n",
       "16      STEEL_KIND_T3       0.000\n",
       "11      STEEL_KIND_C0       0.000\n",
       "15      STEEL_KIND_T1       0.000"
      ]
     },
     "execution_count": 79,
     "metadata": {},
     "output_type": "execute_result"
    }
   ],
   "source": [
    "#변수명 저장\n",
    "v_feature_name = df_train_x.columns\n",
    "\n",
    "#나무를 만들 때 사용되는 변수들의 중요도\n",
    "#feature_importances_ : 설명변수의 중요도\n",
    "#tree_final, feature_importances_로 설명변수 중요도 확인 및 테이블로 저장\n",
    "df_importance = pd.DataFrame()\n",
    "df_importance['Feature'] = v_feature_name\n",
    "df_importance['Importance'] = gb_final.feature_importances_\n",
    "\n",
    "#df_feature_importance 의 테이블을 중요도별로 정렬\n",
    "df_importance.sort_values('Importance', ascending = False, inplace = True)\n",
    "df_importance.round(3)"
   ]
  },
  {
   "cell_type": "code",
   "execution_count": 80,
   "metadata": {},
   "outputs": [
    {
     "data": {
      "text/plain": [
       "Text(0, 0.5, '설명변수')"
      ]
     },
     "execution_count": 80,
     "metadata": {},
     "output_type": "execute_result"
    },
    {
     "data": {
      "image/png": "[encoded data removed]",
      "text/plain": [
       "<Figure size 432x288 with 1 Axes>"
      ]
     },
     "metadata": {
      "needs_background": "light"
     },
     "output_type": "display_data"
    }
   ],
   "source": [
    "#설명변수 중요도 그래프, 중요도가 높은 변수를 상위에 그림\n",
    "df_importance.sort_values('Importance', ascending = True, inplace = True)\n",
    "coordinates = range(len(df_importance))\n",
    "plt.barh(y = coordinates, width = df_importance['Importance'])\n",
    "plt.yticks(coordinates, df_importance['Feature'])\n",
    "plt.xlabel('설명변수 중요도')\n",
    "plt.ylabel('설명변수')"
   ]
  },
  {
   "cell_type": "markdown",
   "metadata": {},
   "source": [
    ">* 랜덤포레스트 모델을 통해 전체 설명변수의 중요도를 확인해본 결과 압연온도(Rolling temp t5)가 불량품 분류모델에 가장 큰 영향을 미치는 것으로 나타났다.\n",
    ">* 그 이후로는 HFB의 적용여부가 불량품 분류모델에 미치는 영향력이 큰 것으로 보인다.  \n",
    ">* FUR_S2_temp와 rollling_descaling의 영향력 또한 큰 것으로 보인다. "
   ]
  },
  {
   "cell_type": "markdown",
   "metadata": {},
   "source": [
    "### 로지스틱 회귀분석, 의사결정나무, 랜덤 포레스팅, 그래디언트 부스팅 4가지 방법으로 설명변수의 중요도를 파악한 결과\n",
    "### 불량품 발생에 영향을 미치는 Vital Few는 아래와 같다.\n",
    "> 1. ROLLING_TEMP_T5(압연 온도)\n",
    "2. HSB \n",
    "> 3. FUR_SZ_TEMP(가열로 균열대 온도)\n",
    "> 4. ROLLING_DESCALING(압연 중 Descaling 횟수)\n",
    "\n",
    "### 위의 설명변수만을 추출하여 최종 모델 결정을 위한 의사결정나무 모델링을 진행했다"
   ]
  },
  {
   "cell_type": "markdown",
   "metadata": {},
   "source": [
    "## 최종 모델 결정을 위한 의사결정나무"
   ]
  },
  {
   "cell_type": "code",
   "execution_count": 81,
   "metadata": {},
   "outputs": [],
   "source": [
    "df_train_x=df_train_x[['ROLLING_TEMP_T5', 'HSB_미적용','HSB_적용', 'FUR_SZ_TEMP', 'ROLLING_DESCALING']]\n",
    "df_test_x=df_test_x[['ROLLING_TEMP_T5', 'HSB_미적용','HSB_적용', 'FUR_SZ_TEMP', 'ROLLING_DESCALING']]"
   ]
  },
  {
   "cell_type": "code",
   "execution_count": 82,
   "metadata": {},
   "outputs": [
    {
     "data": {
      "text/plain": [
       "(499, 5)"
      ]
     },
     "execution_count": 82,
     "metadata": {},
     "output_type": "execute_result"
    }
   ],
   "source": [
    "df_train_x.shape"
   ]
  },
  {
   "cell_type": "code",
   "execution_count": 83,
   "metadata": {},
   "outputs": [
    {
     "name": "stdout",
     "output_type": "stream",
     "text": [
      "Accuracy on training set:1.000\n",
      "Accuracy on test set:0.986\n"
     ]
    }
   ],
   "source": [
    "tree_uncustomized=DecisionTreeClassifier(random_state=1234)\n",
    "tree_uncustomized.fit(df_train_x,df_train_y)\n",
    "# Train 데이터 정확도\n",
    "print('Accuracy on training set:{:.3f}'.format(tree_uncustomized.score(df_train_x,df_train_y)))\n",
    "# Test 데이터 정확도\n",
    "print('Accuracy on test set:{:.3f}'.format(tree_uncustomized.score(df_test_x,df_test_y)))"
   ]
  },
  {
   "cell_type": "code",
   "execution_count": 84,
   "metadata": {},
   "outputs": [
    {
     "data": {
      "text/plain": [
       "DecisionTreeClassifier(random_state=1234)"
      ]
     },
     "execution_count": 84,
     "metadata": {},
     "output_type": "execute_result"
    }
   ],
   "source": [
    "tree_uncustomized"
   ]
  },
  {
   "cell_type": "markdown",
   "metadata": {},
   "source": [
    "### 모델 parameter 조정\n",
    "### max_depth: 최대 깊이 변경에 따른 모델 성능"
   ]
  },
  {
   "cell_type": "code",
   "execution_count": 85,
   "metadata": {},
   "outputs": [
    {
     "data": {
      "text/html": [
       "<div>\n",
       "<style scoped>\n",
       "    .dataframe tbody tr th:only-of-type {\n",
       "        vertical-align: middle;\n",
       "    }\n",
       "\n",
       "    .dataframe tbody tr th {\n",
       "        vertical-align: top;\n",
       "    }\n",
       "\n",
       "    .dataframe thead th {\n",
       "        text-align: right;\n",
       "    }\n",
       "</style>\n",
       "<table border=\"1\" class=\"dataframe\">\n",
       "  <thead>\n",
       "    <tr style=\"text-align: right;\">\n",
       "      <th></th>\n",
       "      <th>Depth</th>\n",
       "      <th>TrainScore</th>\n",
       "      <th>TestScore</th>\n",
       "    </tr>\n",
       "  </thead>\n",
       "  <tbody>\n",
       "    <tr>\n",
       "      <th>0</th>\n",
       "      <td>1</td>\n",
       "      <td>0.890</td>\n",
       "      <td>0.888</td>\n",
       "    </tr>\n",
       "    <tr>\n",
       "      <th>1</th>\n",
       "      <td>2</td>\n",
       "      <td>0.938</td>\n",
       "      <td>0.921</td>\n",
       "    </tr>\n",
       "    <tr>\n",
       "      <th>2</th>\n",
       "      <td>3</td>\n",
       "      <td>0.966</td>\n",
       "      <td>0.953</td>\n",
       "    </tr>\n",
       "    <tr>\n",
       "      <th>3</th>\n",
       "      <td>4</td>\n",
       "      <td>0.976</td>\n",
       "      <td>0.953</td>\n",
       "    </tr>\n",
       "    <tr>\n",
       "      <th>4</th>\n",
       "      <td>5</td>\n",
       "      <td>0.976</td>\n",
       "      <td>0.953</td>\n",
       "    </tr>\n",
       "    <tr>\n",
       "      <th>5</th>\n",
       "      <td>6</td>\n",
       "      <td>0.982</td>\n",
       "      <td>0.967</td>\n",
       "    </tr>\n",
       "    <tr>\n",
       "      <th>6</th>\n",
       "      <td>7</td>\n",
       "      <td>0.986</td>\n",
       "      <td>0.953</td>\n",
       "    </tr>\n",
       "    <tr>\n",
       "      <th>7</th>\n",
       "      <td>8</td>\n",
       "      <td>0.988</td>\n",
       "      <td>0.944</td>\n",
       "    </tr>\n",
       "    <tr>\n",
       "      <th>8</th>\n",
       "      <td>9</td>\n",
       "      <td>1.000</td>\n",
       "      <td>0.986</td>\n",
       "    </tr>\n",
       "    <tr>\n",
       "      <th>9</th>\n",
       "      <td>10</td>\n",
       "      <td>1.000</td>\n",
       "      <td>0.986</td>\n",
       "    </tr>\n",
       "  </tbody>\n",
       "</table>\n",
       "</div>"
      ],
      "text/plain": [
       "   Depth  TrainScore  TestScore\n",
       "0      1       0.890      0.888\n",
       "1      2       0.938      0.921\n",
       "2      3       0.966      0.953\n",
       "3      4       0.976      0.953\n",
       "4      5       0.976      0.953\n",
       "5      6       0.982      0.967\n",
       "6      7       0.986      0.953\n",
       "7      8       0.988      0.944\n",
       "8      9       1.000      0.986\n",
       "9     10       1.000      0.986"
      ]
     },
     "execution_count": 85,
     "metadata": {},
     "output_type": "execute_result"
    }
   ],
   "source": [
    "#max_depth: 최대 깊이 변경에 따른 모델 성능\n",
    "#train 및 test 설명력 결과 저장\n",
    "train_accuracy = []\n",
    "test_accuracy = []\n",
    "\n",
    "para_depth = [depth for depth in range(1,11)]\n",
    "\n",
    "for v_max_depth in para_depth:\n",
    "    tree = DecisionTreeClassifier(random_state = 1234,\n",
    "                                 max_depth = v_max_depth)\n",
    "    tree.fit(df_train_x, df_train_y)\n",
    "    train_accuracy.append(tree.score(df_train_x, df_train_y))\n",
    "    test_accuracy.append(tree.score(df_test_x, df_test_y))\n",
    "\n",
    "#결과 저장\n",
    "df_accuracy_depth = pd.DataFrame()\n",
    "df_accuracy_depth['Depth'] = para_depth\n",
    "df_accuracy_depth['TrainScore'] = train_accuracy\n",
    "df_accuracy_depth['TestScore'] = test_accuracy\n",
    "df_accuracy_depth.round(3)"
   ]
  },
  {
   "cell_type": "code",
   "execution_count": 86,
   "metadata": {},
   "outputs": [
    {
     "data": {
      "text/plain": [
       "<matplotlib.legend.Legend at 0x7f63b529f7f0>"
      ]
     },
     "execution_count": 86,
     "metadata": {},
     "output_type": "execute_result"
    },
    {
     "data": {
      "image/png": "[encoded data removed]",
      "text/plain": [
       "<Figure size 432x288 with 1 Axes>"
      ]
     },
     "metadata": {
      "needs_background": "light"
     },
     "output_type": "display_data"
    }
   ],
   "source": [
    "#모델 설명력 그래프 확인\n",
    "plt.plot(para_depth, train_accuracy, linestyle = \"-\", label = 'Train Accuracy')\n",
    "plt.plot(para_depth, test_accuracy, linestyle = \"--\", label = 'Test Accuracy')\n",
    "plt.legend()"
   ]
  },
  {
   "cell_type": "markdown",
   "metadata": {},
   "source": [
    "> 최대 깊이가 길어질 수록 모델의 정확도는 증가하지만 8에서는 감소하는 형태를 보인다.  \n",
    "> 따라서 가장 정확도가 높은 6을 최대 깊이로 정하였다."
   ]
  },
  {
   "cell_type": "code",
   "execution_count": 87,
   "metadata": {},
   "outputs": [
    {
     "data": {
      "image/svg+xml": [
       "<?xml version=\"1.0\" encoding=\"UTF-8\" standalone=\"no\"?>\n",
       "<!DOCTYPE svg PUBLIC \"-//W3C//DTD SVG 1.1//EN\"\n",
       " \"http://www.w3.org/Graphics/SVG/1.1/DTD/svg11.dtd\">\n",
       "<!-- Generated by graphviz version 2.40.1 (20161225.0304)\n",
       " -->\n",
       "<!-- Title: Tree Pages: 1 -->\n",
       "<svg width=\"525pt\" height=\"790pt\"\n",
       " viewBox=\"0.00 0.00 525.00 790.00\" xmlns=\"http://www.w3.org/2000/svg\" xmlns:xlink=\"http://www.w3.org/1999/xlink\">\n",
       "<g id=\"graph0\" class=\"graph\" transform=\"scale(1 1) rotate(0) translate(4 786)\">\n",
       "<title>Tree</title>\n",
       "<polygon fill=\"#ffffff\" stroke=\"transparent\" points=\"-4,4 -4,-786 521,-786 521,4 -4,4\"/>\n",
       "<!-- 0 -->\n",
       "<g id=\"node1\" class=\"node\">\n",
       "<title>0</title>\n",
       "<polygon fill=\"#f1bc96\" stroke=\"#000000\" points=\"498,-782 295,-782 295,-699 498,-699 498,-782\"/>\n",
       "<text text-anchor=\"middle\" x=\"396.5\" y=\"-766.8\" font-family=\"Times,serif\" font-size=\"14.00\" fill=\"#000000\">ROLLING_TEMP_T5 &lt;= 1000.5</text>\n",
       "<text text-anchor=\"middle\" x=\"396.5\" y=\"-751.8\" font-family=\"Times,serif\" font-size=\"14.00\" fill=\"#000000\">gini = 0.436</text>\n",
       "<text text-anchor=\"middle\" x=\"396.5\" y=\"-736.8\" font-family=\"Times,serif\" font-size=\"14.00\" fill=\"#000000\">samples = 499</text>\n",
       "<text text-anchor=\"middle\" x=\"396.5\" y=\"-721.8\" font-family=\"Times,serif\" font-size=\"14.00\" fill=\"#000000\">value = [339, 160]</text>\n",
       "<text text-anchor=\"middle\" x=\"396.5\" y=\"-706.8\" font-family=\"Times,serif\" font-size=\"14.00\" fill=\"#000000\">class = 양품</text>\n",
       "</g>\n",
       "<!-- 1 -->\n",
       "<g id=\"node2\" class=\"node\">\n",
       "<title>1</title>\n",
       "<polygon fill=\"#e99559\" stroke=\"#000000\" points=\"394,-663 263,-663 263,-580 394,-580 394,-663\"/>\n",
       "<text text-anchor=\"middle\" x=\"328.5\" y=\"-647.8\" font-family=\"Times,serif\" font-size=\"14.00\" fill=\"#000000\">HSB_미적용 &lt;= 0.5</text>\n",
       "<text text-anchor=\"middle\" x=\"328.5\" y=\"-632.8\" font-family=\"Times,serif\" font-size=\"14.00\" fill=\"#000000\">gini = 0.24</text>\n",
       "<text text-anchor=\"middle\" x=\"328.5\" y=\"-617.8\" font-family=\"Times,serif\" font-size=\"14.00\" fill=\"#000000\">samples = 394</text>\n",
       "<text text-anchor=\"middle\" x=\"328.5\" y=\"-602.8\" font-family=\"Times,serif\" font-size=\"14.00\" fill=\"#000000\">value = [339, 55]</text>\n",
       "<text text-anchor=\"middle\" x=\"328.5\" y=\"-587.8\" font-family=\"Times,serif\" font-size=\"14.00\" fill=\"#000000\">class = 양품</text>\n",
       "</g>\n",
       "<!-- 0&#45;&gt;1 -->\n",
       "<g id=\"edge1\" class=\"edge\">\n",
       "<title>0&#45;&gt;1</title>\n",
       "<path fill=\"none\" stroke=\"#000000\" d=\"M372.7169,-698.8796C367.7763,-690.2335 362.5184,-681.0322 357.4167,-672.1042\"/>\n",
       "<polygon fill=\"#000000\" stroke=\"#000000\" points=\"360.3849,-670.244 352.3846,-663.2981 354.3072,-673.717 360.3849,-670.244\"/>\n",
       "<text text-anchor=\"middle\" x=\"345.8067\" y=\"-683.7172\" font-family=\"Times,serif\" font-size=\"14.00\" fill=\"#000000\">True</text>\n",
       "</g>\n",
       "<!-- 14 -->\n",
       "<g id=\"node15\" class=\"node\">\n",
       "<title>14</title>\n",
       "<polygon fill=\"#399de5\" stroke=\"#000000\" points=\"517,-655.5 412,-655.5 412,-587.5 517,-587.5 517,-655.5\"/>\n",
       "<text text-anchor=\"middle\" x=\"464.5\" y=\"-640.3\" font-family=\"Times,serif\" font-size=\"14.00\" fill=\"#000000\">gini = 0.0</text>\n",
       "<text text-anchor=\"middle\" x=\"464.5\" y=\"-625.3\" font-family=\"Times,serif\" font-size=\"14.00\" fill=\"#000000\">samples = 105</text>\n",
       "<text text-anchor=\"middle\" x=\"464.5\" y=\"-610.3\" font-family=\"Times,serif\" font-size=\"14.00\" fill=\"#000000\">value = [0, 105]</text>\n",
       "<text text-anchor=\"middle\" x=\"464.5\" y=\"-595.3\" font-family=\"Times,serif\" font-size=\"14.00\" fill=\"#000000\">class = 불량</text>\n",
       "</g>\n",
       "<!-- 0&#45;&gt;14 -->\n",
       "<g id=\"edge14\" class=\"edge\">\n",
       "<title>0&#45;&gt;14</title>\n",
       "<path fill=\"none\" stroke=\"#000000\" d=\"M420.2831,-698.8796C426.6294,-687.7735 433.4993,-675.7513 439.8891,-664.5691\"/>\n",
       "<polygon fill=\"#000000\" stroke=\"#000000\" points=\"442.9689,-666.2339 444.8915,-655.8149 436.8912,-662.7609 442.9689,-666.2339\"/>\n",
       "<text text-anchor=\"middle\" x=\"451.4694\" y=\"-676.234\" font-family=\"Times,serif\" font-size=\"14.00\" fill=\"#000000\">False</text>\n",
       "</g>\n",
       "<!-- 2 -->\n",
       "<g id=\"node3\" class=\"node\">\n",
       "<title>2</title>\n",
       "<polygon fill=\"#e78d4b\" stroke=\"#000000\" points=\"337.5,-544 167.5,-544 167.5,-461 337.5,-461 337.5,-544\"/>\n",
       "<text text-anchor=\"middle\" x=\"252.5\" y=\"-528.8\" font-family=\"Times,serif\" font-size=\"14.00\" fill=\"#000000\">FUR_SZ_TEMP &lt;= 1175.5</text>\n",
       "<text text-anchor=\"middle\" x=\"252.5\" y=\"-513.8\" font-family=\"Times,serif\" font-size=\"14.00\" fill=\"#000000\">gini = 0.154</text>\n",
       "<text text-anchor=\"middle\" x=\"252.5\" y=\"-498.8\" font-family=\"Times,serif\" font-size=\"14.00\" fill=\"#000000\">samples = 370</text>\n",
       "<text text-anchor=\"middle\" x=\"252.5\" y=\"-483.8\" font-family=\"Times,serif\" font-size=\"14.00\" fill=\"#000000\">value = [339, 31]</text>\n",
       "<text text-anchor=\"middle\" x=\"252.5\" y=\"-468.8\" font-family=\"Times,serif\" font-size=\"14.00\" fill=\"#000000\">class = 양품</text>\n",
       "</g>\n",
       "<!-- 1&#45;&gt;2 -->\n",
       "<g id=\"edge2\" class=\"edge\">\n",
       "<title>1&#45;&gt;2</title>\n",
       "<path fill=\"none\" stroke=\"#000000\" d=\"M301.9189,-579.8796C296.3395,-571.1434 290.3981,-561.8404 284.6405,-552.8253\"/>\n",
       "<polygon fill=\"#000000\" stroke=\"#000000\" points=\"287.5269,-550.8421 279.1946,-544.2981 281.6274,-554.6098 287.5269,-550.8421\"/>\n",
       "</g>\n",
       "<!-- 13 -->\n",
       "<g id=\"node14\" class=\"node\">\n",
       "<title>13</title>\n",
       "<polygon fill=\"#399de5\" stroke=\"#000000\" points=\"453.5,-536.5 355.5,-536.5 355.5,-468.5 453.5,-468.5 453.5,-536.5\"/>\n",
       "<text text-anchor=\"middle\" x=\"404.5\" y=\"-521.3\" font-family=\"Times,serif\" font-size=\"14.00\" fill=\"#000000\">gini = 0.0</text>\n",
       "<text text-anchor=\"middle\" x=\"404.5\" y=\"-506.3\" font-family=\"Times,serif\" font-size=\"14.00\" fill=\"#000000\">samples = 24</text>\n",
       "<text text-anchor=\"middle\" x=\"404.5\" y=\"-491.3\" font-family=\"Times,serif\" font-size=\"14.00\" fill=\"#000000\">value = [0, 24]</text>\n",
       "<text text-anchor=\"middle\" x=\"404.5\" y=\"-476.3\" font-family=\"Times,serif\" font-size=\"14.00\" fill=\"#000000\">class = 불량</text>\n",
       "</g>\n",
       "<!-- 1&#45;&gt;13 -->\n",
       "<g id=\"edge13\" class=\"edge\">\n",
       "<title>1&#45;&gt;13</title>\n",
       "<path fill=\"none\" stroke=\"#000000\" d=\"M355.0811,-579.8796C362.174,-568.7735 369.8521,-556.7513 376.9937,-545.5691\"/>\n",
       "<polygon fill=\"#000000\" stroke=\"#000000\" points=\"380.1518,-547.1267 382.5846,-536.8149 374.2523,-543.3589 380.1518,-547.1267\"/>\n",
       "</g>\n",
       "<!-- 3 -->\n",
       "<g id=\"node4\" class=\"node\">\n",
       "<title>3</title>\n",
       "<polygon fill=\"#e68743\" stroke=\"#000000\" points=\"269.5,-425 69.5,-425 69.5,-342 269.5,-342 269.5,-425\"/>\n",
       "<text text-anchor=\"middle\" x=\"169.5\" y=\"-409.8\" font-family=\"Times,serif\" font-size=\"14.00\" fill=\"#000000\">ROLLING_DESCALING &lt;= 5.5</text>\n",
       "<text text-anchor=\"middle\" x=\"169.5\" y=\"-394.8\" font-family=\"Times,serif\" font-size=\"14.00\" fill=\"#000000\">gini = 0.091</text>\n",
       "<text text-anchor=\"middle\" x=\"169.5\" y=\"-379.8\" font-family=\"Times,serif\" font-size=\"14.00\" fill=\"#000000\">samples = 356</text>\n",
       "<text text-anchor=\"middle\" x=\"169.5\" y=\"-364.8\" font-family=\"Times,serif\" font-size=\"14.00\" fill=\"#000000\">value = [339, 17]</text>\n",
       "<text text-anchor=\"middle\" x=\"169.5\" y=\"-349.8\" font-family=\"Times,serif\" font-size=\"14.00\" fill=\"#000000\">class = 양품</text>\n",
       "</g>\n",
       "<!-- 2&#45;&gt;3 -->\n",
       "<g id=\"edge3\" class=\"edge\">\n",
       "<title>2&#45;&gt;3</title>\n",
       "<path fill=\"none\" stroke=\"#000000\" d=\"M223.4706,-460.8796C217.3145,-452.0534 210.7549,-442.6485 204.4064,-433.5466\"/>\n",
       "<polygon fill=\"#000000\" stroke=\"#000000\" points=\"207.2448,-431.4978 198.6533,-425.2981 201.5033,-435.5024 207.2448,-431.4978\"/>\n",
       "</g>\n",
       "<!-- 12 -->\n",
       "<g id=\"node13\" class=\"node\">\n",
       "<title>12</title>\n",
       "<polygon fill=\"#399de5\" stroke=\"#000000\" points=\"385.5,-417.5 287.5,-417.5 287.5,-349.5 385.5,-349.5 385.5,-417.5\"/>\n",
       "<text text-anchor=\"middle\" x=\"336.5\" y=\"-402.3\" font-family=\"Times,serif\" font-size=\"14.00\" fill=\"#000000\">gini = 0.0</text>\n",
       "<text text-anchor=\"middle\" x=\"336.5\" y=\"-387.3\" font-family=\"Times,serif\" font-size=\"14.00\" fill=\"#000000\">samples = 14</text>\n",
       "<text text-anchor=\"middle\" x=\"336.5\" y=\"-372.3\" font-family=\"Times,serif\" font-size=\"14.00\" fill=\"#000000\">value = [0, 14]</text>\n",
       "<text text-anchor=\"middle\" x=\"336.5\" y=\"-357.3\" font-family=\"Times,serif\" font-size=\"14.00\" fill=\"#000000\">class = 불량</text>\n",
       "</g>\n",
       "<!-- 2&#45;&gt;12 -->\n",
       "<g id=\"edge12\" class=\"edge\">\n",
       "<title>2&#45;&gt;12</title>\n",
       "<path fill=\"none\" stroke=\"#000000\" d=\"M281.8791,-460.8796C289.7963,-449.6636 298.3731,-437.5131 306.3325,-426.2372\"/>\n",
       "<polygon fill=\"#000000\" stroke=\"#000000\" points=\"309.3702,-428.003 312.2777,-417.8149 303.6514,-423.9662 309.3702,-428.003\"/>\n",
       "</g>\n",
       "<!-- 4 -->\n",
       "<g id=\"node5\" class=\"node\">\n",
       "<title>4</title>\n",
       "<polygon fill=\"#399de5\" stroke=\"#000000\" points=\"134.5,-298.5 42.5,-298.5 42.5,-230.5 134.5,-230.5 134.5,-298.5\"/>\n",
       "<text text-anchor=\"middle\" x=\"88.5\" y=\"-283.3\" font-family=\"Times,serif\" font-size=\"14.00\" fill=\"#000000\">gini = 0.0</text>\n",
       "<text text-anchor=\"middle\" x=\"88.5\" y=\"-268.3\" font-family=\"Times,serif\" font-size=\"14.00\" fill=\"#000000\">samples = 5</text>\n",
       "<text text-anchor=\"middle\" x=\"88.5\" y=\"-253.3\" font-family=\"Times,serif\" font-size=\"14.00\" fill=\"#000000\">value = [0, 5]</text>\n",
       "<text text-anchor=\"middle\" x=\"88.5\" y=\"-238.3\" font-family=\"Times,serif\" font-size=\"14.00\" fill=\"#000000\">class = 불량</text>\n",
       "</g>\n",
       "<!-- 3&#45;&gt;4 -->\n",
       "<g id=\"edge4\" class=\"edge\">\n",
       "<title>3&#45;&gt;4</title>\n",
       "<path fill=\"none\" stroke=\"#000000\" d=\"M141.1701,-341.8796C133.5357,-330.6636 125.2652,-318.5131 117.5901,-307.2372\"/>\n",
       "<polygon fill=\"#000000\" stroke=\"#000000\" points=\"120.3775,-305.1122 111.8572,-298.8149 114.5908,-309.0511 120.3775,-305.1122\"/>\n",
       "</g>\n",
       "<!-- 5 -->\n",
       "<g id=\"node6\" class=\"node\">\n",
       "<title>5</title>\n",
       "<polygon fill=\"#e68540\" stroke=\"#000000\" points=\"348.5,-306 152.5,-306 152.5,-223 348.5,-223 348.5,-306\"/>\n",
       "<text text-anchor=\"middle\" x=\"250.5\" y=\"-290.8\" font-family=\"Times,serif\" font-size=\"14.00\" fill=\"#000000\">ROLLING_TEMP_T5 &lt;= 960.5</text>\n",
       "<text text-anchor=\"middle\" x=\"250.5\" y=\"-275.8\" font-family=\"Times,serif\" font-size=\"14.00\" fill=\"#000000\">gini = 0.066</text>\n",
       "<text text-anchor=\"middle\" x=\"250.5\" y=\"-260.8\" font-family=\"Times,serif\" font-size=\"14.00\" fill=\"#000000\">samples = 351</text>\n",
       "<text text-anchor=\"middle\" x=\"250.5\" y=\"-245.8\" font-family=\"Times,serif\" font-size=\"14.00\" fill=\"#000000\">value = [339, 12]</text>\n",
       "<text text-anchor=\"middle\" x=\"250.5\" y=\"-230.8\" font-family=\"Times,serif\" font-size=\"14.00\" fill=\"#000000\">class = 양품</text>\n",
       "</g>\n",
       "<!-- 3&#45;&gt;5 -->\n",
       "<g id=\"edge5\" class=\"edge\">\n",
       "<title>3&#45;&gt;5</title>\n",
       "<path fill=\"none\" stroke=\"#000000\" d=\"M197.8299,-341.8796C203.7763,-333.1434 210.1086,-323.8404 216.245,-314.8253\"/>\n",
       "<polygon fill=\"#000000\" stroke=\"#000000\" points=\"219.3156,-316.5342 222.0492,-306.2981 213.5289,-312.5953 219.3156,-316.5342\"/>\n",
       "</g>\n",
       "<!-- 6 -->\n",
       "<g id=\"node7\" class=\"node\">\n",
       "<title>6</title>\n",
       "<polygon fill=\"#e5823b\" stroke=\"#000000\" points=\"234.5,-187 64.5,-187 64.5,-104 234.5,-104 234.5,-187\"/>\n",
       "<text text-anchor=\"middle\" x=\"149.5\" y=\"-171.8\" font-family=\"Times,serif\" font-size=\"14.00\" fill=\"#000000\">FUR_SZ_TEMP &lt;= 1152.0</text>\n",
       "<text text-anchor=\"middle\" x=\"149.5\" y=\"-156.8\" font-family=\"Times,serif\" font-size=\"14.00\" fill=\"#000000\">gini = 0.023</text>\n",
       "<text text-anchor=\"middle\" x=\"149.5\" y=\"-141.8\" font-family=\"Times,serif\" font-size=\"14.00\" fill=\"#000000\">samples = 259</text>\n",
       "<text text-anchor=\"middle\" x=\"149.5\" y=\"-126.8\" font-family=\"Times,serif\" font-size=\"14.00\" fill=\"#000000\">value = [256, 3]</text>\n",
       "<text text-anchor=\"middle\" x=\"149.5\" y=\"-111.8\" font-family=\"Times,serif\" font-size=\"14.00\" fill=\"#000000\">class = 양품</text>\n",
       "</g>\n",
       "<!-- 5&#45;&gt;6 -->\n",
       "<g id=\"edge6\" class=\"edge\">\n",
       "<title>5&#45;&gt;6</title>\n",
       "<path fill=\"none\" stroke=\"#000000\" d=\"M215.1751,-222.8796C207.5311,-213.8733 199.3757,-204.2644 191.5039,-194.9897\"/>\n",
       "<polygon fill=\"#000000\" stroke=\"#000000\" points=\"194.1151,-192.6574 184.9757,-187.2981 188.7782,-197.1871 194.1151,-192.6574\"/>\n",
       "</g>\n",
       "<!-- 9 -->\n",
       "<g id=\"node10\" class=\"node\">\n",
       "<title>9</title>\n",
       "<polygon fill=\"#e88f4e\" stroke=\"#000000\" points=\"452.5,-187 252.5,-187 252.5,-104 452.5,-104 452.5,-187\"/>\n",
       "<text text-anchor=\"middle\" x=\"352.5\" y=\"-171.8\" font-family=\"Times,serif\" font-size=\"14.00\" fill=\"#000000\">ROLLING_DESCALING &lt;= 7.5</text>\n",
       "<text text-anchor=\"middle\" x=\"352.5\" y=\"-156.8\" font-family=\"Times,serif\" font-size=\"14.00\" fill=\"#000000\">gini = 0.177</text>\n",
       "<text text-anchor=\"middle\" x=\"352.5\" y=\"-141.8\" font-family=\"Times,serif\" font-size=\"14.00\" fill=\"#000000\">samples = 92</text>\n",
       "<text text-anchor=\"middle\" x=\"352.5\" y=\"-126.8\" font-family=\"Times,serif\" font-size=\"14.00\" fill=\"#000000\">value = [83, 9]</text>\n",
       "<text text-anchor=\"middle\" x=\"352.5\" y=\"-111.8\" font-family=\"Times,serif\" font-size=\"14.00\" fill=\"#000000\">class = 양품</text>\n",
       "</g>\n",
       "<!-- 5&#45;&gt;9 -->\n",
       "<g id=\"edge9\" class=\"edge\">\n",
       "<title>5&#45;&gt;9</title>\n",
       "<path fill=\"none\" stroke=\"#000000\" d=\"M286.1747,-222.8796C293.8943,-213.8733 302.1305,-204.2644 310.0803,-194.9897\"/>\n",
       "<polygon fill=\"#000000\" stroke=\"#000000\" points=\"312.8225,-197.1684 316.6731,-187.2981 307.5077,-192.6129 312.8225,-197.1684\"/>\n",
       "</g>\n",
       "<!-- 7 -->\n",
       "<g id=\"node8\" class=\"node\">\n",
       "<title>7</title>\n",
       "<polygon fill=\"#e58139\" stroke=\"#000000\" points=\"105,-68 0,-68 0,0 105,0 105,-68\"/>\n",
       "<text text-anchor=\"middle\" x=\"52.5\" y=\"-52.8\" font-family=\"Times,serif\" font-size=\"14.00\" fill=\"#000000\">gini = 0.0</text>\n",
       "<text text-anchor=\"middle\" x=\"52.5\" y=\"-37.8\" font-family=\"Times,serif\" font-size=\"14.00\" fill=\"#000000\">samples = 178</text>\n",
       "<text text-anchor=\"middle\" x=\"52.5\" y=\"-22.8\" font-family=\"Times,serif\" font-size=\"14.00\" fill=\"#000000\">value = [178, 0]</text>\n",
       "<text text-anchor=\"middle\" x=\"52.5\" y=\"-7.8\" font-family=\"Times,serif\" font-size=\"14.00\" fill=\"#000000\">class = 양품</text>\n",
       "</g>\n",
       "<!-- 6&#45;&gt;7 -->\n",
       "<g id=\"edge7\" class=\"edge\">\n",
       "<title>6&#45;&gt;7</title>\n",
       "<path fill=\"none\" stroke=\"#000000\" d=\"M113.3808,-103.9815C105.3853,-94.7908 96.9087,-85.0472 88.9021,-75.8436\"/>\n",
       "<polygon fill=\"#000000\" stroke=\"#000000\" points=\"91.512,-73.5111 82.3079,-68.2637 86.2307,-78.1055 91.512,-73.5111\"/>\n",
       "</g>\n",
       "<!-- 8 -->\n",
       "<g id=\"node9\" class=\"node\">\n",
       "<title>8</title>\n",
       "<polygon fill=\"#e68641\" stroke=\"#000000\" points=\"221.5,-68 123.5,-68 123.5,0 221.5,0 221.5,-68\"/>\n",
       "<text text-anchor=\"middle\" x=\"172.5\" y=\"-52.8\" font-family=\"Times,serif\" font-size=\"14.00\" fill=\"#000000\">gini = 0.071</text>\n",
       "<text text-anchor=\"middle\" x=\"172.5\" y=\"-37.8\" font-family=\"Times,serif\" font-size=\"14.00\" fill=\"#000000\">samples = 81</text>\n",
       "<text text-anchor=\"middle\" x=\"172.5\" y=\"-22.8\" font-family=\"Times,serif\" font-size=\"14.00\" fill=\"#000000\">value = [78, 3]</text>\n",
       "<text text-anchor=\"middle\" x=\"172.5\" y=\"-7.8\" font-family=\"Times,serif\" font-size=\"14.00\" fill=\"#000000\">class = 양품</text>\n",
       "</g>\n",
       "<!-- 6&#45;&gt;8 -->\n",
       "<g id=\"edge8\" class=\"edge\">\n",
       "<title>6&#45;&gt;8</title>\n",
       "<path fill=\"none\" stroke=\"#000000\" d=\"M158.0644,-103.9815C159.8085,-95.5261 161.6492,-86.6026 163.4109,-78.0623\"/>\n",
       "<polygon fill=\"#000000\" stroke=\"#000000\" points=\"166.8397,-78.7646 165.4322,-68.2637 159.984,-77.3504 166.8397,-78.7646\"/>\n",
       "</g>\n",
       "<!-- 10 -->\n",
       "<g id=\"node11\" class=\"node\">\n",
       "<title>10</title>\n",
       "<polygon fill=\"#6ab6ec\" stroke=\"#000000\" points=\"376.5,-68 284.5,-68 284.5,0 376.5,0 376.5,-68\"/>\n",
       "<text text-anchor=\"middle\" x=\"330.5\" y=\"-52.8\" font-family=\"Times,serif\" font-size=\"14.00\" fill=\"#000000\">gini = 0.32</text>\n",
       "<text text-anchor=\"middle\" x=\"330.5\" y=\"-37.8\" font-family=\"Times,serif\" font-size=\"14.00\" fill=\"#000000\">samples = 5</text>\n",
       "<text text-anchor=\"middle\" x=\"330.5\" y=\"-22.8\" font-family=\"Times,serif\" font-size=\"14.00\" fill=\"#000000\">value = [1, 4]</text>\n",
       "<text text-anchor=\"middle\" x=\"330.5\" y=\"-7.8\" font-family=\"Times,serif\" font-size=\"14.00\" fill=\"#000000\">class = 불량</text>\n",
       "</g>\n",
       "<!-- 9&#45;&gt;10 -->\n",
       "<g id=\"edge10\" class=\"edge\">\n",
       "<title>9&#45;&gt;10</title>\n",
       "<path fill=\"none\" stroke=\"#000000\" d=\"M344.308,-103.9815C342.6578,-95.618 340.9173,-86.7965 339.2489,-78.3409\"/>\n",
       "<polygon fill=\"#000000\" stroke=\"#000000\" points=\"342.6302,-77.397 337.2605,-68.2637 335.7626,-78.7521 342.6302,-77.397\"/>\n",
       "</g>\n",
       "<!-- 11 -->\n",
       "<g id=\"node12\" class=\"node\">\n",
       "<title>11</title>\n",
       "<polygon fill=\"#e78945\" stroke=\"#000000\" points=\"492.5,-68 394.5,-68 394.5,0 492.5,0 492.5,-68\"/>\n",
       "<text text-anchor=\"middle\" x=\"443.5\" y=\"-52.8\" font-family=\"Times,serif\" font-size=\"14.00\" fill=\"#000000\">gini = 0.108</text>\n",
       "<text text-anchor=\"middle\" x=\"443.5\" y=\"-37.8\" font-family=\"Times,serif\" font-size=\"14.00\" fill=\"#000000\">samples = 87</text>\n",
       "<text text-anchor=\"middle\" x=\"443.5\" y=\"-22.8\" font-family=\"Times,serif\" font-size=\"14.00\" fill=\"#000000\">value = [82, 5]</text>\n",
       "<text text-anchor=\"middle\" x=\"443.5\" y=\"-7.8\" font-family=\"Times,serif\" font-size=\"14.00\" fill=\"#000000\">class = 양품</text>\n",
       "</g>\n",
       "<!-- 9&#45;&gt;11 -->\n",
       "<g id=\"edge11\" class=\"edge\">\n",
       "<title>9&#45;&gt;11</title>\n",
       "<path fill=\"none\" stroke=\"#000000\" d=\"M386.385,-103.9815C393.8109,-94.8828 401.6792,-85.242 409.1241,-76.1199\"/>\n",
       "<polygon fill=\"#000000\" stroke=\"#000000\" points=\"411.9245,-78.224 415.5359,-68.2637 406.5014,-73.798 411.9245,-78.224\"/>\n",
       "</g>\n",
       "</g>\n",
       "</svg>\n"
      ],
      "text/plain": [
       "<graphviz.files.Source at 0x7f63b52d04c0>"
      ]
     },
     "metadata": {},
     "output_type": "display_data"
    }
   ],
   "source": [
    "#변수명 저장\n",
    "v_feature_name = df_train_x.columns\n",
    "\n",
    "#최대 깊이 = 4 모델\n",
    "tree_low = DecisionTreeClassifier(max_depth = 6,random_state = 1234)\n",
    "tree_low.fit(df_train_x , df_train_y)\n",
    "\n",
    "#트리 모델을 tree_low.dot 파일로 저장(목표변수 , 0: 양품, 1:불량)\n",
    "export_graphviz(tree_low, out_file = 'tree_low.dot', class_names = ['양품', '불량'], \n",
    "                feature_names = v_feature_name, impurity = True, filled = True)\n",
    "with open('tree_low.dot') as f:\n",
    "    dot_graph = f.read()\n",
    "display(graphviz.Source(dot_graph))"
   ]
  },
  {
   "cell_type": "markdown",
   "metadata": {},
   "source": [
    "### min_samples_split : 분리 노드의 최소 자료 수 변경에 따른 모델 성능"
   ]
  },
  {
   "cell_type": "code",
   "execution_count": 88,
   "metadata": {},
   "outputs": [
    {
     "data": {
      "text/html": [
       "<div>\n",
       "<style scoped>\n",
       "    .dataframe tbody tr th:only-of-type {\n",
       "        vertical-align: middle;\n",
       "    }\n",
       "\n",
       "    .dataframe tbody tr th {\n",
       "        vertical-align: top;\n",
       "    }\n",
       "\n",
       "    .dataframe thead th {\n",
       "        text-align: right;\n",
       "    }\n",
       "</style>\n",
       "<table border=\"1\" class=\"dataframe\">\n",
       "  <thead>\n",
       "    <tr style=\"text-align: right;\">\n",
       "      <th></th>\n",
       "      <th>MinSamplesSplit</th>\n",
       "      <th>Trainaccuracy</th>\n",
       "      <th>Testaccuracy</th>\n",
       "    </tr>\n",
       "  </thead>\n",
       "  <tbody>\n",
       "    <tr>\n",
       "      <th>0</th>\n",
       "      <td>10</td>\n",
       "      <td>0.982</td>\n",
       "      <td>0.967</td>\n",
       "    </tr>\n",
       "    <tr>\n",
       "      <th>1</th>\n",
       "      <td>20</td>\n",
       "      <td>0.982</td>\n",
       "      <td>0.967</td>\n",
       "    </tr>\n",
       "    <tr>\n",
       "      <th>2</th>\n",
       "      <td>30</td>\n",
       "      <td>0.982</td>\n",
       "      <td>0.967</td>\n",
       "    </tr>\n",
       "    <tr>\n",
       "      <th>3</th>\n",
       "      <td>40</td>\n",
       "      <td>0.982</td>\n",
       "      <td>0.967</td>\n",
       "    </tr>\n",
       "    <tr>\n",
       "      <th>4</th>\n",
       "      <td>50</td>\n",
       "      <td>0.982</td>\n",
       "      <td>0.967</td>\n",
       "    </tr>\n",
       "    <tr>\n",
       "      <th>5</th>\n",
       "      <td>60</td>\n",
       "      <td>0.982</td>\n",
       "      <td>0.967</td>\n",
       "    </tr>\n",
       "    <tr>\n",
       "      <th>6</th>\n",
       "      <td>70</td>\n",
       "      <td>0.982</td>\n",
       "      <td>0.967</td>\n",
       "    </tr>\n",
       "    <tr>\n",
       "      <th>7</th>\n",
       "      <td>80</td>\n",
       "      <td>0.982</td>\n",
       "      <td>0.967</td>\n",
       "    </tr>\n",
       "    <tr>\n",
       "      <th>8</th>\n",
       "      <td>90</td>\n",
       "      <td>0.982</td>\n",
       "      <td>0.967</td>\n",
       "    </tr>\n",
       "    <tr>\n",
       "      <th>9</th>\n",
       "      <td>100</td>\n",
       "      <td>0.976</td>\n",
       "      <td>0.953</td>\n",
       "    </tr>\n",
       "  </tbody>\n",
       "</table>\n",
       "</div>"
      ],
      "text/plain": [
       "   MinSamplesSplit  Trainaccuracy  Testaccuracy\n",
       "0               10          0.982         0.967\n",
       "1               20          0.982         0.967\n",
       "2               30          0.982         0.967\n",
       "3               40          0.982         0.967\n",
       "4               50          0.982         0.967\n",
       "5               60          0.982         0.967\n",
       "6               70          0.982         0.967\n",
       "7               80          0.982         0.967\n",
       "8               90          0.982         0.967\n",
       "9              100          0.976         0.953"
      ]
     },
     "execution_count": 88,
     "metadata": {},
     "output_type": "execute_result"
    }
   ],
   "source": [
    "#train 및 test 설명력 결과 저장\n",
    "train_accuracy = []\n",
    "test_accuracy = []\n",
    "\n",
    "para_split = [n_split * 10 for n_split in range(1,11)]\n",
    "\n",
    "for v_min_samples_split in para_split:\n",
    "    tree = DecisionTreeClassifier(random_state = 1234,\n",
    "                                 max_depth = 6,\n",
    "                                 min_samples_split = v_min_samples_split)\n",
    "    tree.fit(df_train_x, df_train_y)\n",
    "    train_accuracy.append(tree.score(df_train_x, df_train_y))\n",
    "    test_accuracy.append(tree.score(df_test_x, df_test_y))\n",
    "\n",
    "#결과 저장\n",
    "df_score_split = pd.DataFrame()\n",
    "df_score_split['MinSamplesSplit'] = para_split\n",
    "df_score_split['Trainaccuracy'] = train_accuracy\n",
    "df_score_split['Testaccuracy'] = test_accuracy\n",
    "df_score_split.round(3)"
   ]
  },
  {
   "cell_type": "code",
   "execution_count": 89,
   "metadata": {},
   "outputs": [
    {
     "data": {
      "text/plain": [
       "<matplotlib.legend.Legend at 0x7f63b5286370>"
      ]
     },
     "execution_count": 89,
     "metadata": {},
     "output_type": "execute_result"
    },
    {
     "data": {
      "image/png": "[encoded data removed]",
      "text/plain": [
       "<Figure size 432x288 with 1 Axes>"
      ]
     },
     "metadata": {
      "needs_background": "light"
     },
     "output_type": "display_data"
    }
   ],
   "source": [
    "#모델 설명력 그래프 확인\n",
    "plt.plot(para_split, train_accuracy, linestyle = \"-\", label = 'Trainccuracy')\n",
    "plt.plot(para_split, test_accuracy, linestyle = \"--\", label = 'Testaccuracy')\n",
    "plt.legend()"
   ]
  },
  {
   "cell_type": "markdown",
   "metadata": {},
   "source": [
    "> 모델의 정확도는 분리 노드의 갯수에 크게 영향을 받지 않는 것으로 보이므로 고려 대상에서 제외하였다."
   ]
  },
  {
   "cell_type": "markdown",
   "metadata": {},
   "source": [
    "### min_samples_leaf : 잎사귀 노드의 최소 자료 수 변경에 따른 모델 성능"
   ]
  },
  {
   "cell_type": "code",
   "execution_count": 90,
   "metadata": {},
   "outputs": [
    {
     "data": {
      "text/html": [
       "<div>\n",
       "<style scoped>\n",
       "    .dataframe tbody tr th:only-of-type {\n",
       "        vertical-align: middle;\n",
       "    }\n",
       "\n",
       "    .dataframe tbody tr th {\n",
       "        vertical-align: top;\n",
       "    }\n",
       "\n",
       "    .dataframe thead th {\n",
       "        text-align: right;\n",
       "    }\n",
       "</style>\n",
       "<table border=\"1\" class=\"dataframe\">\n",
       "  <thead>\n",
       "    <tr style=\"text-align: right;\">\n",
       "      <th></th>\n",
       "      <th>MinSamplesLeaf</th>\n",
       "      <th>TrainAccuracy</th>\n",
       "      <th>TestAccuracy</th>\n",
       "    </tr>\n",
       "  </thead>\n",
       "  <tbody>\n",
       "    <tr>\n",
       "      <th>0</th>\n",
       "      <td>2</td>\n",
       "      <td>0.982</td>\n",
       "      <td>0.967</td>\n",
       "    </tr>\n",
       "    <tr>\n",
       "      <th>1</th>\n",
       "      <td>4</td>\n",
       "      <td>0.982</td>\n",
       "      <td>0.967</td>\n",
       "    </tr>\n",
       "    <tr>\n",
       "      <th>2</th>\n",
       "      <td>6</td>\n",
       "      <td>0.982</td>\n",
       "      <td>0.986</td>\n",
       "    </tr>\n",
       "    <tr>\n",
       "      <th>3</th>\n",
       "      <td>8</td>\n",
       "      <td>0.982</td>\n",
       "      <td>0.986</td>\n",
       "    </tr>\n",
       "    <tr>\n",
       "      <th>4</th>\n",
       "      <td>10</td>\n",
       "      <td>0.966</td>\n",
       "      <td>0.953</td>\n",
       "    </tr>\n",
       "    <tr>\n",
       "      <th>5</th>\n",
       "      <td>12</td>\n",
       "      <td>0.966</td>\n",
       "      <td>0.953</td>\n",
       "    </tr>\n",
       "    <tr>\n",
       "      <th>6</th>\n",
       "      <td>14</td>\n",
       "      <td>0.966</td>\n",
       "      <td>0.953</td>\n",
       "    </tr>\n",
       "    <tr>\n",
       "      <th>7</th>\n",
       "      <td>16</td>\n",
       "      <td>0.962</td>\n",
       "      <td>0.949</td>\n",
       "    </tr>\n",
       "    <tr>\n",
       "      <th>8</th>\n",
       "      <td>18</td>\n",
       "      <td>0.952</td>\n",
       "      <td>0.944</td>\n",
       "    </tr>\n",
       "    <tr>\n",
       "      <th>9</th>\n",
       "      <td>20</td>\n",
       "      <td>0.952</td>\n",
       "      <td>0.944</td>\n",
       "    </tr>\n",
       "  </tbody>\n",
       "</table>\n",
       "</div>"
      ],
      "text/plain": [
       "   MinSamplesLeaf  TrainAccuracy  TestAccuracy\n",
       "0               2          0.982         0.967\n",
       "1               4          0.982         0.967\n",
       "2               6          0.982         0.986\n",
       "3               8          0.982         0.986\n",
       "4              10          0.966         0.953\n",
       "5              12          0.966         0.953\n",
       "6              14          0.966         0.953\n",
       "7              16          0.962         0.949\n",
       "8              18          0.952         0.944\n",
       "9              20          0.952         0.944"
      ]
     },
     "execution_count": 90,
     "metadata": {},
     "output_type": "execute_result"
    }
   ],
   "source": [
    "#train 및 test 설명력 결과 저장\n",
    "train_accuracy = []\n",
    "test_accuracy = []\n",
    "\n",
    "para_leaf = [n_leaf * 2 for n_leaf in range(1,11)]\n",
    "for v_min_samples_leaf in para_leaf:\n",
    "    tree = DecisionTreeClassifier(random_state = 1234 , min_samples_leaf = v_min_samples_leaf,\n",
    "                                  max_depth = 6)\n",
    "    tree.fit(df_train_x, df_train_y)\n",
    "    train_accuracy.append(tree.score(df_train_x, df_train_y))\n",
    "    test_accuracy.append(tree.score(df_test_x, df_test_y))\n",
    "    \n",
    "#결과 저장\n",
    "df_score_leaf = pd.DataFrame()\n",
    "df_score_leaf['MinSamplesLeaf'] = para_leaf\n",
    "df_score_leaf['TrainAccuracy'] = train_accuracy\n",
    "df_score_leaf['TestAccuracy'] = test_accuracy\n",
    "#모델 설명력 확인\n",
    "df_score_leaf.round(3)"
   ]
  },
  {
   "cell_type": "code",
   "execution_count": 91,
   "metadata": {},
   "outputs": [
    {
     "data": {
      "text/plain": [
       "<matplotlib.legend.Legend at 0x7f63b51e2dc0>"
      ]
     },
     "execution_count": 91,
     "metadata": {},
     "output_type": "execute_result"
    },
    {
     "data": {
      "image/png": "[encoded data removed]",
      "text/plain": [
       "<Figure size 432x288 with 1 Axes>"
      ]
     },
     "metadata": {
      "needs_background": "light"
     },
     "output_type": "display_data"
    }
   ],
   "source": [
    "#모델 설명력 그래프 확인\n",
    "plt.plot(para_leaf, train_accuracy, linestyle = \"-\", label = 'Train accuracy')\n",
    "plt.plot(para_leaf, test_accuracy, linestyle = \"--\", label = 'Test accuracy')\n",
    "plt.legend()"
   ]
  },
  {
   "cell_type": "markdown",
   "metadata": {},
   "source": [
    "> 잎사귀 노드의 최소 자료수 증가에 따라 모델의 설명력은 감소하는 형태를 보인다.  \n",
    "> 따라서 모델의 정확도가 가장 높은 6로 잎사귀 노드의 최소 자료수를 정하였다"
   ]
  },
  {
   "cell_type": "code",
   "execution_count": 92,
   "metadata": {},
   "outputs": [
    {
     "data": {
      "image/svg+xml": [
       "<?xml version=\"1.0\" encoding=\"UTF-8\" standalone=\"no\"?>\n",
       "<!DOCTYPE svg PUBLIC \"-//W3C//DTD SVG 1.1//EN\"\n",
       " \"http://www.w3.org/Graphics/SVG/1.1/DTD/svg11.dtd\">\n",
       "<!-- Generated by graphviz version 2.40.1 (20161225.0304)\n",
       " -->\n",
       "<!-- Title: Tree Pages: 1 -->\n",
       "<svg width=\"635pt\" height=\"790pt\"\n",
       " viewBox=\"0.00 0.00 635.00 790.00\" xmlns=\"http://www.w3.org/2000/svg\" xmlns:xlink=\"http://www.w3.org/1999/xlink\">\n",
       "<g id=\"graph0\" class=\"graph\" transform=\"scale(1 1) rotate(0) translate(4 786)\">\n",
       "<title>Tree</title>\n",
       "<polygon fill=\"#ffffff\" stroke=\"transparent\" points=\"-4,4 -4,-786 631,-786 631,4 -4,4\"/>\n",
       "<!-- 0 -->\n",
       "<g id=\"node1\" class=\"node\">\n",
       "<title>0</title>\n",
       "<polygon fill=\"#f1bc96\" stroke=\"#000000\" points=\"608,-782 405,-782 405,-699 608,-699 608,-782\"/>\n",
       "<text text-anchor=\"middle\" x=\"506.5\" y=\"-766.8\" font-family=\"Times,serif\" font-size=\"14.00\" fill=\"#000000\">ROLLING_TEMP_T5 &lt;= 1000.5</text>\n",
       "<text text-anchor=\"middle\" x=\"506.5\" y=\"-751.8\" font-family=\"Times,serif\" font-size=\"14.00\" fill=\"#000000\">gini = 0.436</text>\n",
       "<text text-anchor=\"middle\" x=\"506.5\" y=\"-736.8\" font-family=\"Times,serif\" font-size=\"14.00\" fill=\"#000000\">samples = 499</text>\n",
       "<text text-anchor=\"middle\" x=\"506.5\" y=\"-721.8\" font-family=\"Times,serif\" font-size=\"14.00\" fill=\"#000000\">value = [339, 160]</text>\n",
       "<text text-anchor=\"middle\" x=\"506.5\" y=\"-706.8\" font-family=\"Times,serif\" font-size=\"14.00\" fill=\"#000000\">class = 양품</text>\n",
       "</g>\n",
       "<!-- 1 -->\n",
       "<g id=\"node2\" class=\"node\">\n",
       "<title>1</title>\n",
       "<polygon fill=\"#e99559\" stroke=\"#000000\" points=\"504,-663 373,-663 373,-580 504,-580 504,-663\"/>\n",
       "<text text-anchor=\"middle\" x=\"438.5\" y=\"-647.8\" font-family=\"Times,serif\" font-size=\"14.00\" fill=\"#000000\">HSB_미적용 &lt;= 0.5</text>\n",
       "<text text-anchor=\"middle\" x=\"438.5\" y=\"-632.8\" font-family=\"Times,serif\" font-size=\"14.00\" fill=\"#000000\">gini = 0.24</text>\n",
       "<text text-anchor=\"middle\" x=\"438.5\" y=\"-617.8\" font-family=\"Times,serif\" font-size=\"14.00\" fill=\"#000000\">samples = 394</text>\n",
       "<text text-anchor=\"middle\" x=\"438.5\" y=\"-602.8\" font-family=\"Times,serif\" font-size=\"14.00\" fill=\"#000000\">value = [339, 55]</text>\n",
       "<text text-anchor=\"middle\" x=\"438.5\" y=\"-587.8\" font-family=\"Times,serif\" font-size=\"14.00\" fill=\"#000000\">class = 양품</text>\n",
       "</g>\n",
       "<!-- 0&#45;&gt;1 -->\n",
       "<g id=\"edge1\" class=\"edge\">\n",
       "<title>0&#45;&gt;1</title>\n",
       "<path fill=\"none\" stroke=\"#000000\" d=\"M482.7169,-698.8796C477.7763,-690.2335 472.5184,-681.0322 467.4167,-672.1042\"/>\n",
       "<polygon fill=\"#000000\" stroke=\"#000000\" points=\"470.3849,-670.244 462.3846,-663.2981 464.3072,-673.717 470.3849,-670.244\"/>\n",
       "<text text-anchor=\"middle\" x=\"455.8067\" y=\"-683.7172\" font-family=\"Times,serif\" font-size=\"14.00\" fill=\"#000000\">True</text>\n",
       "</g>\n",
       "<!-- 12 -->\n",
       "<g id=\"node13\" class=\"node\">\n",
       "<title>12</title>\n",
       "<polygon fill=\"#399de5\" stroke=\"#000000\" points=\"627,-655.5 522,-655.5 522,-587.5 627,-587.5 627,-655.5\"/>\n",
       "<text text-anchor=\"middle\" x=\"574.5\" y=\"-640.3\" font-family=\"Times,serif\" font-size=\"14.00\" fill=\"#000000\">gini = 0.0</text>\n",
       "<text text-anchor=\"middle\" x=\"574.5\" y=\"-625.3\" font-family=\"Times,serif\" font-size=\"14.00\" fill=\"#000000\">samples = 105</text>\n",
       "<text text-anchor=\"middle\" x=\"574.5\" y=\"-610.3\" font-family=\"Times,serif\" font-size=\"14.00\" fill=\"#000000\">value = [0, 105]</text>\n",
       "<text text-anchor=\"middle\" x=\"574.5\" y=\"-595.3\" font-family=\"Times,serif\" font-size=\"14.00\" fill=\"#000000\">class = 불량</text>\n",
       "</g>\n",
       "<!-- 0&#45;&gt;12 -->\n",
       "<g id=\"edge12\" class=\"edge\">\n",
       "<title>0&#45;&gt;12</title>\n",
       "<path fill=\"none\" stroke=\"#000000\" d=\"M530.2831,-698.8796C536.6294,-687.7735 543.4993,-675.7513 549.8891,-664.5691\"/>\n",
       "<polygon fill=\"#000000\" stroke=\"#000000\" points=\"552.9689,-666.2339 554.8915,-655.8149 546.8912,-662.7609 552.9689,-666.2339\"/>\n",
       "<text text-anchor=\"middle\" x=\"561.4694\" y=\"-676.234\" font-family=\"Times,serif\" font-size=\"14.00\" fill=\"#000000\">False</text>\n",
       "</g>\n",
       "<!-- 2 -->\n",
       "<g id=\"node3\" class=\"node\">\n",
       "<title>2</title>\n",
       "<polygon fill=\"#e78d4b\" stroke=\"#000000\" points=\"447.5,-544 277.5,-544 277.5,-461 447.5,-461 447.5,-544\"/>\n",
       "<text text-anchor=\"middle\" x=\"362.5\" y=\"-528.8\" font-family=\"Times,serif\" font-size=\"14.00\" fill=\"#000000\">FUR_SZ_TEMP &lt;= 1175.5</text>\n",
       "<text text-anchor=\"middle\" x=\"362.5\" y=\"-513.8\" font-family=\"Times,serif\" font-size=\"14.00\" fill=\"#000000\">gini = 0.154</text>\n",
       "<text text-anchor=\"middle\" x=\"362.5\" y=\"-498.8\" font-family=\"Times,serif\" font-size=\"14.00\" fill=\"#000000\">samples = 370</text>\n",
       "<text text-anchor=\"middle\" x=\"362.5\" y=\"-483.8\" font-family=\"Times,serif\" font-size=\"14.00\" fill=\"#000000\">value = [339, 31]</text>\n",
       "<text text-anchor=\"middle\" x=\"362.5\" y=\"-468.8\" font-family=\"Times,serif\" font-size=\"14.00\" fill=\"#000000\">class = 양품</text>\n",
       "</g>\n",
       "<!-- 1&#45;&gt;2 -->\n",
       "<g id=\"edge2\" class=\"edge\">\n",
       "<title>1&#45;&gt;2</title>\n",
       "<path fill=\"none\" stroke=\"#000000\" d=\"M411.9189,-579.8796C406.3395,-571.1434 400.3981,-561.8404 394.6405,-552.8253\"/>\n",
       "<polygon fill=\"#000000\" stroke=\"#000000\" points=\"397.5269,-550.8421 389.1946,-544.2981 391.6274,-554.6098 397.5269,-550.8421\"/>\n",
       "</g>\n",
       "<!-- 11 -->\n",
       "<g id=\"node12\" class=\"node\">\n",
       "<title>11</title>\n",
       "<polygon fill=\"#399de5\" stroke=\"#000000\" points=\"563.5,-536.5 465.5,-536.5 465.5,-468.5 563.5,-468.5 563.5,-536.5\"/>\n",
       "<text text-anchor=\"middle\" x=\"514.5\" y=\"-521.3\" font-family=\"Times,serif\" font-size=\"14.00\" fill=\"#000000\">gini = 0.0</text>\n",
       "<text text-anchor=\"middle\" x=\"514.5\" y=\"-506.3\" font-family=\"Times,serif\" font-size=\"14.00\" fill=\"#000000\">samples = 24</text>\n",
       "<text text-anchor=\"middle\" x=\"514.5\" y=\"-491.3\" font-family=\"Times,serif\" font-size=\"14.00\" fill=\"#000000\">value = [0, 24]</text>\n",
       "<text text-anchor=\"middle\" x=\"514.5\" y=\"-476.3\" font-family=\"Times,serif\" font-size=\"14.00\" fill=\"#000000\">class = 불량</text>\n",
       "</g>\n",
       "<!-- 1&#45;&gt;11 -->\n",
       "<g id=\"edge11\" class=\"edge\">\n",
       "<title>1&#45;&gt;11</title>\n",
       "<path fill=\"none\" stroke=\"#000000\" d=\"M465.0811,-579.8796C472.174,-568.7735 479.8521,-556.7513 486.9937,-545.5691\"/>\n",
       "<polygon fill=\"#000000\" stroke=\"#000000\" points=\"490.1518,-547.1267 492.5846,-536.8149 484.2523,-543.3589 490.1518,-547.1267\"/>\n",
       "</g>\n",
       "<!-- 3 -->\n",
       "<g id=\"node4\" class=\"node\">\n",
       "<title>3</title>\n",
       "<polygon fill=\"#e68743\" stroke=\"#000000\" points=\"379.5,-425 179.5,-425 179.5,-342 379.5,-342 379.5,-425\"/>\n",
       "<text text-anchor=\"middle\" x=\"279.5\" y=\"-409.8\" font-family=\"Times,serif\" font-size=\"14.00\" fill=\"#000000\">ROLLING_DESCALING &lt;= 9.5</text>\n",
       "<text text-anchor=\"middle\" x=\"279.5\" y=\"-394.8\" font-family=\"Times,serif\" font-size=\"14.00\" fill=\"#000000\">gini = 0.091</text>\n",
       "<text text-anchor=\"middle\" x=\"279.5\" y=\"-379.8\" font-family=\"Times,serif\" font-size=\"14.00\" fill=\"#000000\">samples = 356</text>\n",
       "<text text-anchor=\"middle\" x=\"279.5\" y=\"-364.8\" font-family=\"Times,serif\" font-size=\"14.00\" fill=\"#000000\">value = [339, 17]</text>\n",
       "<text text-anchor=\"middle\" x=\"279.5\" y=\"-349.8\" font-family=\"Times,serif\" font-size=\"14.00\" fill=\"#000000\">class = 양품</text>\n",
       "</g>\n",
       "<!-- 2&#45;&gt;3 -->\n",
       "<g id=\"edge3\" class=\"edge\">\n",
       "<title>2&#45;&gt;3</title>\n",
       "<path fill=\"none\" stroke=\"#000000\" d=\"M333.4706,-460.8796C327.3145,-452.0534 320.7549,-442.6485 314.4064,-433.5466\"/>\n",
       "<polygon fill=\"#000000\" stroke=\"#000000\" points=\"317.2448,-431.4978 308.6533,-425.2981 311.5033,-435.5024 317.2448,-431.4978\"/>\n",
       "</g>\n",
       "<!-- 10 -->\n",
       "<g id=\"node11\" class=\"node\">\n",
       "<title>10</title>\n",
       "<polygon fill=\"#399de5\" stroke=\"#000000\" points=\"495.5,-417.5 397.5,-417.5 397.5,-349.5 495.5,-349.5 495.5,-417.5\"/>\n",
       "<text text-anchor=\"middle\" x=\"446.5\" y=\"-402.3\" font-family=\"Times,serif\" font-size=\"14.00\" fill=\"#000000\">gini = 0.0</text>\n",
       "<text text-anchor=\"middle\" x=\"446.5\" y=\"-387.3\" font-family=\"Times,serif\" font-size=\"14.00\" fill=\"#000000\">samples = 14</text>\n",
       "<text text-anchor=\"middle\" x=\"446.5\" y=\"-372.3\" font-family=\"Times,serif\" font-size=\"14.00\" fill=\"#000000\">value = [0, 14]</text>\n",
       "<text text-anchor=\"middle\" x=\"446.5\" y=\"-357.3\" font-family=\"Times,serif\" font-size=\"14.00\" fill=\"#000000\">class = 불량</text>\n",
       "</g>\n",
       "<!-- 2&#45;&gt;10 -->\n",
       "<g id=\"edge10\" class=\"edge\">\n",
       "<title>2&#45;&gt;10</title>\n",
       "<path fill=\"none\" stroke=\"#000000\" d=\"M391.8791,-460.8796C399.7963,-449.6636 408.3731,-437.5131 416.3325,-426.2372\"/>\n",
       "<polygon fill=\"#000000\" stroke=\"#000000\" points=\"419.3702,-428.003 422.2777,-417.8149 413.6514,-423.9662 419.3702,-428.003\"/>\n",
       "</g>\n",
       "<!-- 4 -->\n",
       "<g id=\"node5\" class=\"node\">\n",
       "<title>4</title>\n",
       "<polygon fill=\"#e88d4c\" stroke=\"#000000\" points=\"294.5,-306 94.5,-306 94.5,-223 294.5,-223 294.5,-306\"/>\n",
       "<text text-anchor=\"middle\" x=\"194.5\" y=\"-290.8\" font-family=\"Times,serif\" font-size=\"14.00\" fill=\"#000000\">ROLLING_DESCALING &lt;= 8.5</text>\n",
       "<text text-anchor=\"middle\" x=\"194.5\" y=\"-275.8\" font-family=\"Times,serif\" font-size=\"14.00\" fill=\"#000000\">gini = 0.163</text>\n",
       "<text text-anchor=\"middle\" x=\"194.5\" y=\"-260.8\" font-family=\"Times,serif\" font-size=\"14.00\" fill=\"#000000\">samples = 190</text>\n",
       "<text text-anchor=\"middle\" x=\"194.5\" y=\"-245.8\" font-family=\"Times,serif\" font-size=\"14.00\" fill=\"#000000\">value = [173, 17]</text>\n",
       "<text text-anchor=\"middle\" x=\"194.5\" y=\"-230.8\" font-family=\"Times,serif\" font-size=\"14.00\" fill=\"#000000\">class = 양품</text>\n",
       "</g>\n",
       "<!-- 3&#45;&gt;4 -->\n",
       "<g id=\"edge4\" class=\"edge\">\n",
       "<title>3&#45;&gt;4</title>\n",
       "<path fill=\"none\" stroke=\"#000000\" d=\"M249.7711,-341.8796C243.4667,-333.0534 236.749,-323.6485 230.2476,-314.5466\"/>\n",
       "<polygon fill=\"#000000\" stroke=\"#000000\" points=\"233.0163,-312.4011 224.3558,-306.2981 227.3201,-316.4698 233.0163,-312.4011\"/>\n",
       "</g>\n",
       "<!-- 9 -->\n",
       "<g id=\"node10\" class=\"node\">\n",
       "<title>9</title>\n",
       "<polygon fill=\"#e58139\" stroke=\"#000000\" points=\"418,-298.5 313,-298.5 313,-230.5 418,-230.5 418,-298.5\"/>\n",
       "<text text-anchor=\"middle\" x=\"365.5\" y=\"-283.3\" font-family=\"Times,serif\" font-size=\"14.00\" fill=\"#000000\">gini = 0.0</text>\n",
       "<text text-anchor=\"middle\" x=\"365.5\" y=\"-268.3\" font-family=\"Times,serif\" font-size=\"14.00\" fill=\"#000000\">samples = 166</text>\n",
       "<text text-anchor=\"middle\" x=\"365.5\" y=\"-253.3\" font-family=\"Times,serif\" font-size=\"14.00\" fill=\"#000000\">value = [166, 0]</text>\n",
       "<text text-anchor=\"middle\" x=\"365.5\" y=\"-238.3\" font-family=\"Times,serif\" font-size=\"14.00\" fill=\"#000000\">class = 양품</text>\n",
       "</g>\n",
       "<!-- 3&#45;&gt;9 -->\n",
       "<g id=\"edge9\" class=\"edge\">\n",
       "<title>3&#45;&gt;9</title>\n",
       "<path fill=\"none\" stroke=\"#000000\" d=\"M309.5786,-341.8796C317.6843,-330.6636 326.4653,-318.5131 334.6143,-307.2372\"/>\n",
       "<polygon fill=\"#000000\" stroke=\"#000000\" points=\"337.6803,-308.9701 340.701,-298.8149 332.0068,-304.8698 337.6803,-308.9701\"/>\n",
       "</g>\n",
       "<!-- 5 -->\n",
       "<g id=\"node6\" class=\"node\">\n",
       "<title>5</title>\n",
       "<polygon fill=\"#e68843\" stroke=\"#000000\" points=\"212.5,-187 12.5,-187 12.5,-104 212.5,-104 212.5,-187\"/>\n",
       "<text text-anchor=\"middle\" x=\"112.5\" y=\"-171.8\" font-family=\"Times,serif\" font-size=\"14.00\" fill=\"#000000\">ROLLING_DESCALING &lt;= 7.5</text>\n",
       "<text text-anchor=\"middle\" x=\"112.5\" y=\"-156.8\" font-family=\"Times,serif\" font-size=\"14.00\" fill=\"#000000\">gini = 0.094</text>\n",
       "<text text-anchor=\"middle\" x=\"112.5\" y=\"-141.8\" font-family=\"Times,serif\" font-size=\"14.00\" fill=\"#000000\">samples = 182</text>\n",
       "<text text-anchor=\"middle\" x=\"112.5\" y=\"-126.8\" font-family=\"Times,serif\" font-size=\"14.00\" fill=\"#000000\">value = [173, 9]</text>\n",
       "<text text-anchor=\"middle\" x=\"112.5\" y=\"-111.8\" font-family=\"Times,serif\" font-size=\"14.00\" fill=\"#000000\">class = 양품</text>\n",
       "</g>\n",
       "<!-- 4&#45;&gt;5 -->\n",
       "<g id=\"edge5\" class=\"edge\">\n",
       "<title>4&#45;&gt;5</title>\n",
       "<path fill=\"none\" stroke=\"#000000\" d=\"M165.8204,-222.8796C159.7385,-214.0534 153.2578,-204.6485 146.9859,-195.5466\"/>\n",
       "<polygon fill=\"#000000\" stroke=\"#000000\" points=\"149.8582,-193.5465 141.302,-187.2981 144.0941,-197.5184 149.8582,-193.5465\"/>\n",
       "</g>\n",
       "<!-- 8 -->\n",
       "<g id=\"node9\" class=\"node\">\n",
       "<title>8</title>\n",
       "<polygon fill=\"#399de5\" stroke=\"#000000\" points=\"322.5,-179.5 230.5,-179.5 230.5,-111.5 322.5,-111.5 322.5,-179.5\"/>\n",
       "<text text-anchor=\"middle\" x=\"276.5\" y=\"-164.3\" font-family=\"Times,serif\" font-size=\"14.00\" fill=\"#000000\">gini = 0.0</text>\n",
       "<text text-anchor=\"middle\" x=\"276.5\" y=\"-149.3\" font-family=\"Times,serif\" font-size=\"14.00\" fill=\"#000000\">samples = 8</text>\n",
       "<text text-anchor=\"middle\" x=\"276.5\" y=\"-134.3\" font-family=\"Times,serif\" font-size=\"14.00\" fill=\"#000000\">value = [0, 8]</text>\n",
       "<text text-anchor=\"middle\" x=\"276.5\" y=\"-119.3\" font-family=\"Times,serif\" font-size=\"14.00\" fill=\"#000000\">class = 불량</text>\n",
       "</g>\n",
       "<!-- 4&#45;&gt;8 -->\n",
       "<g id=\"edge8\" class=\"edge\">\n",
       "<title>4&#45;&gt;8</title>\n",
       "<path fill=\"none\" stroke=\"#000000\" d=\"M223.1796,-222.8796C230.9083,-211.6636 239.2809,-199.5131 247.0508,-188.2372\"/>\n",
       "<polygon fill=\"#000000\" stroke=\"#000000\" points=\"250.0623,-190.0353 252.8544,-179.8149 244.2982,-186.0634 250.0623,-190.0353\"/>\n",
       "</g>\n",
       "<!-- 6 -->\n",
       "<g id=\"node7\" class=\"node\">\n",
       "<title>6</title>\n",
       "<polygon fill=\"#e78c4a\" stroke=\"#000000\" points=\"105,-68 0,-68 0,0 105,0 105,-68\"/>\n",
       "<text text-anchor=\"middle\" x=\"52.5\" y=\"-52.8\" font-family=\"Times,serif\" font-size=\"14.00\" fill=\"#000000\">gini = 0.147</text>\n",
       "<text text-anchor=\"middle\" x=\"52.5\" y=\"-37.8\" font-family=\"Times,serif\" font-size=\"14.00\" fill=\"#000000\">samples = 113</text>\n",
       "<text text-anchor=\"middle\" x=\"52.5\" y=\"-22.8\" font-family=\"Times,serif\" font-size=\"14.00\" fill=\"#000000\">value = [104, 9]</text>\n",
       "<text text-anchor=\"middle\" x=\"52.5\" y=\"-7.8\" font-family=\"Times,serif\" font-size=\"14.00\" fill=\"#000000\">class = 양품</text>\n",
       "</g>\n",
       "<!-- 5&#45;&gt;6 -->\n",
       "<g id=\"edge6\" class=\"edge\">\n",
       "<title>5&#45;&gt;6</title>\n",
       "<path fill=\"none\" stroke=\"#000000\" d=\"M90.1582,-103.9815C85.4598,-95.2504 80.4929,-86.0202 75.7617,-77.2281\"/>\n",
       "<polygon fill=\"#000000\" stroke=\"#000000\" points=\"78.7586,-75.4111 70.9379,-68.2637 72.5944,-78.7282 78.7586,-75.4111\"/>\n",
       "</g>\n",
       "<!-- 7 -->\n",
       "<g id=\"node8\" class=\"node\">\n",
       "<title>7</title>\n",
       "<polygon fill=\"#e58139\" stroke=\"#000000\" points=\"221.5,-68 123.5,-68 123.5,0 221.5,0 221.5,-68\"/>\n",
       "<text text-anchor=\"middle\" x=\"172.5\" y=\"-52.8\" font-family=\"Times,serif\" font-size=\"14.00\" fill=\"#000000\">gini = 0.0</text>\n",
       "<text text-anchor=\"middle\" x=\"172.5\" y=\"-37.8\" font-family=\"Times,serif\" font-size=\"14.00\" fill=\"#000000\">samples = 69</text>\n",
       "<text text-anchor=\"middle\" x=\"172.5\" y=\"-22.8\" font-family=\"Times,serif\" font-size=\"14.00\" fill=\"#000000\">value = [69, 0]</text>\n",
       "<text text-anchor=\"middle\" x=\"172.5\" y=\"-7.8\" font-family=\"Times,serif\" font-size=\"14.00\" fill=\"#000000\">class = 양품</text>\n",
       "</g>\n",
       "<!-- 5&#45;&gt;7 -->\n",
       "<g id=\"edge7\" class=\"edge\">\n",
       "<title>5&#45;&gt;7</title>\n",
       "<path fill=\"none\" stroke=\"#000000\" d=\"M134.8418,-103.9815C139.5402,-95.2504 144.5071,-86.0202 149.2383,-77.2281\"/>\n",
       "<polygon fill=\"#000000\" stroke=\"#000000\" points=\"152.4056,-78.7282 154.0621,-68.2637 146.2414,-75.4111 152.4056,-78.7282\"/>\n",
       "</g>\n",
       "</g>\n",
       "</svg>\n"
      ],
      "text/plain": [
       "<graphviz.files.Source at 0x7f63b52d0940>"
      ]
     },
     "metadata": {},
     "output_type": "display_data"
    }
   ],
   "source": [
    "#변수명 저장\n",
    "v_feature_name = df_train_x.columns\n",
    "\n",
    "#노드의 최소 자료 수 = 8 모델\n",
    "tree_low = DecisionTreeClassifier(random_state = 1234, min_samples_leaf = 6,max_depth = 6,\n",
    "                                  min_samples_split = 20)\n",
    "tree_low.fit(df_train_x , df_train_y)\n",
    "export_graphviz(tree_low, out_file = 'tree_low.dot', class_names = ['양품','불량'],\n",
    "                feature_names = v_feature_name, impurity = True, filled = True)\n",
    "with open('tree_low.dot') as f:\n",
    "    dot_graph = f.read()\n",
    "display(graphviz.Source(dot_graph))"
   ]
  },
  {
   "cell_type": "markdown",
   "metadata": {},
   "source": [
    "### 최종 모델 선정"
   ]
  },
  {
   "cell_type": "code",
   "execution_count": 93,
   "metadata": {},
   "outputs": [
    {
     "name": "stdout",
     "output_type": "stream",
     "text": [
      "Score on training set : 0.982\n",
      "Score on test set : 0.986\n"
     ]
    }
   ],
   "source": [
    "#모델 생성\n",
    "tree_final = DecisionTreeClassifier(min_samples_leaf = 6, max_depth = 6, random_state = 1234)\n",
    "tree_final.fit(df_train_x, df_train_y)\n",
    "\n",
    "#train 데이터 설명력\n",
    "print('Score on training set : {:.3f}'.format(tree_final.score(df_train_x, df_train_y)))\n",
    "\n",
    "#test 데이터 설명력\n",
    "print('Score on test set : {:.3f}'.format(tree_final.score(df_test_x, df_test_y)))"
   ]
  },
  {
   "cell_type": "markdown",
   "metadata": {},
   "source": [
    "### 최종 모델 시각화"
   ]
  },
  {
   "cell_type": "code",
   "execution_count": 94,
   "metadata": {},
   "outputs": [
    {
     "data": {
      "image/svg+xml": [
       "<?xml version=\"1.0\" encoding=\"UTF-8\" standalone=\"no\"?>\n",
       "<!DOCTYPE svg PUBLIC \"-//W3C//DTD SVG 1.1//EN\"\n",
       " \"http://www.w3.org/Graphics/SVG/1.1/DTD/svg11.dtd\">\n",
       "<!-- Generated by graphviz version 2.40.1 (20161225.0304)\n",
       " -->\n",
       "<!-- Title: Tree Pages: 1 -->\n",
       "<svg width=\"635pt\" height=\"790pt\"\n",
       " viewBox=\"0.00 0.00 635.00 790.00\" xmlns=\"http://www.w3.org/2000/svg\" xmlns:xlink=\"http://www.w3.org/1999/xlink\">\n",
       "<g id=\"graph0\" class=\"graph\" transform=\"scale(1 1) rotate(0) translate(4 786)\">\n",
       "<title>Tree</title>\n",
       "<polygon fill=\"#ffffff\" stroke=\"transparent\" points=\"-4,4 -4,-786 631,-786 631,4 -4,4\"/>\n",
       "<!-- 0 -->\n",
       "<g id=\"node1\" class=\"node\">\n",
       "<title>0</title>\n",
       "<polygon fill=\"#f1bc96\" stroke=\"#000000\" points=\"608,-782 405,-782 405,-699 608,-699 608,-782\"/>\n",
       "<text text-anchor=\"middle\" x=\"506.5\" y=\"-766.8\" font-family=\"Times,serif\" font-size=\"14.00\" fill=\"#000000\">ROLLING_TEMP_T5 &lt;= 1000.5</text>\n",
       "<text text-anchor=\"middle\" x=\"506.5\" y=\"-751.8\" font-family=\"Times,serif\" font-size=\"14.00\" fill=\"#000000\">gini = 0.436</text>\n",
       "<text text-anchor=\"middle\" x=\"506.5\" y=\"-736.8\" font-family=\"Times,serif\" font-size=\"14.00\" fill=\"#000000\">samples = 499</text>\n",
       "<text text-anchor=\"middle\" x=\"506.5\" y=\"-721.8\" font-family=\"Times,serif\" font-size=\"14.00\" fill=\"#000000\">value = [339, 160]</text>\n",
       "<text text-anchor=\"middle\" x=\"506.5\" y=\"-706.8\" font-family=\"Times,serif\" font-size=\"14.00\" fill=\"#000000\">class = 양품</text>\n",
       "</g>\n",
       "<!-- 1 -->\n",
       "<g id=\"node2\" class=\"node\">\n",
       "<title>1</title>\n",
       "<polygon fill=\"#e99559\" stroke=\"#000000\" points=\"504,-663 373,-663 373,-580 504,-580 504,-663\"/>\n",
       "<text text-anchor=\"middle\" x=\"438.5\" y=\"-647.8\" font-family=\"Times,serif\" font-size=\"14.00\" fill=\"#000000\">HSB_미적용 &lt;= 0.5</text>\n",
       "<text text-anchor=\"middle\" x=\"438.5\" y=\"-632.8\" font-family=\"Times,serif\" font-size=\"14.00\" fill=\"#000000\">gini = 0.24</text>\n",
       "<text text-anchor=\"middle\" x=\"438.5\" y=\"-617.8\" font-family=\"Times,serif\" font-size=\"14.00\" fill=\"#000000\">samples = 394</text>\n",
       "<text text-anchor=\"middle\" x=\"438.5\" y=\"-602.8\" font-family=\"Times,serif\" font-size=\"14.00\" fill=\"#000000\">value = [339, 55]</text>\n",
       "<text text-anchor=\"middle\" x=\"438.5\" y=\"-587.8\" font-family=\"Times,serif\" font-size=\"14.00\" fill=\"#000000\">class = 양품</text>\n",
       "</g>\n",
       "<!-- 0&#45;&gt;1 -->\n",
       "<g id=\"edge1\" class=\"edge\">\n",
       "<title>0&#45;&gt;1</title>\n",
       "<path fill=\"none\" stroke=\"#000000\" d=\"M482.7169,-698.8796C477.7763,-690.2335 472.5184,-681.0322 467.4167,-672.1042\"/>\n",
       "<polygon fill=\"#000000\" stroke=\"#000000\" points=\"470.3849,-670.244 462.3846,-663.2981 464.3072,-673.717 470.3849,-670.244\"/>\n",
       "<text text-anchor=\"middle\" x=\"455.8067\" y=\"-683.7172\" font-family=\"Times,serif\" font-size=\"14.00\" fill=\"#000000\">True</text>\n",
       "</g>\n",
       "<!-- 12 -->\n",
       "<g id=\"node13\" class=\"node\">\n",
       "<title>12</title>\n",
       "<polygon fill=\"#399de5\" stroke=\"#000000\" points=\"627,-655.5 522,-655.5 522,-587.5 627,-587.5 627,-655.5\"/>\n",
       "<text text-anchor=\"middle\" x=\"574.5\" y=\"-640.3\" font-family=\"Times,serif\" font-size=\"14.00\" fill=\"#000000\">gini = 0.0</text>\n",
       "<text text-anchor=\"middle\" x=\"574.5\" y=\"-625.3\" font-family=\"Times,serif\" font-size=\"14.00\" fill=\"#000000\">samples = 105</text>\n",
       "<text text-anchor=\"middle\" x=\"574.5\" y=\"-610.3\" font-family=\"Times,serif\" font-size=\"14.00\" fill=\"#000000\">value = [0, 105]</text>\n",
       "<text text-anchor=\"middle\" x=\"574.5\" y=\"-595.3\" font-family=\"Times,serif\" font-size=\"14.00\" fill=\"#000000\">class = 불량</text>\n",
       "</g>\n",
       "<!-- 0&#45;&gt;12 -->\n",
       "<g id=\"edge12\" class=\"edge\">\n",
       "<title>0&#45;&gt;12</title>\n",
       "<path fill=\"none\" stroke=\"#000000\" d=\"M530.2831,-698.8796C536.6294,-687.7735 543.4993,-675.7513 549.8891,-664.5691\"/>\n",
       "<polygon fill=\"#000000\" stroke=\"#000000\" points=\"552.9689,-666.2339 554.8915,-655.8149 546.8912,-662.7609 552.9689,-666.2339\"/>\n",
       "<text text-anchor=\"middle\" x=\"561.4694\" y=\"-676.234\" font-family=\"Times,serif\" font-size=\"14.00\" fill=\"#000000\">False</text>\n",
       "</g>\n",
       "<!-- 2 -->\n",
       "<g id=\"node3\" class=\"node\">\n",
       "<title>2</title>\n",
       "<polygon fill=\"#e78d4b\" stroke=\"#000000\" points=\"447.5,-544 277.5,-544 277.5,-461 447.5,-461 447.5,-544\"/>\n",
       "<text text-anchor=\"middle\" x=\"362.5\" y=\"-528.8\" font-family=\"Times,serif\" font-size=\"14.00\" fill=\"#000000\">FUR_SZ_TEMP &lt;= 1175.5</text>\n",
       "<text text-anchor=\"middle\" x=\"362.5\" y=\"-513.8\" font-family=\"Times,serif\" font-size=\"14.00\" fill=\"#000000\">gini = 0.154</text>\n",
       "<text text-anchor=\"middle\" x=\"362.5\" y=\"-498.8\" font-family=\"Times,serif\" font-size=\"14.00\" fill=\"#000000\">samples = 370</text>\n",
       "<text text-anchor=\"middle\" x=\"362.5\" y=\"-483.8\" font-family=\"Times,serif\" font-size=\"14.00\" fill=\"#000000\">value = [339, 31]</text>\n",
       "<text text-anchor=\"middle\" x=\"362.5\" y=\"-468.8\" font-family=\"Times,serif\" font-size=\"14.00\" fill=\"#000000\">class = 양품</text>\n",
       "</g>\n",
       "<!-- 1&#45;&gt;2 -->\n",
       "<g id=\"edge2\" class=\"edge\">\n",
       "<title>1&#45;&gt;2</title>\n",
       "<path fill=\"none\" stroke=\"#000000\" d=\"M411.9189,-579.8796C406.3395,-571.1434 400.3981,-561.8404 394.6405,-552.8253\"/>\n",
       "<polygon fill=\"#000000\" stroke=\"#000000\" points=\"397.5269,-550.8421 389.1946,-544.2981 391.6274,-554.6098 397.5269,-550.8421\"/>\n",
       "</g>\n",
       "<!-- 11 -->\n",
       "<g id=\"node12\" class=\"node\">\n",
       "<title>11</title>\n",
       "<polygon fill=\"#399de5\" stroke=\"#000000\" points=\"563.5,-536.5 465.5,-536.5 465.5,-468.5 563.5,-468.5 563.5,-536.5\"/>\n",
       "<text text-anchor=\"middle\" x=\"514.5\" y=\"-521.3\" font-family=\"Times,serif\" font-size=\"14.00\" fill=\"#000000\">gini = 0.0</text>\n",
       "<text text-anchor=\"middle\" x=\"514.5\" y=\"-506.3\" font-family=\"Times,serif\" font-size=\"14.00\" fill=\"#000000\">samples = 24</text>\n",
       "<text text-anchor=\"middle\" x=\"514.5\" y=\"-491.3\" font-family=\"Times,serif\" font-size=\"14.00\" fill=\"#000000\">value = [0, 24]</text>\n",
       "<text text-anchor=\"middle\" x=\"514.5\" y=\"-476.3\" font-family=\"Times,serif\" font-size=\"14.00\" fill=\"#000000\">class = 불량</text>\n",
       "</g>\n",
       "<!-- 1&#45;&gt;11 -->\n",
       "<g id=\"edge11\" class=\"edge\">\n",
       "<title>1&#45;&gt;11</title>\n",
       "<path fill=\"none\" stroke=\"#000000\" d=\"M465.0811,-579.8796C472.174,-568.7735 479.8521,-556.7513 486.9937,-545.5691\"/>\n",
       "<polygon fill=\"#000000\" stroke=\"#000000\" points=\"490.1518,-547.1267 492.5846,-536.8149 484.2523,-543.3589 490.1518,-547.1267\"/>\n",
       "</g>\n",
       "<!-- 3 -->\n",
       "<g id=\"node4\" class=\"node\">\n",
       "<title>3</title>\n",
       "<polygon fill=\"#e68743\" stroke=\"#000000\" points=\"379.5,-425 179.5,-425 179.5,-342 379.5,-342 379.5,-425\"/>\n",
       "<text text-anchor=\"middle\" x=\"279.5\" y=\"-409.8\" font-family=\"Times,serif\" font-size=\"14.00\" fill=\"#000000\">ROLLING_DESCALING &lt;= 9.5</text>\n",
       "<text text-anchor=\"middle\" x=\"279.5\" y=\"-394.8\" font-family=\"Times,serif\" font-size=\"14.00\" fill=\"#000000\">gini = 0.091</text>\n",
       "<text text-anchor=\"middle\" x=\"279.5\" y=\"-379.8\" font-family=\"Times,serif\" font-size=\"14.00\" fill=\"#000000\">samples = 356</text>\n",
       "<text text-anchor=\"middle\" x=\"279.5\" y=\"-364.8\" font-family=\"Times,serif\" font-size=\"14.00\" fill=\"#000000\">value = [339, 17]</text>\n",
       "<text text-anchor=\"middle\" x=\"279.5\" y=\"-349.8\" font-family=\"Times,serif\" font-size=\"14.00\" fill=\"#000000\">class = 양품</text>\n",
       "</g>\n",
       "<!-- 2&#45;&gt;3 -->\n",
       "<g id=\"edge3\" class=\"edge\">\n",
       "<title>2&#45;&gt;3</title>\n",
       "<path fill=\"none\" stroke=\"#000000\" d=\"M333.4706,-460.8796C327.3145,-452.0534 320.7549,-442.6485 314.4064,-433.5466\"/>\n",
       "<polygon fill=\"#000000\" stroke=\"#000000\" points=\"317.2448,-431.4978 308.6533,-425.2981 311.5033,-435.5024 317.2448,-431.4978\"/>\n",
       "</g>\n",
       "<!-- 10 -->\n",
       "<g id=\"node11\" class=\"node\">\n",
       "<title>10</title>\n",
       "<polygon fill=\"#399de5\" stroke=\"#000000\" points=\"495.5,-417.5 397.5,-417.5 397.5,-349.5 495.5,-349.5 495.5,-417.5\"/>\n",
       "<text text-anchor=\"middle\" x=\"446.5\" y=\"-402.3\" font-family=\"Times,serif\" font-size=\"14.00\" fill=\"#000000\">gini = 0.0</text>\n",
       "<text text-anchor=\"middle\" x=\"446.5\" y=\"-387.3\" font-family=\"Times,serif\" font-size=\"14.00\" fill=\"#000000\">samples = 14</text>\n",
       "<text text-anchor=\"middle\" x=\"446.5\" y=\"-372.3\" font-family=\"Times,serif\" font-size=\"14.00\" fill=\"#000000\">value = [0, 14]</text>\n",
       "<text text-anchor=\"middle\" x=\"446.5\" y=\"-357.3\" font-family=\"Times,serif\" font-size=\"14.00\" fill=\"#000000\">class = 불량</text>\n",
       "</g>\n",
       "<!-- 2&#45;&gt;10 -->\n",
       "<g id=\"edge10\" class=\"edge\">\n",
       "<title>2&#45;&gt;10</title>\n",
       "<path fill=\"none\" stroke=\"#000000\" d=\"M391.8791,-460.8796C399.7963,-449.6636 408.3731,-437.5131 416.3325,-426.2372\"/>\n",
       "<polygon fill=\"#000000\" stroke=\"#000000\" points=\"419.3702,-428.003 422.2777,-417.8149 413.6514,-423.9662 419.3702,-428.003\"/>\n",
       "</g>\n",
       "<!-- 4 -->\n",
       "<g id=\"node5\" class=\"node\">\n",
       "<title>4</title>\n",
       "<polygon fill=\"#e88d4c\" stroke=\"#000000\" points=\"294.5,-306 94.5,-306 94.5,-223 294.5,-223 294.5,-306\"/>\n",
       "<text text-anchor=\"middle\" x=\"194.5\" y=\"-290.8\" font-family=\"Times,serif\" font-size=\"14.00\" fill=\"#000000\">ROLLING_DESCALING &lt;= 8.5</text>\n",
       "<text text-anchor=\"middle\" x=\"194.5\" y=\"-275.8\" font-family=\"Times,serif\" font-size=\"14.00\" fill=\"#000000\">gini = 0.163</text>\n",
       "<text text-anchor=\"middle\" x=\"194.5\" y=\"-260.8\" font-family=\"Times,serif\" font-size=\"14.00\" fill=\"#000000\">samples = 190</text>\n",
       "<text text-anchor=\"middle\" x=\"194.5\" y=\"-245.8\" font-family=\"Times,serif\" font-size=\"14.00\" fill=\"#000000\">value = [173, 17]</text>\n",
       "<text text-anchor=\"middle\" x=\"194.5\" y=\"-230.8\" font-family=\"Times,serif\" font-size=\"14.00\" fill=\"#000000\">class = 양품</text>\n",
       "</g>\n",
       "<!-- 3&#45;&gt;4 -->\n",
       "<g id=\"edge4\" class=\"edge\">\n",
       "<title>3&#45;&gt;4</title>\n",
       "<path fill=\"none\" stroke=\"#000000\" d=\"M249.7711,-341.8796C243.4667,-333.0534 236.749,-323.6485 230.2476,-314.5466\"/>\n",
       "<polygon fill=\"#000000\" stroke=\"#000000\" points=\"233.0163,-312.4011 224.3558,-306.2981 227.3201,-316.4698 233.0163,-312.4011\"/>\n",
       "</g>\n",
       "<!-- 9 -->\n",
       "<g id=\"node10\" class=\"node\">\n",
       "<title>9</title>\n",
       "<polygon fill=\"#e58139\" stroke=\"#000000\" points=\"418,-298.5 313,-298.5 313,-230.5 418,-230.5 418,-298.5\"/>\n",
       "<text text-anchor=\"middle\" x=\"365.5\" y=\"-283.3\" font-family=\"Times,serif\" font-size=\"14.00\" fill=\"#000000\">gini = 0.0</text>\n",
       "<text text-anchor=\"middle\" x=\"365.5\" y=\"-268.3\" font-family=\"Times,serif\" font-size=\"14.00\" fill=\"#000000\">samples = 166</text>\n",
       "<text text-anchor=\"middle\" x=\"365.5\" y=\"-253.3\" font-family=\"Times,serif\" font-size=\"14.00\" fill=\"#000000\">value = [166, 0]</text>\n",
       "<text text-anchor=\"middle\" x=\"365.5\" y=\"-238.3\" font-family=\"Times,serif\" font-size=\"14.00\" fill=\"#000000\">class = 양품</text>\n",
       "</g>\n",
       "<!-- 3&#45;&gt;9 -->\n",
       "<g id=\"edge9\" class=\"edge\">\n",
       "<title>3&#45;&gt;9</title>\n",
       "<path fill=\"none\" stroke=\"#000000\" d=\"M309.5786,-341.8796C317.6843,-330.6636 326.4653,-318.5131 334.6143,-307.2372\"/>\n",
       "<polygon fill=\"#000000\" stroke=\"#000000\" points=\"337.6803,-308.9701 340.701,-298.8149 332.0068,-304.8698 337.6803,-308.9701\"/>\n",
       "</g>\n",
       "<!-- 5 -->\n",
       "<g id=\"node6\" class=\"node\">\n",
       "<title>5</title>\n",
       "<polygon fill=\"#e68843\" stroke=\"#000000\" points=\"212.5,-187 12.5,-187 12.5,-104 212.5,-104 212.5,-187\"/>\n",
       "<text text-anchor=\"middle\" x=\"112.5\" y=\"-171.8\" font-family=\"Times,serif\" font-size=\"14.00\" fill=\"#000000\">ROLLING_DESCALING &lt;= 7.5</text>\n",
       "<text text-anchor=\"middle\" x=\"112.5\" y=\"-156.8\" font-family=\"Times,serif\" font-size=\"14.00\" fill=\"#000000\">gini = 0.094</text>\n",
       "<text text-anchor=\"middle\" x=\"112.5\" y=\"-141.8\" font-family=\"Times,serif\" font-size=\"14.00\" fill=\"#000000\">samples = 182</text>\n",
       "<text text-anchor=\"middle\" x=\"112.5\" y=\"-126.8\" font-family=\"Times,serif\" font-size=\"14.00\" fill=\"#000000\">value = [173, 9]</text>\n",
       "<text text-anchor=\"middle\" x=\"112.5\" y=\"-111.8\" font-family=\"Times,serif\" font-size=\"14.00\" fill=\"#000000\">class = 양품</text>\n",
       "</g>\n",
       "<!-- 4&#45;&gt;5 -->\n",
       "<g id=\"edge5\" class=\"edge\">\n",
       "<title>4&#45;&gt;5</title>\n",
       "<path fill=\"none\" stroke=\"#000000\" d=\"M165.8204,-222.8796C159.7385,-214.0534 153.2578,-204.6485 146.9859,-195.5466\"/>\n",
       "<polygon fill=\"#000000\" stroke=\"#000000\" points=\"149.8582,-193.5465 141.302,-187.2981 144.0941,-197.5184 149.8582,-193.5465\"/>\n",
       "</g>\n",
       "<!-- 8 -->\n",
       "<g id=\"node9\" class=\"node\">\n",
       "<title>8</title>\n",
       "<polygon fill=\"#399de5\" stroke=\"#000000\" points=\"322.5,-179.5 230.5,-179.5 230.5,-111.5 322.5,-111.5 322.5,-179.5\"/>\n",
       "<text text-anchor=\"middle\" x=\"276.5\" y=\"-164.3\" font-family=\"Times,serif\" font-size=\"14.00\" fill=\"#000000\">gini = 0.0</text>\n",
       "<text text-anchor=\"middle\" x=\"276.5\" y=\"-149.3\" font-family=\"Times,serif\" font-size=\"14.00\" fill=\"#000000\">samples = 8</text>\n",
       "<text text-anchor=\"middle\" x=\"276.5\" y=\"-134.3\" font-family=\"Times,serif\" font-size=\"14.00\" fill=\"#000000\">value = [0, 8]</text>\n",
       "<text text-anchor=\"middle\" x=\"276.5\" y=\"-119.3\" font-family=\"Times,serif\" font-size=\"14.00\" fill=\"#000000\">class = 불량</text>\n",
       "</g>\n",
       "<!-- 4&#45;&gt;8 -->\n",
       "<g id=\"edge8\" class=\"edge\">\n",
       "<title>4&#45;&gt;8</title>\n",
       "<path fill=\"none\" stroke=\"#000000\" d=\"M223.1796,-222.8796C230.9083,-211.6636 239.2809,-199.5131 247.0508,-188.2372\"/>\n",
       "<polygon fill=\"#000000\" stroke=\"#000000\" points=\"250.0623,-190.0353 252.8544,-179.8149 244.2982,-186.0634 250.0623,-190.0353\"/>\n",
       "</g>\n",
       "<!-- 6 -->\n",
       "<g id=\"node7\" class=\"node\">\n",
       "<title>6</title>\n",
       "<polygon fill=\"#e78c4a\" stroke=\"#000000\" points=\"105,-68 0,-68 0,0 105,0 105,-68\"/>\n",
       "<text text-anchor=\"middle\" x=\"52.5\" y=\"-52.8\" font-family=\"Times,serif\" font-size=\"14.00\" fill=\"#000000\">gini = 0.147</text>\n",
       "<text text-anchor=\"middle\" x=\"52.5\" y=\"-37.8\" font-family=\"Times,serif\" font-size=\"14.00\" fill=\"#000000\">samples = 113</text>\n",
       "<text text-anchor=\"middle\" x=\"52.5\" y=\"-22.8\" font-family=\"Times,serif\" font-size=\"14.00\" fill=\"#000000\">value = [104, 9]</text>\n",
       "<text text-anchor=\"middle\" x=\"52.5\" y=\"-7.8\" font-family=\"Times,serif\" font-size=\"14.00\" fill=\"#000000\">class = 양품</text>\n",
       "</g>\n",
       "<!-- 5&#45;&gt;6 -->\n",
       "<g id=\"edge6\" class=\"edge\">\n",
       "<title>5&#45;&gt;6</title>\n",
       "<path fill=\"none\" stroke=\"#000000\" d=\"M90.1582,-103.9815C85.4598,-95.2504 80.4929,-86.0202 75.7617,-77.2281\"/>\n",
       "<polygon fill=\"#000000\" stroke=\"#000000\" points=\"78.7586,-75.4111 70.9379,-68.2637 72.5944,-78.7282 78.7586,-75.4111\"/>\n",
       "</g>\n",
       "<!-- 7 -->\n",
       "<g id=\"node8\" class=\"node\">\n",
       "<title>7</title>\n",
       "<polygon fill=\"#e58139\" stroke=\"#000000\" points=\"221.5,-68 123.5,-68 123.5,0 221.5,0 221.5,-68\"/>\n",
       "<text text-anchor=\"middle\" x=\"172.5\" y=\"-52.8\" font-family=\"Times,serif\" font-size=\"14.00\" fill=\"#000000\">gini = 0.0</text>\n",
       "<text text-anchor=\"middle\" x=\"172.5\" y=\"-37.8\" font-family=\"Times,serif\" font-size=\"14.00\" fill=\"#000000\">samples = 69</text>\n",
       "<text text-anchor=\"middle\" x=\"172.5\" y=\"-22.8\" font-family=\"Times,serif\" font-size=\"14.00\" fill=\"#000000\">value = [69, 0]</text>\n",
       "<text text-anchor=\"middle\" x=\"172.5\" y=\"-7.8\" font-family=\"Times,serif\" font-size=\"14.00\" fill=\"#000000\">class = 양품</text>\n",
       "</g>\n",
       "<!-- 5&#45;&gt;7 -->\n",
       "<g id=\"edge7\" class=\"edge\">\n",
       "<title>5&#45;&gt;7</title>\n",
       "<path fill=\"none\" stroke=\"#000000\" d=\"M134.8418,-103.9815C139.5402,-95.2504 144.5071,-86.0202 149.2383,-77.2281\"/>\n",
       "<polygon fill=\"#000000\" stroke=\"#000000\" points=\"152.4056,-78.7282 154.0621,-68.2637 146.2414,-75.4111 152.4056,-78.7282\"/>\n",
       "</g>\n",
       "</g>\n",
       "</svg>\n"
      ],
      "text/plain": [
       "<graphviz.files.Source at 0x7f63b5410a90>"
      ]
     },
     "metadata": {},
     "output_type": "display_data"
    }
   ],
   "source": [
    "tree_final = DecisionTreeClassifier(min_samples_leaf = 6, max_depth = 6, random_state = 1234)\n",
    "tree_final.fit(df_train_x, df_train_y)\n",
    "\n",
    "export_graphviz(tree_final, out_file = 'tree_final.dot', class_names = ['양품','불량'],\n",
    "                feature_names = v_feature_name, impurity = True, filled = True)\n",
    "with open('tree_final.dot') as f:\n",
    "    dot_graph = f.read()\n",
    "display(graphviz.Source(dot_graph))"
   ]
  },
  {
   "cell_type": "code",
   "execution_count": 96,
   "metadata": {},
   "outputs": [],
   "source": [
    "import pydot\n",
    "(graph,) = pydot.graph_from_dot_file('tree_final.dot',encoding='utf8')\n",
    "graph.write_png('decisionTree.png')"
   ]
  },
  {
   "cell_type": "markdown",
   "metadata": {},
   "source": [
    "> 의사결정나무를 통해 압연온도가 scale 불량 발생에 미치는 영향이 크다는 것을 확인할 수 있었다.\n"
   ]
  },
  {
   "cell_type": "markdown",
   "metadata": {},
   "source": [
    "## 최종 모델 평가"
   ]
  },
  {
   "cell_type": "code",
   "execution_count": 95,
   "metadata": {},
   "outputs": [
    {
     "name": "stdout",
     "output_type": "stream",
     "text": [
      "Accuracy: 0.986047\n",
      "\n",
      "Confusion matrix : \n",
      "[[144   0]\n",
      " [  3  68]]\n"
     ]
    }
   ],
   "source": [
    "y_pred = tree_final.predict(df_test_x)\n",
    "print('Accuracy: {0:3f}\\n'.format(tree_final.score(df_test_x, df_test_y)))\n",
    "print('Confusion matrix : \\n{}'.format(confusion_matrix(df_test_y, y_pred)))"
   ]
  },
  {
   "cell_type": "markdown",
   "metadata": {},
   "source": [
    "> 최종 모델의 정확도는 98%로 이전에 비해 개선된 것을 알 수 있다"
   ]
  },
  {
   "cell_type": "markdown",
   "metadata": {},
   "source": [
    "## 결론 도출 및 개선안"
   ]
  },
  {
   "cell_type": "markdown",
   "metadata": {},
   "source": [
    "### 최종 모델을 통해 scale 불량 발생을 줄이기 위한 개선 방법 3가지를 도출했다.\n",
    "    1. scale 공정 시 ROLLING_TEMP_T5(압연온도)를 1000.5도 이하로 낮춘다.\n",
    "    2. HSB를 적용하되, HSB 적용에도 불량률이 높은 점을 고려하여 적용 후 FUR_SZ_TEMP(가열로 균열대 온도)를 1175.5도 이하로 낮춘다. \n",
    "    3. ROLLING_DESCALING(압연 중 Descaling 횟수)를 9회 이하로 줄인다.\n",
    "\n"
   ]
  },
  {
   "cell_type": "markdown",
   "metadata": {},
   "source": [
    "데이터 정제의 어려움\n",
    " 하지만 많은 시도를 통해 데이터 전처리의 중요성을 알 수 있엇음 설명 변수들 간의 연관성을 이해하며 예측방법을 배울 수 있었음 .데이터 정제부터 모든 과정을 통해 한눈ㅇ 데이터 분석의 과정을 이해하며 관점을 뱅루 ㅅ ㅜ이\n",
    " \n",
    "'데이터분석의 80%는 데이터 전처리'라는 말을 이해하게 되는 데이터 분석 과제였다. 각 변수들의 특성을 파악하고 문제를 인식하고 이를 해결하기 위해 데이터 전처리를 진행하면서 그 중요성에 대해 알게 되었다. 설명변수의 데이터타입에 따라 다른 종류의 그래프를 사용하여 분석을 진행하고 의미있는 vital few를 찾아가는 과정 속에서 변수들 간의 연관성을 찾아가며 문제를 해결해나갈 수 있었다. 모델링을 통해 분류를 진행하고 이를 개선하기 위한 개선점을 찾아내는 모든 과정 속에서 데이터 분석의 과정을 이해하며 그 관점을 배울 수 있었다."
   ]
  }
 ],
 "metadata": {
  "colab": {
   "collapsed_sections": [
    "eT5FFhZkTzND",
    "4uIC-In1T5a8",
    "0JoCUJ24lDdw",
    "lCweyhu0sIv3"
   ],
   "name": "종합실습2.ipynb",
   "provenance": []
  },
  "kernelspec": {
   "display_name": "Python 3",
   "language": "python",
   "name": "python3"
  },
  "language_info": {
   "codemirror_mode": {
    "name": "ipython",
    "version": 3
   },
   "file_extension": ".py",
   "mimetype": "text/x-python",
   "name": "python",
   "nbconvert_exporter": "python",
   "pygments_lexer": "ipython3",
   "version": "3.8.3"
  }
 },
 "nbformat": 4,
 "nbformat_minor": 1
}
